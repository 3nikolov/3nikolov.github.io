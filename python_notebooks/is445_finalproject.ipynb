{
 "cells": [
  {
   "cell_type": "markdown",
   "metadata": {},
   "source": [
    "# Final Project, Part 2\n",
    "\n",
    "The purpose of this assignment is to create a 'Viz for Experts' with an interactive dashboard interface for exploring your data.\n",
    "\n",
    "For this submission option, you will submit your work through this Workspace.\n",
    "    \n",
    "**Please see Homework Prompt in PrairieLearn interface for more details on the requirements for this assignment.**\n",
    "\n",
    "A rough outline of elements of code and write-up is shown below:"
   ]
  },
  {
   "cell_type": "code",
   "execution_count": null,
   "metadata": {},
   "outputs": [],
   "source": []
  },
  {
   "cell_type": "markdown",
   "metadata": {},
   "source": [
    "## Code:\n",
    "\n",
    " * An interactive dashboard within your Workspace that helps an expert explore your dataset thoroughly.\n",
    " * There should be a \"dashboard\" type aspect to this - i.e. a linked view exploring your dataset in an interactive way (like in Lab \\#4) with [bqplot](https://bqplot.github.io/bqplot/).\n",
    " * Do not delete any cells, *just comment them out*. Show your work.\n",
    "\n"
   ]
  },
  {
   "cell_type": "code",
   "execution_count": 1,
   "metadata": {},
   "outputs": [
    {
     "name": "stderr",
     "output_type": "stream",
     "text": [
      "Matplotlib created a temporary config/cache directory at /tmp/matplotlib-d_ck0wz5 because the default path (/tmp/cache/matplotlib) is not a writable directory; it is highly recommended to set the MPLCONFIGDIR environment variable to a writable directory, in particular to speed up the import of Matplotlib and to better support multiprocessing.\n"
     ]
    }
   ],
   "source": [
    "import pandas as pd\n",
    "import numpy as np\n",
    "import matplotlib.pyplot as plt\n",
    "import seaborn as sns\n",
    "import ipywidgets\n",
    "import scipy"
   ]
  },
  {
   "cell_type": "code",
   "execution_count": 2,
   "metadata": {},
   "outputs": [],
   "source": [
    "df = pd.read_excel('https://www.eia.gov/dnav/pet/xls/PET_PRI_GND_A_EPM0_PTE_DPGAL_W.xls', sheet_name=4)"
   ]
  },
  {
   "cell_type": "code",
   "execution_count": 3,
   "metadata": {},
   "outputs": [
    {
     "data": {
      "text/html": [
       "<div>\n",
       "<style scoped>\n",
       "    .dataframe tbody tr th:only-of-type {\n",
       "        vertical-align: middle;\n",
       "    }\n",
       "\n",
       "    .dataframe tbody tr th {\n",
       "        vertical-align: top;\n",
       "    }\n",
       "\n",
       "    .dataframe thead th {\n",
       "        text-align: right;\n",
       "    }\n",
       "</style>\n",
       "<table border=\"1\" class=\"dataframe\">\n",
       "  <thead>\n",
       "    <tr style=\"text-align: right;\">\n",
       "      <th></th>\n",
       "      <th>Back to Contents</th>\n",
       "      <th>Data 4: Cities</th>\n",
       "      <th>Unnamed: 2</th>\n",
       "      <th>Unnamed: 3</th>\n",
       "      <th>Unnamed: 4</th>\n",
       "      <th>Unnamed: 5</th>\n",
       "      <th>Unnamed: 6</th>\n",
       "      <th>Unnamed: 7</th>\n",
       "      <th>Unnamed: 8</th>\n",
       "      <th>Unnamed: 9</th>\n",
       "      <th>Unnamed: 10</th>\n",
       "    </tr>\n",
       "  </thead>\n",
       "  <tbody>\n",
       "    <tr>\n",
       "      <th>0</th>\n",
       "      <td>Sourcekey</td>\n",
       "      <td>EMM_EPM0_PTE_YBOS_DPG</td>\n",
       "      <td>EMM_EPM0_PTE_YORD_DPG</td>\n",
       "      <td>EMM_EPM0_PTE_YCLE_DPG</td>\n",
       "      <td>EMM_EPM0_PTE_YDEN_DPG</td>\n",
       "      <td>EMM_EPM0_PTE_Y44HO_DPG</td>\n",
       "      <td>EMM_EPM0_PTE_Y05LA_DPG</td>\n",
       "      <td>EMM_EPM0_PTE_YMIA_DPG</td>\n",
       "      <td>EMM_EPM0_PTE_Y35NY_DPG</td>\n",
       "      <td>EMM_EPM0_PTE_Y05SF_DPG</td>\n",
       "      <td>EMM_EPM0_PTE_Y48SE_DPG</td>\n",
       "    </tr>\n",
       "    <tr>\n",
       "      <th>1</th>\n",
       "      <td>Date</td>\n",
       "      <td>Weekly Boston, MA All Grades All Formulations ...</td>\n",
       "      <td>Weekly Chicago All Grades All Formulations Ret...</td>\n",
       "      <td>Weekly Cleveland, OH All Grades All Formulatio...</td>\n",
       "      <td>Weekly Denver All Grades All Formulations Reta...</td>\n",
       "      <td>Weekly Houston All Grades All Formulations Ret...</td>\n",
       "      <td>Weekly Los Angeles All Grades All Formulations...</td>\n",
       "      <td>Weekly Miami, FL All Grades All Formulations R...</td>\n",
       "      <td>Weekly New York City All Grades All Formulatio...</td>\n",
       "      <td>Weekly San Francisco All Grades All Formulatio...</td>\n",
       "      <td>Weekly Seattle, WA All Grades All Formulations...</td>\n",
       "    </tr>\n",
       "    <tr>\n",
       "      <th>2</th>\n",
       "      <td>2000-06-05 00:00:00</td>\n",
       "      <td>NaN</td>\n",
       "      <td>1.99</td>\n",
       "      <td>NaN</td>\n",
       "      <td>1.534</td>\n",
       "      <td>1.529</td>\n",
       "      <td>1.591</td>\n",
       "      <td>NaN</td>\n",
       "      <td>1.654</td>\n",
       "      <td>1.805</td>\n",
       "      <td>NaN</td>\n",
       "    </tr>\n",
       "    <tr>\n",
       "      <th>3</th>\n",
       "      <td>2000-06-12 00:00:00</td>\n",
       "      <td>NaN</td>\n",
       "      <td>2.134</td>\n",
       "      <td>NaN</td>\n",
       "      <td>1.576</td>\n",
       "      <td>1.557</td>\n",
       "      <td>1.587</td>\n",
       "      <td>NaN</td>\n",
       "      <td>1.693</td>\n",
       "      <td>1.812</td>\n",
       "      <td>NaN</td>\n",
       "    </tr>\n",
       "    <tr>\n",
       "      <th>4</th>\n",
       "      <td>2000-06-19 00:00:00</td>\n",
       "      <td>NaN</td>\n",
       "      <td>2.148</td>\n",
       "      <td>NaN</td>\n",
       "      <td>1.65</td>\n",
       "      <td>1.591</td>\n",
       "      <td>1.583</td>\n",
       "      <td>NaN</td>\n",
       "      <td>1.731</td>\n",
       "      <td>1.816</td>\n",
       "      <td>NaN</td>\n",
       "    </tr>\n",
       "  </tbody>\n",
       "</table>\n",
       "</div>"
      ],
      "text/plain": [
       "      Back to Contents                                     Data 4: Cities  \\\n",
       "0            Sourcekey                              EMM_EPM0_PTE_YBOS_DPG   \n",
       "1                 Date  Weekly Boston, MA All Grades All Formulations ...   \n",
       "2  2000-06-05 00:00:00                                                NaN   \n",
       "3  2000-06-12 00:00:00                                                NaN   \n",
       "4  2000-06-19 00:00:00                                                NaN   \n",
       "\n",
       "                                          Unnamed: 2  \\\n",
       "0                              EMM_EPM0_PTE_YORD_DPG   \n",
       "1  Weekly Chicago All Grades All Formulations Ret...   \n",
       "2                                               1.99   \n",
       "3                                              2.134   \n",
       "4                                              2.148   \n",
       "\n",
       "                                          Unnamed: 3  \\\n",
       "0                              EMM_EPM0_PTE_YCLE_DPG   \n",
       "1  Weekly Cleveland, OH All Grades All Formulatio...   \n",
       "2                                                NaN   \n",
       "3                                                NaN   \n",
       "4                                                NaN   \n",
       "\n",
       "                                          Unnamed: 4  \\\n",
       "0                              EMM_EPM0_PTE_YDEN_DPG   \n",
       "1  Weekly Denver All Grades All Formulations Reta...   \n",
       "2                                              1.534   \n",
       "3                                              1.576   \n",
       "4                                               1.65   \n",
       "\n",
       "                                          Unnamed: 5  \\\n",
       "0                             EMM_EPM0_PTE_Y44HO_DPG   \n",
       "1  Weekly Houston All Grades All Formulations Ret...   \n",
       "2                                              1.529   \n",
       "3                                              1.557   \n",
       "4                                              1.591   \n",
       "\n",
       "                                          Unnamed: 6  \\\n",
       "0                             EMM_EPM0_PTE_Y05LA_DPG   \n",
       "1  Weekly Los Angeles All Grades All Formulations...   \n",
       "2                                              1.591   \n",
       "3                                              1.587   \n",
       "4                                              1.583   \n",
       "\n",
       "                                          Unnamed: 7  \\\n",
       "0                              EMM_EPM0_PTE_YMIA_DPG   \n",
       "1  Weekly Miami, FL All Grades All Formulations R...   \n",
       "2                                                NaN   \n",
       "3                                                NaN   \n",
       "4                                                NaN   \n",
       "\n",
       "                                          Unnamed: 8  \\\n",
       "0                             EMM_EPM0_PTE_Y35NY_DPG   \n",
       "1  Weekly New York City All Grades All Formulatio...   \n",
       "2                                              1.654   \n",
       "3                                              1.693   \n",
       "4                                              1.731   \n",
       "\n",
       "                                          Unnamed: 9  \\\n",
       "0                             EMM_EPM0_PTE_Y05SF_DPG   \n",
       "1  Weekly San Francisco All Grades All Formulatio...   \n",
       "2                                              1.805   \n",
       "3                                              1.812   \n",
       "4                                              1.816   \n",
       "\n",
       "                                         Unnamed: 10  \n",
       "0                             EMM_EPM0_PTE_Y48SE_DPG  \n",
       "1  Weekly Seattle, WA All Grades All Formulations...  \n",
       "2                                                NaN  \n",
       "3                                                NaN  \n",
       "4                                                NaN  "
      ]
     },
     "execution_count": 3,
     "metadata": {},
     "output_type": "execute_result"
    }
   ],
   "source": [
    "df.head()"
   ]
  },
  {
   "cell_type": "code",
   "execution_count": 4,
   "metadata": {},
   "outputs": [
    {
     "data": {
      "text/plain": [
       "['Back to Contents',\n",
       " 'Data 4: Cities',\n",
       " 'Unnamed: 2',\n",
       " 'Unnamed: 3',\n",
       " 'Unnamed: 4',\n",
       " 'Unnamed: 5',\n",
       " 'Unnamed: 6',\n",
       " 'Unnamed: 7',\n",
       " 'Unnamed: 8',\n",
       " 'Unnamed: 9',\n",
       " 'Unnamed: 10']"
      ]
     },
     "execution_count": 4,
     "metadata": {},
     "output_type": "execute_result"
    }
   ],
   "source": [
    "# sophie: add the correlation matrix, the boxplot, the stacked line chart\n",
    "# begin cleaning\n",
    "df = df.drop(0)\n",
    "df = df.fillna(value=0)\n",
    "list(df.columns)"
   ]
  },
  {
   "cell_type": "code",
   "execution_count": 5,
   "metadata": {},
   "outputs": [],
   "source": [
    "df = df.rename(columns={'Back to Contents': 'Date by Week', \n",
    "                   'Data 4: Cities': 'Boston', \n",
    "                   'Unnamed: 2': 'Chicago',\n",
    "                  'Unnamed: 3': 'Cleveland',\n",
    "                  'Unnamed: 4': 'Denver',\n",
    "                  'Unnamed: 5': 'Houston',\n",
    "                  'Unnamed: 6': 'Los Angeles',\n",
    "                  'Unnamed: 7': 'Miami',\n",
    "                  'Unnamed: 8': 'New York City',\n",
    "                  'Unnamed: 9': 'San Francisco',\n",
    "                  'Unnamed: 10': 'Seattle'})\n",
    "df = df.drop(1)"
   ]
  },
  {
   "cell_type": "code",
   "execution_count": 6,
   "metadata": {},
   "outputs": [
    {
     "data": {
      "text/html": [
       "<div>\n",
       "<style scoped>\n",
       "    .dataframe tbody tr th:only-of-type {\n",
       "        vertical-align: middle;\n",
       "    }\n",
       "\n",
       "    .dataframe tbody tr th {\n",
       "        vertical-align: top;\n",
       "    }\n",
       "\n",
       "    .dataframe thead th {\n",
       "        text-align: right;\n",
       "    }\n",
       "</style>\n",
       "<table border=\"1\" class=\"dataframe\">\n",
       "  <thead>\n",
       "    <tr style=\"text-align: right;\">\n",
       "      <th></th>\n",
       "      <th>Date by Week</th>\n",
       "      <th>Boston</th>\n",
       "      <th>Chicago</th>\n",
       "      <th>Cleveland</th>\n",
       "      <th>Denver</th>\n",
       "      <th>Houston</th>\n",
       "      <th>Los Angeles</th>\n",
       "      <th>Miami</th>\n",
       "      <th>New York City</th>\n",
       "      <th>San Francisco</th>\n",
       "      <th>Seattle</th>\n",
       "    </tr>\n",
       "  </thead>\n",
       "  <tbody>\n",
       "    <tr>\n",
       "      <th>2</th>\n",
       "      <td>2000-06-05</td>\n",
       "      <td>0.0</td>\n",
       "      <td>1.990</td>\n",
       "      <td>0.0</td>\n",
       "      <td>1.534</td>\n",
       "      <td>1.529</td>\n",
       "      <td>1.591</td>\n",
       "      <td>0.0</td>\n",
       "      <td>1.654</td>\n",
       "      <td>1.805</td>\n",
       "      <td>0.0</td>\n",
       "    </tr>\n",
       "    <tr>\n",
       "      <th>3</th>\n",
       "      <td>2000-06-12</td>\n",
       "      <td>0.0</td>\n",
       "      <td>2.134</td>\n",
       "      <td>0.0</td>\n",
       "      <td>1.576</td>\n",
       "      <td>1.557</td>\n",
       "      <td>1.587</td>\n",
       "      <td>0.0</td>\n",
       "      <td>1.693</td>\n",
       "      <td>1.812</td>\n",
       "      <td>0.0</td>\n",
       "    </tr>\n",
       "    <tr>\n",
       "      <th>4</th>\n",
       "      <td>2000-06-19</td>\n",
       "      <td>0.0</td>\n",
       "      <td>2.148</td>\n",
       "      <td>0.0</td>\n",
       "      <td>1.650</td>\n",
       "      <td>1.591</td>\n",
       "      <td>1.583</td>\n",
       "      <td>0.0</td>\n",
       "      <td>1.731</td>\n",
       "      <td>1.816</td>\n",
       "      <td>0.0</td>\n",
       "    </tr>\n",
       "    <tr>\n",
       "      <th>5</th>\n",
       "      <td>2000-06-26</td>\n",
       "      <td>0.0</td>\n",
       "      <td>2.029</td>\n",
       "      <td>0.0</td>\n",
       "      <td>1.686</td>\n",
       "      <td>1.602</td>\n",
       "      <td>1.607</td>\n",
       "      <td>0.0</td>\n",
       "      <td>1.748</td>\n",
       "      <td>1.831</td>\n",
       "      <td>0.0</td>\n",
       "    </tr>\n",
       "    <tr>\n",
       "      <th>6</th>\n",
       "      <td>2000-07-03</td>\n",
       "      <td>0.0</td>\n",
       "      <td>1.829</td>\n",
       "      <td>0.0</td>\n",
       "      <td>1.679</td>\n",
       "      <td>1.592</td>\n",
       "      <td>1.648</td>\n",
       "      <td>0.0</td>\n",
       "      <td>1.755</td>\n",
       "      <td>1.883</td>\n",
       "      <td>0.0</td>\n",
       "    </tr>\n",
       "  </tbody>\n",
       "</table>\n",
       "</div>"
      ],
      "text/plain": [
       "  Date by Week  Boston  Chicago  Cleveland  Denver  Houston  Los Angeles  \\\n",
       "2   2000-06-05     0.0    1.990        0.0   1.534    1.529        1.591   \n",
       "3   2000-06-12     0.0    2.134        0.0   1.576    1.557        1.587   \n",
       "4   2000-06-19     0.0    2.148        0.0   1.650    1.591        1.583   \n",
       "5   2000-06-26     0.0    2.029        0.0   1.686    1.602        1.607   \n",
       "6   2000-07-03     0.0    1.829        0.0   1.679    1.592        1.648   \n",
       "\n",
       "   Miami  New York City  San Francisco  Seattle  \n",
       "2    0.0          1.654          1.805      0.0  \n",
       "3    0.0          1.693          1.812      0.0  \n",
       "4    0.0          1.731          1.816      0.0  \n",
       "5    0.0          1.748          1.831      0.0  \n",
       "6    0.0          1.755          1.883      0.0  "
      ]
     },
     "execution_count": 6,
     "metadata": {},
     "output_type": "execute_result"
    }
   ],
   "source": [
    "df[['Boston', \n",
    "    'Chicago', \n",
    "    'Cleveland', \n",
    "    'Denver', \n",
    "    'Houston', \n",
    "    'Los Angeles', \n",
    "    'Miami', \n",
    "    'New York City',\n",
    "   'San Francisco',\n",
    "   'Seattle']] = df[['Boston', \n",
    "    'Chicago', \n",
    "    'Cleveland', \n",
    "    'Denver', \n",
    "    'Houston', \n",
    "    'Los Angeles', \n",
    "    'Miami', \n",
    "    'New York City',\n",
    "   'San Francisco',\n",
    "   'Seattle']].apply(pd.to_numeric)\n",
    "df['Date by Week'] = pd.to_datetime(df['Date by Week'], format='%B %d %Y', infer_datetime_format=True)\n",
    "df.head()"
   ]
  },
  {
   "cell_type": "code",
   "execution_count": null,
   "metadata": {},
   "outputs": [],
   "source": []
  },
  {
   "cell_type": "code",
   "execution_count": 7,
   "metadata": {},
   "outputs": [
    {
     "data": {
      "image/png": "[encoded data removed]",
      "text/plain": [
       "<Figure size 432x288 with 2 Axes>"
      ]
     },
     "metadata": {
      "needs_background": "light"
     },
     "output_type": "display_data"
    }
   ],
   "source": [
    "# feedback from presentation was to try and cluster higher correlated things together within the corr. matrix\n",
    "# ^ this can be done with scipy 'hierarchy' function\n",
    "# specifically: https://docs.scipy.org/doc/scipy/reference/generated/scipy.cluster.hierarchy.linkage.html#scipy.cluster.hierarchy.linkage\n",
    "# and:  https://docs.scipy.org/doc/scipy/reference/generated/scipy.cluster.hierarchy.leaves_list.html#scipy.cluster.hierarchy.leaves_list\n",
    "df2 = df.drop(['Date by Week'], axis=1)\n",
    "corr_matrix = df2.corr()\n",
    "\n",
    "from scipy.cluster import hierarchy\n",
    "links = hierarchy.linkage(corr_matrix, method='average', metric='correlation') \n",
    "ordered_links = hierarchy.leaves_list(links)\n",
    "\n",
    "reordered_corr_matrix = corr_matrix.iloc[ordered_links, ordered_links]\n",
    "sns.heatmap(reordered_corr_matrix, cmap='YlGnBu', annot=True)\n",
    "plt.show()"
   ]
  },
  {
   "cell_type": "code",
   "execution_count": 8,
   "metadata": {},
   "outputs": [
    {
     "data": {
      "image/png": "[encoded data removed]",
      "text/plain": [
       "<Figure size 576x576 with 1 Axes>"
      ]
     },
     "metadata": {
      "needs_background": "light"
     },
     "output_type": "display_data"
    }
   ],
   "source": [
    "# trying to make a correlation matrix heatmap\n",
    "# with just matplotlib and numpy because looking ahead, starboard is finicky with importing seaborn\n",
    "# this isn't as easily able to have us group by color\n",
    "correlation_matrix = df2.corr()\n",
    "plt.figure(figsize=(8,8))\n",
    "plt.imshow(correlation_matrix, cmap='YlGnBu', interpolation='nearest')\n",
    "plt.colorbar\n",
    "plt.xticks(ticks=np.arange(len(correlation_matrix.columns)), labels=correlation_matrix.columns, rotation=45)\n",
    "plt.yticks(ticks=np.arange(len(correlation_matrix.index)), labels=correlation_matrix.index)\n",
    "plt.show()"
   ]
  },
  {
   "cell_type": "code",
   "execution_count": 9,
   "metadata": {},
   "outputs": [
    {
     "data": {
      "application/vnd.jupyter.widget-view+json": {
       "model_id": "861c9af29305429e838ab70ef19aaf3b",
       "version_major": 2,
       "version_minor": 0
      },
      "text/plain": [
       "interactive(children=(Dropdown(description='colors', index=2, options=('Greys', 'Purples', 'Blues', 'Greens', …"
      ]
     },
     "metadata": {},
     "output_type": "display_data"
    },
    {
     "data": {
      "text/plain": [
       "<function __main__.make_corr_matrix(colors)>"
      ]
     },
     "execution_count": 9,
     "metadata": {},
     "output_type": "execute_result"
    }
   ],
   "source": [
    "# try to make this interactive with ipywidgets for different colormaps\n",
    "# had lots of issues with using @ipywidgets method previously used, so we moved the interaction element to the end\n",
    "def make_corr_matrix(colors):\n",
    "    plt.figure(figsize=(8,8))\n",
    "    matrix = plt.imshow(correlation_matrix, cmap=colors, interpolation='nearest')\n",
    "    plt.colorbar(matrix, label='Correlation Values')\n",
    "    plt.xticks(ticks=np.arange(len(correlation_matrix.columns)), labels=correlation_matrix.columns, rotation=45)\n",
    "    plt.yticks(ticks=np.arange(len(correlation_matrix.index)), labels=correlation_matrix.index)\n",
    "    plt.show()\n",
    "colors_menu = ipywidgets.Dropdown(options=['Greys', 'Purples', 'Blues', 'Greens', 'Oranges', 'Reds'], value = 'Blues')\n",
    "ipywidgets.interact(make_corr_matrix, colors=colors_menu)"
   ]
  },
  {
   "cell_type": "code",
   "execution_count": 10,
   "metadata": {},
   "outputs": [
    {
     "data": {
      "image/png": "[encoded data removed]",
      "text/plain": [
       "<Figure size 432x288 with 1 Axes>"
      ]
     },
     "metadata": {
      "needs_background": "light"
     },
     "output_type": "display_data"
    }
   ],
   "source": [
    "col_list = df2.columns.tolist()\n",
    "fig, ax = plt.subplots()\n",
    "figsize = (20, 20)\n",
    "ax.boxplot(df2)\n",
    "ax.set_xticks(range(1, len(col_list) + 1))\n",
    "ax.set_xticklabels(col_list, rotation=90)\n",
    "plt.show()"
   ]
  },
  {
   "cell_type": "code",
   "execution_count": 11,
   "metadata": {},
   "outputs": [
    {
     "data": {
      "application/vnd.jupyter.widget-view+json": {
       "model_id": "fa8bdb93ad764fd2bd56a06302af31b7",
       "version_major": 2,
       "version_minor": 0
      },
      "text/plain": [
       "interactive(children=(Dropdown(description='city', options=('Boston', 'Chicago', 'Cleveland', 'Denver', 'Houst…"
      ]
     },
     "metadata": {},
     "output_type": "display_data"
    }
   ],
   "source": [
    "# try to get just one boxplot with a dropdown link\n",
    "columns = list(df2)\n",
    "@ipywidgets.interact(city = ipywidgets.Dropdown(options=columns, value='Boston'))\n",
    "def create_boxplot(city):\n",
    "    fig, ax = plt.subplots()\n",
    "    figsize = (20, 20)\n",
    "    ax.boxplot(df2[city])\n",
    "    ax.set_xticks([1])\n",
    "    ax.set_xticklabels([city])\n",
    "    plt.show()"
   ]
  },
  {
   "cell_type": "code",
   "execution_count": 12,
   "metadata": {},
   "outputs": [
    {
     "data": {
      "application/vnd.jupyter.widget-view+json": {
       "model_id": "91242f62161d4f3ca4329a723cd2d431",
       "version_major": 2,
       "version_minor": 0
      },
      "text/plain": [
       "interactive(children=(SelectMultiple(description='cities', index=(0, 1), options=('Boston', 'Chicago', 'Clevel…"
      ]
     },
     "metadata": {},
     "output_type": "display_data"
    },
    {
     "data": {
      "text/plain": [
       "<function __main__.create_boxplots(cities)>"
      ]
     },
     "execution_count": 12,
     "metadata": {},
     "output_type": "execute_result"
    }
   ],
   "source": [
    "\n",
    "# how to use select multiple widget as a user: \n",
    "# \"Multiple values can be selected with shift and/or ctrl (or command) pressed and mouse clicks or arrow keys.\"\n",
    "columns_list = list(df2)\n",
    "def create_boxplots(cities):\n",
    "    fig, ax = plt.subplots()\n",
    "    figsize = (10, 10)\n",
    "    data = [df2[city] for city in cities]\n",
    "    ax.boxplot(data)\n",
    "    ax.set_xticks(range(1, len(cities) + 1))\n",
    "    ax.set_xticklabels(cities, rotation=90)\n",
    "    ax.set_ylabel('Price')\n",
    "selected_cities = ipywidgets.SelectMultiple(options=columns_list, value=['Boston', 'Chicago'])\n",
    "ipywidgets.interact(create_boxplots, cities=selected_cities)\n"
   ]
  },
  {
   "cell_type": "code",
   "execution_count": 13,
   "metadata": {},
   "outputs": [
    {
     "data": {
      "application/vnd.jupyter.widget-view+json": {
       "model_id": "dd9821c68c704cf7ac8dbe778bc6dfef",
       "version_major": 2,
       "version_minor": 0
      },
      "text/plain": [
       "interactive(children=(SelectMultiple(description='cities', index=(0, 4), options=('Boston', 'Chicago', 'Clevel…"
      ]
     },
     "metadata": {},
     "output_type": "display_data"
    },
    {
     "data": {
      "text/plain": [
       "<function __main__.create_stacked_lineplot(cities)>"
      ]
     },
     "execution_count": 13,
     "metadata": {},
     "output_type": "execute_result"
    }
   ],
   "source": [
    "def create_stacked_lineplot(cities):\n",
    "    fig, ax = plt.subplots()\n",
    "    figsize = (10, 10)\n",
    "    for city in cities:\n",
    "        plt.plot(df['Date by Week'], df[city], label=city)\n",
    "    plt.xlabel('Date')\n",
    "    plt.ylabel('Price')\n",
    "    plt.legend()\n",
    "    plt.show()\n",
    "selected_cities = ipywidgets.SelectMultiple(options=columns_list, value=['Boston', 'Houston'])\n",
    "ipywidgets.interact(create_stacked_lineplot, cities=selected_cities)\n"
   ]
  },
  {
   "cell_type": "code",
   "execution_count": 14,
   "metadata": {},
   "outputs": [
    {
     "data": {
      "application/vnd.jupyter.widget-view+json": {
       "model_id": "4b9625bb84954630b9441c2189c108be",
       "version_major": 2,
       "version_minor": 0
      },
      "text/plain": [
       "interactive(children=(SelectMultiple(description='cities', index=(1, 8), options=('Boston', 'Chicago', 'Clevel…"
      ]
     },
     "metadata": {},
     "output_type": "display_data"
    },
    {
     "data": {
      "text/plain": [
       "<function __main__.create_both_plots(cities)>"
      ]
     },
     "execution_count": 14,
     "metadata": {},
     "output_type": "execute_result"
    }
   ],
   "source": [
    "# try to get both stacked lineplot and boxplot next to each other and manipulated by same widget\n",
    "# based on our previous code above ^ but manipulated by axis number \n",
    "\n",
    "#constants\n",
    "df2 = df.drop(['Date by Week'], axis=1)\n",
    "columns_list = list(df2)\n",
    "\n",
    "def create_both_plots(cities):\n",
    "    fig, axes = plt.subplots(nrows=1, ncols=2, figsize=(18,10))\n",
    "    boxplot_data = [df2[city] for city in cities]\n",
    "    axes[0].boxplot(boxplot_data)\n",
    "    axes[0].set_xticks(range(1, len(cities) + 1))\n",
    "    axes[0].set_xticklabels(cities, rotation=45)\n",
    "    axes[0].set_ylabel('Price ($)')\n",
    "    for city in cities:\n",
    "        axes[1].plot(df['Date by Week'], df[city], label=city)\n",
    "    axes[1].set_xlabel('Date')\n",
    "    axes[1].set_ylabel('Price ($)')\n",
    "    axes[1].legend()\n",
    "    plt.show()\n",
    "selection = ipywidgets.SelectMultiple(options=columns_list, value=['Chicago', 'San Francisco'])\n",
    "ipywidgets.interact(create_both_plots, cities=selection)\n"
   ]
  },
  {
   "cell_type": "code",
   "execution_count": null,
   "metadata": {},
   "outputs": [],
   "source": []
  },
  {
   "cell_type": "markdown",
   "metadata": {},
   "source": [
    "Final Interactive Visualizations Code"
   ]
  },
  {
   "cell_type": "code",
   "execution_count": 15,
   "metadata": {},
   "outputs": [
    {
     "data": {
      "application/vnd.jupyter.widget-view+json": {
       "model_id": "aa881abbeead4250ad8fd1055e686845",
       "version_major": 2,
       "version_minor": 0
      },
      "text/plain": [
       "interactive(children=(Dropdown(description='colors', index=2, options=('Greys', 'Purples', 'Blues', 'Greens', …"
      ]
     },
     "metadata": {},
     "output_type": "display_data"
    },
    {
     "data": {
      "text/plain": [
       "<function __main__.make_corr_matrix(colors)>"
      ]
     },
     "execution_count": 15,
     "metadata": {},
     "output_type": "execute_result"
    }
   ],
   "source": [
    "def make_corr_matrix(colors):\n",
    "    plt.figure(figsize=(8,8))\n",
    "    matrix = plt.imshow(correlation_matrix, cmap=colors, interpolation='nearest')\n",
    "    plt.colorbar(matrix, label='Correlation Values')\n",
    "    plt.xticks(ticks=np.arange(len(correlation_matrix.columns)), labels=correlation_matrix.columns, rotation=45)\n",
    "    plt.yticks(ticks=np.arange(len(correlation_matrix.index)), labels=correlation_matrix.index)\n",
    "    plt.show()\n",
    "colors_menu = ipywidgets.Dropdown(options=['Greys', 'Purples', 'Blues', 'Greens', 'Oranges', 'Reds'], value = 'Blues')\n",
    "ipywidgets.interact(make_corr_matrix, colors=colors_menu)"
   ]
  },
  {
   "cell_type": "code",
   "execution_count": 16,
   "metadata": {},
   "outputs": [
    {
     "data": {
      "application/vnd.jupyter.widget-view+json": {
       "model_id": "063bd5c9fb28422d8677b99efefc1653",
       "version_major": 2,
       "version_minor": 0
      },
      "text/plain": [
       "interactive(children=(SelectMultiple(description='cities', index=(1, 8), options=('Boston', 'Chicago', 'Clevel…"
      ]
     },
     "metadata": {},
     "output_type": "display_data"
    },
    {
     "data": {
      "text/plain": [
       "<function __main__.create_both_plots(cities)>"
      ]
     },
     "execution_count": 16,
     "metadata": {},
     "output_type": "execute_result"
    }
   ],
   "source": [
    "df2 = df.drop(['Date by Week'], axis=1)\n",
    "columns_list = list(df2)\n",
    "\n",
    "def create_both_plots(cities):\n",
    "    fig, axes = plt.subplots(nrows=1, ncols=2, figsize=(18,10))\n",
    "    boxplot_data = [df2[city] for city in cities]\n",
    "    axes[0].boxplot(boxplot_data)\n",
    "    axes[0].set_xticks(range(1, len(cities) + 1))\n",
    "    axes[0].set_xticklabels(cities, rotation=45)\n",
    "    axes[0].set_ylabel('Price ($)')\n",
    "    for city in cities:\n",
    "        axes[1].plot(df['Date by Week'], df[city], label=city)\n",
    "    axes[1].set_xlabel('Date')\n",
    "    axes[1].set_ylabel('Price ($)')\n",
    "    axes[1].legend()\n",
    "    plt.show()\n",
    "selection = ipywidgets.SelectMultiple(options=columns_list, value=['Chicago', 'San Francisco'])\n",
    "ipywidgets.interact(create_both_plots, cities=selection)\n"
   ]
  },
  {
   "cell_type": "markdown",
   "metadata": {},
   "source": [
    "## Prose:\n",
    "\n",
    "* One paragraph explaining how to use the dashboard you created, to help someone who is not an expert understand your dataset.\n",
    "* A list of 1 or more contextual datasets you have identified, links to where they reside, and a sentence about why they might be useful in telling the final story.\n",
    "  * by \"contextual dataset\" here means a dataset that would add context to your chosen dataset. For example, if your dataset is the Champaign bus routes, some interesting contextual datasets could be the Chicago bus routes, or the Springfield bus routes, or the Amtrak routes in Champaign\n",
    "  * you do not have to do anything with this dataset at the moment beyond writing a bit about why it would be useful. Looking forward, you will want to include \"contextual visualizations\" (which you may or may not generate on your own) in your Final Project, Part 3 and identifying a possibly useful dataset is a great way to start looking for contextual visualizations.\n",
    "* If you have identified your dataset as a \"large one\" (i.e. larger than the GitHub file upload limit) comment on if you want to revise your plan for hosting this data or not. If this does not apply to your dataset please explicitly state this.\n",
    "* Additionally, please note that as of writing, it is not possible to embed images within Starboard. Be sure to address how you plan on including your contextual dataset to add context to your main dataset given that you won't be able to directly embed images if you plan on using Starboard for Part 3.1 of the Final Project.\n"
   ]
  },
  {
   "cell_type": "markdown",
   "metadata": {},
   "source": [
    "For our first interactive visualization, we created a correlation matrix heat map to identify quantifiable relationships across each city and the varying strengths city-to-city relationships have. All the cities in the dataset (Boston, Chicago, Cleveland, Denver, Houston, Los Angeles, Miami, New York City, San Francisco, and Seattle) are listed on the X and Y axes, and each city is compared to all the other cities. With this visualization, we can identify cities with the strongest and weakest relationships based on how high or low the correlation values are on the right side using the 'Correlation Values' legend. The lighter the color of each box, the weaker the relationship between the two cities and the darker the color is for each box, the stronger the relationship is between the two cities. Users get the option to select a sequential colormap to visualize the relationships based on personal preferences and to accommodate for the fact that we wanted our light-to-dark scale to be very uniform, which meant choosing color palettes based on a gradient rather than color palettes that used multiple colors. The final two graphs that are listed side by side beneath the correlation matrix graph was created to visualize more detail-oriented insights on a city-by-city basis. Users get the option to select a city (or multiple cities) of their choice and view a box plot on the left which illustrates the upper and lower quartiles, and the median for gas prices on a dollars per gallon level. The points sometimes above and below the boxes are outliers. The stacked line graph on the right visualizes the trends of the dollars per gallon cost for the selected city over time from 2000 to present day. Users can go city-by-city and compare and contrast the rates over time using these two interactive visualizations while getting a more detail-oriented analysis of the city's trends in comparison to the others. \n",
    "\n",
    "Our contextual datasets go back to how initially as a team we each analyzed different grades before locking in on the \"all grades\" dataset. Other grades we explored included: \n",
    "- regular: https://www.eia.gov/dnav/pet/pet_pri_gnd_a_epmr_pte_dpgal_w.htm\n",
    "- premium: https://www.eia.gov/dnav/pet/pet_pri_gnd_a_epmp_pte_dpgal_w.htm\n",
    "- diesel: https://www.eia.gov/dnav/pet/pet_pri_gnd_a_epd2d_pte_dpgal_w.htm\n",
    "- midgrade: https://www.eia.gov/dnav/pet/pet_pri_gnd_a_epmm_pte_dpgal_w.htm\n",
    "\n",
    "We were interested in seeing if different grades of gas showed significant disparities. By obtaining insight from these datasets, we were hoping to analyze a wider variety of data and see how all grades may have a more or less significant impact on the dollars per gallon trends over time in comparison to the other grades. Through our interactive plots above, we hope to provide data-driven insights on a high and low level to any audience type while empowering users with the navigating ability to filter out specific inputs to view the trends to any questions they may have regarding the dataset selected."
   ]
  },
  {
   "cell_type": "markdown",
   "metadata": {},
   "source": [
    "## Plot Summary\n",
    "\n",
    "Summarize the characteristics of the dataset in words: what does it represent, what are the fields/columns/rows, what data types are they, etc."
   ]
  },
  {
   "cell_type": "markdown",
   "metadata": {},
   "source": [
    "For our dataset, we selected a dataset from the US Energy Information Administration which consists of US Gas Prices for all grades of gas across major US cities. The types of data include the date with data starting from June 5, 2000 to present day and weekly gasoline prices for all grades all formulations retail in dollars per gallon for Boston, Chicago, Cleveland, Denver, Houston, Los Angeles, Miami, New York City, San Francisco, and Seattle. All of the data in this dataset are quantitative, numeric values where the rows represent the date on a weekly basis and the columns represent the values in gasoline prices in dollars per gallon. Originally, each member of our team analyzed a different grade but after doing some initial data analysis work, we came to the conclusion that it was best for us to isolate and delve into the \"all grades\" dataset that identified weekly data from 2000-present day across major US cities."
   ]
  },
  {
   "cell_type": "code",
   "execution_count": null,
   "metadata": {},
   "outputs": [],
   "source": []
  }
 ],
 "metadata": {
  "kernelspec": {
   "display_name": "Python 3",
   "language": "python",
   "name": "python3"
  },
  "language_info": {
   "codemirror_mode": {
    "name": "ipython",
    "version": 3
   },
   "file_extension": ".py",
   "mimetype": "text/x-python",
   "name": "python",
   "nbconvert_exporter": "python",
   "pygments_lexer": "ipython3",
   "version": "3.8.6"
  },
  "widgets": {
   "application/vnd.jupyter.widget-state+json": {
    "state": {
     "00d70c5fae5342958ab0844af3c4abb8": {
      "model_module": "@jupyter-widgets/base",
      "model_module_version": "1.2.0",
      "model_name": "LayoutModel",
      "state": {}
     },
     "00da4ad8e3c442c2a32aed8ca6f4f48e": {
      "model_module": "@jupyter-widgets/base",
      "model_module_version": "1.2.0",
      "model_name": "LayoutModel",
      "state": {}
     },
     "06fa8ac2fef64762b9409af503d1c03d": {
      "model_module": "@jupyter-widgets/base",
      "model_module_version": "1.2.0",
      "model_name": "LayoutModel",
      "state": {}
     },
     "085b5aa4cc89409db69914d94f2ab4f8": {
      "model_module": "@jupyter-widgets/output",
      "model_module_version": "1.0.0",
      "model_name": "OutputModel",
      "state": {
       "layout": "IPY_MODEL_9163fc6280384830a2c996b34d900dc4",
       "outputs": [
        {
         "data": {
          "image/png": "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\n",
          "text/plain": "<Figure size 432x288 with 1 Axes>"
         },
         "metadata": {
          "needs_background": "light"
         },
         "output_type": "display_data"
        }
       ]
      }
     },
     "0a638be1f22c4adb9aabf20e82659420": {
      "model_module": "@jupyter-widgets/base",
      "model_module_version": "1.2.0",
      "model_name": "LayoutModel",
      "state": {}
     },
     "0dff87b44bd54e35b13f417c0b99e5ed": {
      "model_module": "@jupyter-widgets/controls",
      "model_module_version": "1.5.0",
      "model_name": "DescriptionStyleModel",
      "state": {
       "description_width": ""
      }
     },
     "0f4e632efdfd4f09a3cb0c86bbd0418e": {
      "model_module": "@jupyter-widgets/output",
      "model_module_version": "1.0.0",
      "model_name": "OutputModel",
      "state": {
       "layout": "IPY_MODEL_a607562470e6411896915f93efea4784",
       "outputs": [
        {
         "data": {
          "image/png": "iVBORw0KGgoAAAANSUhEUgAAAhYAAAHcCAYAAACK3OOcAAAAOXRFWHRTb2Z0d2FyZQBNYXRwbG90bGliIHZlcnNpb24zLjMuMywgaHR0cHM6Ly9tYXRwbG90bGliLm9yZy/Il7ecAAAACXBIWXMAAAsTAAALEwEAmpwYAABdVUlEQVR4nO3dd5ycZdXG8d+VkNB7F5AgIlJEuhRBlI50aRGlCESEgOCrNBWwgogoChhDkSJSVJAiTYFIkQ4BEkCNoBBRIPQeEs77x7knzI47m51kZmd2c335zIeZp94zO5nnPOduigjMzMzMmmFQuwtgZmZmA4cDCzMzM2saBxZmZmbWNA4szMzMrGkcWJiZmVnTOLAwMzOzpnFgYWZm1g9IOkfSs5LG1VkvST+VNEHSQ5LWrFq3laS/lnVHtbKcDizMzMz6h3OBrXpYvzWwQnmMAH4OIGkwcHpZvzIwXNLKrSqkAwszM7N+ICJuAV7oYZMdgPMj3QksIGlJYF1gQkQ8HhGTgYvLti0xW6sObGZmNhANnnPJiKlvN/248c6L44G3qhaNjojRDRxiKeCpqtcTy7Luln9sRss5PQ4szMzMGhBT32b2JbZs+nHfeurityJi7Zk4hLpZFj0sbwkHFmZmZo2QkDqyJcFEYJmq10sDTwND6yxviY78ZMzMzKxhVwJ7ld4h6wEvR8R/gHuAFSQtJ2kosEfZtiWcsTAzM2uAALXhvlzSRcAmwCKSJgLHAUMAImIUcA2wDTABeAPYt6ybImkkcD0wGDgnIsa3qpwOLMzMzPqBiBg+nfUBHFxn3TVk4NFyDizMzMwa0rFtLDqCAwszM7MGObCoz5+MmZmZNY0zFmZmZg2SuhsawsAZCzMzM2siZyzMzMwaInxfXp8/GTMzM2saZyzMzMwa5F4h9TmwMDMza4DkwKIn/mTMzMysaZyxMDMza4jaMldIf+FPxszMzJrGGQszM7MGuY1FfQ4szMzMGuJJyHriT8bMzMyaxhkLMzOzBjljUZ8/GTMzM2saZyzMzMwaILLDqXXPgYWZmVlD3HizJ/5kzMzMrGmcsTAzM2uE5wrpkT8ZMzMzaxpnLMzMzBrkjEV9/mTMzMysaZyxMDMza4jwfXl9DizMzMwa5KqQ+vzJmJmZWdM4Y2FmZtYAeYCsHvmTMTMzs6ZxxsLMzKxB8n15XQ4szMzMGuSqkPr8yZiZmVnTOGNhZmbWCAnJ06bX48CiiTR49tDgudtdjGnmGbZYu4vQxRtPvtjuIkwz/7ILtLsIXUyJzvqRmmu2d9tdhC4mPfFKu4vQxeDF5m93EaZZbsHO+ls9MWFyu4swzTtvP8/Ud17rrH9cswAHFk2kwXMz+xJbtrsY06z304PbXYQu7jv0N+0uwjRb/mLndhehi5cmd1at5BoLvd3uInRx1uf/2O4idDH/4du0uwjT/HLHV9tdhC4+v9PEdhdhmqcePKFlx3Ybi/ocWJiZmTVAuFdIT/zJmJmZWdM4Y2FmZtYQj7zZE38yZmZm1jTOWJiZmTXIGYv6/MmYmZlZ0zhjYWZm1hC5V0gPHFiYmZk1ylUhdfmTMTMzs6ZxYGFmZtYIZePNZj96dWppK0l/lTRB0lHdrF9Q0uWSHpJ0t6RVq9YdLmm8pHGSLpI0RxM/lWkcWJiZmfUDkgYDpwNbAysDwyWtXLPZMcDYiFgN2As4tey7FHAosHZErAoMBvZoRTkdWJiZmTVA5OymzX70wrrAhIh4PCImAxcDO9RsszJwI0BEPAYMk7R4WTcbMKek2YC5gKeb8XnUcmBhZmbWIDGo6Q9gEUn3Vj1G1Jx2KeCpqtcTy7JqDwI7A0haF1gWWDoi/g2cDDwJ/Ad4OSJuaP4n048CC0lTJY2V9KCk+yVtMIPHOabZZTMzM2uCSRGxdtVjdM367tIaUfP6RGBBSWOBQ4AHgCmSFiSzG8sB7wPmlvS55hY/9afupm9GxOoAkrYETgA+MQPHOQb4fhPLZWZms5g2jbw5EVim6vXS1FRnRMQrwL4AyvqVJ8pjS+CJiHiurLsM2AD4VbML2W8yFjXmA16E/OAk/bC0cn1Y0u5l+ZKSbilZjnGSNpJ0Ilm/NFbShWW7r5T14yQdVpYNk/SopDNLC9obJM3ZpvdqZmYGcA+wgqTlJA0lG19eWb2BpAXKOoD9gVtKsPEksJ6kuUrAsSnwaCsK2Z8yFnOW1M4cwJLAp8rynYHVgY8CiwD3SLoF+CxwfUR8r7SknSsibpU0sirzsRYZ2X2MTDHdJenPZNCyAjA8Ig6QdCnwGbqJ7EodWNaDDZ6rBW/bzMw6i6B3jS2bKiKmSBoJXE/26jgnIsZLOrCsHwWsBJwvaSrwCLBfWXeXpN8C9wNTyCqS2qqWpuhPgUV1Vcj65Ae3KvBx4KKImAo8UwKDdcjI7hxJQ4DfR8TYbo75ceDyiHi9HPcyYCMyAnyiap/7gGHdFarUgY0GGDR0odq6LjMzG2hE2/L9EXENcE3NslFVz+8gb4y72/c44LiWFpB+WhVSPrhFgEXpvjELEXELsDHwb+ACSXt1s1lPIefbVc+n0r+CMDMzs7bol4GFpA+TaaDngVuA3SUNlrQoGUzcLWlZ4NmIOBM4G1iz7P5OyWJQ9t2x1DnNDewE3NqX78XMzPohqfmPAaI/3YVX2lhAZhr2joipki4H1if77gZwRET8V9LewNckvQO8Ro5ABllt8ZCk+yNiT0nnAneXdWdFxAOShvXNWzIzMxtY+k1gERGD6ywP4GvlUb38POC8brY/Ejiy6vUpwCk12/wTWLXq9ckzUXQzMxtoBlCGodn6ZVWImZmZdaZ+k7EwMzPrGL4tr8uBhZmZWSME4aqQuhxzmZmZWdM4Y2FmZtYoJyzqcsbCzMzMmsYZCzMzs0YNcsqiHgcWZmZmDRlYI2U2m6tCzMzMrGmcsTAzM2uEcOPNHjhjYWZmZk3jjEUTzTNsMdb76cHtLsY0t444vd1F6GKd0zrns7nnm+PaXYQuYmi3U+G0zfhPLtvuInRx+MWbtbsIXZz1hbHtLsI0w99Zvd1F6GKzH6zY7iJM8/v952jdwd14sy4HFmZmZo1y4826XBViZmZmTeOMhZmZWaOcsKjLGQszMzNrGmcszMzMGiHceLMHzliYmZlZ0zhjYWZm1ignLOpyYGFmZtagcHfTulwVYmZmZk3jjIWZmVkjJDfe7IEzFmZmZtY0zliYmZk1ygmLuhxYmJmZNcqNN+tyVYiZmZk1jTMWZmZmjXLjzbo6MmMhaQlJF0v6h6RHJF0jaYSkq+tsf5aklfu6nGZmZtZVx2UsJAm4HDgvIvYoy1YHtqu3T0Ts3zelMzOzWZ5w480edGLG4pPAOxExqrIgIsYCtwLzSPqtpMckXViCECSNkbR2eb6VpPslPSjpxrJsXUl/kfRA+f+KZflcki6V9JCkSyTdVXWc4ZIeljRO0g/69iMwM7OOJjX/MUB0XMYCWBW4r866NYBVgKeB24ENgdsqKyUtCpwJbBwRT0haqKx6rCybImkz4PvAZ4CDgBcjYjVJqwJjy3HeB/wAWAt4EbhB0o4R8fvaAkkaAYwAmGOxxWfibZuZmfV/nZix6MndETExIt4lg4BhNevXA26JiCcAIuKFsnx+4DeSxgE/JoMTgI8DF5dtxwEPleXrAGMi4rmImAJcCGzcXYEiYnRErB0Raw+Zf4GZf4dmZtbhWpCtGEAZi04MLMaTmYLuvF31fCr/m3EREN3s9x3g5ohYlWyrMUfV9t0ZOH9hMzOzPtSJgcVNwOySDqgskLQO8Ile7HsH8AlJy5X9KlUh8wP/Ls/3qdr+NmC3su3KwEfK8rvKcRaRNBgYDvx5ht6NmZkNLCKvns1+DBAd91YiIoCdgM1Ld9PxwPFku4rp7fsc2d7hMkkPApeUVScBJ0i6HRhctcsZwKKSHgKOJKtCXo6I/wBHAzcDDwL3R8QVzXh/ZmZmA1knNt4kIp6mZBJqnFm1zciq55tUPb8WuLbmeHcAH6pa9M3y/7eAz0XEW5KWB24E/lX2+TXw65l6I2ZmNjANoDYRzdaRgUUfmgu4WdIQMrn1pYiY3OYymZlZp3NcUdcsHVhExKvA2u0uh5mZ2UAxSwcWZmZmjQogPFdIXR3XeNPMzMy6V0aX/qukCZKO6mb9gpIuLyNK310Gf6ysW6Bq9OpHJa3fijI6sDAzM2uEaMsAWWX4g9OBrYGVgeHdTMB5DDA2IlYD9gJOrVp3KnBdRHwY+Cjw6Mx/GP/LgYWZmVmj1ILH9K0LTIiIx0tHg4uBHWq2WZns4UhEPAYMk7S4pPnIEaTPLusmR8RLjb/x6XNgYWZm1hkWkXRv1WNEzfqlgKeqXk8sy6o9COwMOQEnsCywNPAB4Dngl2VCzrMkzd2KN+HGm2ZmZo1qTePNSRHRU0/F7k5aO43FicCpksYCDwMPAFOAIcCawCERcZekU4GjeG9cp6ZxYGFmZtY/TASWqXq9NDWjUkfEK8C+AJIEPFEecwETI+KusulvycCi6VwVYmZm1pC2zW56D7CCpOUkDQX2AK7sUrLs+TG0vNyfnPH7lYj4L/CUpBXLuk2BR5rzeXTljIWZmVkjet/YsqkiYoqkkcD15LxX50TEeEkHlvWjgJWA8yVNJQOH/aoOcQhwYQk8HqdkNprNgUUTvfHki9x36G/aXYxp1jnt4HYXoYt7Rp7e7iJMs8N5B7a7CF38943B09+oD41c+dV2F6GLg7cZ0+4idLHUsdu2uwjTXLX9i+0uQhcbf/6ldhdhmleeGXgzNETENcA1NctGVT2/A1ihzr5j6YPRph1YmJmZNcojb9blNhZmZmbWNM5YmJmZNcoZi7qcsTAzM7OmccbCzMysEYJwwqIuBxZmZmaNclVIXa4KMTMzs6ZxxsLMzKxRvRspc5bkjIWZmZk1jTMWZmZmjZDcxqIHDizMzMwa5Xx/Xf5ozMzMrGmcsTAzM2uUG2/W5YyFmZmZNU2fBxaSlpB0saR/SHpE0jWSPiRpXJPPM6xZx5S0iaSrm3EsMzPr50Q23mz2Y4Do06oQSQIuB86LiD3KstWBxfuyHGZmZjMjXBVSV19nLD4JvBMRoyoLImIs8FTltaTBkn4o6R5JD0n6Yll+iaRtqrY7V9Jn6m1frWQvbpV0f3lsUJZvImmMpN9KekzShSX4QdJWZdltwM6t+kDMzMwGkr5uvLkqcN90ttkPeDki1pE0O3C7pBuAi4HdgWskDQU2Bb7Uw/ZRdcxngc0j4i1JKwAXAWuXdWsAqwBPA7cDG0q6FzgT+BQwAbikXmEljQBGAAyabd5efgxmZtavuYViXZ3YK2QLYDVJu5TX8wMrANcCPy3Bw1bALRHxpqR62/+t6phDgNNKtctU4ENV6+6OiIkAksYCw4DXgCci4u9l+a8owUOtiBgNjAaYbY7Fo7ttzMzMZhV9HViMB3aZzjYCDomI6/9nhTQG2JLMXFzU0/aShlW9PBx4BvgoGWe+VbXu7arnU3nvM3GQYGZm/6vSeNO61dfJnJuA2SUdUFkgaR1g2aptrge+JGlIWf8hSXOXdRcD+wIble2mt33F/MB/IuJd4PPA4OmU8zFgOUnLl9fDG3iPZmZms6w+DSwiIoCdgM1Ld9PxwPFk+4aKs4BHgPtLd9Ff8F4W4QZgY+BPETG5F9tXnAHsLelOshrk9emU8y2y6uMPpfHmv2bg7ZqZ2YCkHCCr2Y8Bos/bWETE08Bu3axatax/FzimPGr3fQdYuGZZve1frjrm34HVqtYdXZaPAcZUHWtk1fPrgA/36k2ZmdmsxVUhdbldq5mZmTVNJ/YKMTMz62xOWNTljIWZmZk1jTMWZmZmjRCE21jU5cDCzMysUQ4s6nJViJmZmTWNMxZmZmaNGkDjTjSbMxZmZmbWNM5YmJmZNUL4trwHDizMzMwaMrCG4G42x1xmZmbWNM5YNNH8yy7Alr/Yud3FmOaeb45rdxG62OG8A9tdhGmu2HtUu4vQxVJrbt3uInTx7Z2HtbsIXZzw+0+1uwhdfP+gx9pdhGl2mX2ldhehiz2OmavdRZjmnMeGtO7g7m5alzMWZmZm1jTOWJiZmTVCOGPRAwcWZmZmDQo33qzLVSFmZmbWNM5YmJmZNcq35XX5ozEzM7OmccbCzMysEcIDZPXAGQszMzNrGmcszMzMGiJ3N+2BMxZmZmaNGqTmP3pB0laS/ippgqSjulm/oKTLJT0k6W5Jq9asHyzpAUlXN+mT+B8OLMzMzPoBSYOB04GtgZWB4ZJWrtnsGGBsRKwG7AWcWrP+y8CjrSynAwszM7NGqEWP6VsXmBARj0fEZOBiYIeabVYGbgSIiMeAYZIWB5C0NPBp4KzG33TvObAwMzPrDItIurfqMaJm/VLAU1WvJ5Zl1R4EdgaQtC6wLLB0WfcT4Ajg3WYXvJobb5qZmTUggGhN481JEbF2D+u7O2nUvD4ROFXSWOBh4AFgiqRtgWcj4j5JmzShrHU5sDAzM2tUe8axmAgsU/V6aeDp6g0i4hVgXwBJAp4ojz2A7SVtA8wBzCfpVxHxuWYXsuOrQiRNlTRW0nhJD0r6iqSOL7eZmVmT3QOsIGk5SUPJYOHK6g0kLVDWAewP3BIRr0TE0RGxdEQMK/vd1IqgAvpHxuLNiFgdQNJiwK+B+YHj+rogkgZHxNS+Pq+ZmXWQNk2bHhFTJI0ErgcGA+dExHhJB5b1o4CVgPMlTQUeAfbr63L2qzv/iHgWGAGMVBos6YeS7il9dr8IIGkTSWMk/VbSY5IuLNtvLenSyvHKdleV51tIukPS/ZJ+I2mesvyfko6VdBuwaxvetpmZGQARcU1EfCgilo+I75Vlo0pQQUTcERErRMSHI2LniHixm2OMiYhtW1XG/pCx6CIiHi9VIYuR3Wxejoh1JM0O3C7phrLpGsAqZP3T7cCGwB+BX0iaOyJeB3YHLpG0CPANYLOIeF3SkcBXgG+XY70VER/vrjyl1e4IgLkWX7wF79jMzDqOB96sq98FFkXlT7oFsJqkXcrr+YEVgMnA3RExEaC0jh0WEbdJug7YTtJvyf68RwCfIPv+3p5tXRgK3FF1vkvqFSQiRgOjARZeccXa1rlmZjbACBjUr/L9favfBRaSPgBMBZ4l/76HRMT1NdtsArxdtWgq773XS4CDgReAeyLi1dJy9o8RMbzOaV9v2hswMzMbwPpVzCVpUWAUcFpEBNmA5UuShpT1H5I093QOMwZYEziA9zIRdwIbSvpgOc5ckj7UgrdgZmYDgNT8x0DRHzIWc5aqjCHAFOAC4JSy7ixgGHB/yTo8B+zY08EiYmqZfGUfYO+y7DlJ+wAXlbYakG0u/tbE92FmZjbgdXxgERGDe1j3LjnhyjE1q8aUR2W7kTX7jQRql90ErNPNOYY1WGQzMxvIBliGodn6VVWImZmZdbaOz1iYmZl1FiGnLOpyYGFmZtYA4aqQnrgqxMzMzJrGgYWZmVmDBnJ3U0nLV3pIlqkvDpW0QG/3d2BhZmZm1X4HTC1jO50NLEdOANorbmNhZmbWCIEG9m35u2Um1Z2An0TEzyQ90NudHViYmZk1qJOqLlrgHUnDyUEktyvLhvR254Edc5mZmVmj9gXWB74XEU9IWg74VW93dsbCzMysAQIGDeCMRUQ8IulI4P3l9RPAib3d3xkLMzMzm0bSdsBY4LryenVJV/Z2f2csmmhKiJcmd06sFkPrTrPSFv99o3PKs9SaW7e7CF38+/5r212ELn72g33aXYQu7po0tN1F6OK1/zze7iJMc/FGS7a7CF3MPSTaXYRprpi9dWUZ4G0sjgfWpcy5FRFjS3VIrziwMDMza9AADyymRMTLNcOW9zpKc2BhZmZm1cZJ+iwwWNIKwKHAX3q7c+fk7c3MzPoDgaSmPzrIIcAqwNvARcArwGG93dkZCzMzM5smIt4Avl4eDXNgYWZm1qCBPPKmpJvppk1FRHyqN/s7sDAzM7NqX616PgfwGWBKb3d2YGFmZtYAMbB7hUTEfTWLbpf0597u78DCzMysER02zXmzSVqo6uUgYC1gid7u78DCzMzMqt1HtrEQWQXyBLBfb3d2YGFmZtaggZyxiIhej7LZHQcWZmZmhqSde1ofEZf15jgOLMzMzBo0QGc33a6HdQE4sDAzM2u2gdorJCL2bcZxHFiYmZlZF5I+TQ7rPUdlWUR8uzf7OrAwMzNr0EDMWFRIGgXMBXwSOAvYBbi7t/t31KCkkl6reb2PpNOafI5jmnk8MzOzAWaDiNgLeDEivgWsDyzT2507KrDoIw4szMxsxgk0SE1/dJA3y//fkPQ+4B2g111Q+01gIWlZSTdKeqj8//1l+bmSdqna7rXy/yUl3SJprKRxkjaSdCIwZ1l2YdnuK2X9OEmHlWXDJD0q6UxJ4yXdIGnOvn/XZmbWiaTmPzrI1ZIWAH4I3A/8k5w+vVc6rY3FnJLGVr1eCLiyPD8NOD8izpP0BeCnwI49HOuzwPUR8T1Jg4G5IuJWSSMjYnUASWsB+wIfIxv63lXGQ38RWAEYHhEHSLqUnITlV7UnkTQCGAEwx2KLz9i7NjMzazNJfwB+DZwSEa8Dv5N0NTBHRLzc2+N0WsbizYhYvfIAjq1atz75hgEuAD4+nWPdA+wr6XjgIxHxajfbfBy4PCJej4jXyD66G5V1T0TE2PL8PmBYdyeJiNERsXZErD10/gWmUyQzMxsIBmjGYjSwLfCEpEsk7QhEI0EFdF5g0YjKXPFTKO9DkoChABFxC7Ax8G/gAkl7dXOMnv6Ub1c9n0rnZXfMzMyaJiKuiIjhwLLkjfbewJOSzpG0eW+P058Ci78Ae5TnewK3lef/JGdeA9gBGALZJgN4NiLOBM4G1izbvCNpSHl+C7CjpLkkzQ3sBNzayjdhZmb9W2WArAGYsQAgIt6MiEsiYidgC2AN4Lre7t+f7sIPBc6R9DXgObJtBMCZwBWS7gZuBF4vyzcBvibpHeA1oJKxGA08JOn+iNhT0rm81z/3rIh4QNKwVr8ZMzOzTiRpcWA38mZ+SeA3vHfNna6OCiwiYp6a1+cC55bn/wQ+1c0+zwDrVS06uiw/Dzivm+2PBI6sen0KcErNNv8EVq16fXJj78TMzAYsDcy5QiQdAAwHViSrQo6IiNsbPU5HBRZmZmb9QSdVXTTRBsCJwJ8i4t0ZPUh/amNhZmY2S5O0laS/Spog6ahu1i8o6fIy5tPdklYty5eRdHMZo2m8pC/X7hsR+0bEDTMTVIAzFmZmZg1TG27Ly5hMpwObAxOBeyRdGRGPVG12DDA2InaS9OGy/aZkD8r/i4j7Jc0L3CfpjzX7NoUzFmZmZv3DusCEiHg8IiYDF5O9IautTHZkICIeA4ZJWjwi/hMR95flrwKPAku1opDOWJiZmTWg0t20BRaRdG/V69ERMbrq9VLAU1WvJ5IjR1d7ENgZuE3SuuSYFEsDz1Q2KD0f1wDuqleQkh1ZnKo4ISKe7M2bcGBhZmbWCIFaE1lMioi1ez7z/4ia1ycCp5bpMR4GHiCrQfIA0jzA74DDIuKVbk8iHQIcRwYjlfYWAazWi/fgwMLMzKyfmEjX6cuXBp6u3qAEC/vCtNGonygPyuCQvwMujIjLejjPl4EVI+L5GSmk21iYmZk1qE0jb94DrCBpOUlDyQGsrqzeQNICZR3A/sAtEfFKCTLOBh4t4zf15CmgoflBqjljYWZm1g9ExBRJI4HrgcHAORExXtKBZf0oYCXgfElTgUeA/cruGwKfBx6umkX8mIi4pptTPQ6MKbOdTps3qxcBCeDAwszMrGHtGiCrBALX1CwbVfX8DmCFbva7jZ4n3qz2ZHkMLY+GOLAwMzNr0AAdeROAiPgWQBnvIiLitUb2d2DRRHPN9i5rLPT29DfsI+M/uWy7i9DFyJVfbXcRpvn2zsPaXYQufvaDfdpdhC4O2fzcdhehi/HjPtvuInRx77HbtLsI02y+/q/bXYQu5j14t3YXYZr/TnIzwhlRRuu8AFiovJ4E7BUR43uzvwMLMzOzBoiBOQlZldHAVyLiZgBJm5AziW/Qm50dzpmZmVm1uStBBUBEjAHm7u3OzliYmZk1YoBOm17lcUnfJKtDAD5HGQujN5yxMDMzs2pfABYFLgMuL8/37e3OzliYmZk1INtY1I6kPXBExIvAoTO6vwMLMzOzBg3EqhBJP4mIwyRdxf/OQUJEbN+b4ziwMDMzM3ivTcXJM3MQBxZmZmYNGogNFCPivvJ09Yg4tXqdpC8Df+7NcQbiZ2NmZmYzbu9ulu3T252dsTAzM2vAQG28KWk48FlgOUnVs6bOC/R6CnUHFmZmZg0aiI03gb8A/wEWAX5UtfxV4KHeHsSBhZmZmRER/wL+Baw/M8dxGwszM7MGiLx4NvvRKSStJ+keSa9JmixpqqRXert/J70XMzMza7/TgOHA34E5gf2Bn/V256YEFpIamqu9l8c8VdK/JbUk+JF0vKSvtuLYZmY2gJW5Qpr96CQRMQEYHBFTI+KXwCd7u29HtrEowcROwFPAxsCYthbIzMysigZgr5Aqb0gaCoyVdBLZoLPXs5u2rCpE0uqS7pT0kKTLJS1Ylh8q6ZGy/OI6u38SGAf8nEzHVI55vKRzJI2R9LikQ6vWfVPSY5L+KOmiSjZC0vKSrpN0n6RbJX24m7J2u42kXSWNk/SgpFua9+mYmZl1rM8Dg4GRwOvAMsBnertzKzMW5wOHRMSfJX0bOA44DDgKWC4i3pa0QJ19hwMXAVcA35c0JCLeKes+TAYe8wJ/lfRz4KPkm16DfE/3A5URxEYDB0bE3yV9DDgD+FTN+eptcyywZUT8u15ZJY0ARgDMt8RivfpgzMys/8pxLNpditYpvUMA3gS+1ej+LQksJM0PLBARleE/zwN+U54/BFwo6ffA77vZdyiwDXB4RLwq6S5gC+APZZM/RMTbwNuSngUWBz4OXBERb5ZjXFX+Pw+wAfAbadq3YPaa8/W0ze3AuZIuJaeP/R8RMZoMTFhy5Q8N6NyYmZkNXJIeppvJxyoiYrXeHKcdbSw+Tbab2B74pqRVImJK1fqtgPmBh8uFfi7gDd4LLN6u2nYq+R7qxY6DgJciYvUeylN3m4g4sGQwPk3WNa0eEb0efczMzAamAdqlcttmHKQln01EvAy8KGmjsujzwJ9Lo8xlIuJm4AhgAWCemt2HA/tHxLCIGAYsB2whaa4eTnkbsJ2kOUoG4tOlHK8AT0jaFUDpozVlrbuNpOUj4q6IOBaYRNYzmZmZDTgR8a/KoyxaoTx/Fniht8dpVsZiLkkTq16fQk5iMqoEBI8D+5KNQX5VqkoE/DgiXqrsVLbdEvhiZVlEvC7pNmC7eiePiHvKuOYPkqOG3Qu8XFbvCfxc0jeAIcDFZbtq9bb5oaQVSllv7GY/MzObxYgYkHOFVEg6gGw7uBCwPLA0MArYtDf7NyWwiIh6mY/1uln28R6O8wb5RmqX71xn+1WrXp4cEceX4OQWyjjnEfEEWb1Su+/xVc/rbdPtec3MbNY2kBtvAgcD6wJ3AZSODb3undCR41jMoNGSVgbmAM6LiPvbXSAzM7N+6O2ImFzp0CBpNnpo1FlrwAQWEfHZdpfBzMxmDQO08WbFnyUdA8wpaXPgIOCq3u48wD8bMzMza9CRwHPAw2Sbx2uAb/R25wGTsTAzM+sL6sC5PZql9N58qLRhPHNGjuHAwszMrEEDtVdIRLxbprF4f0Q8OSPHcGBhZmZm1ZYExku6m5wrBICI2L43OzuwMDMza8BAnyuEGZgfpJoDCzMzMwOmtbE4vWacqIY4sDAzM2vQQO1S6TYWZmZmbTBQG28WbmNhZmZmTeM2FmZmZn1loDfejIg/S1ocWKcsujsinu3t/g4smmjSE69w1uf/2O5iTHP4xZu1uwhdHLzNmHYXYZoTfv+pdhehi7smDW13EboYP66zRshfZdVft7sIXWx+9kHtLsI09004vN1F6OIDBzzU7iJMo7emtLsI/ZKk3YAfAmPIOOpnkr4WEb/tzf4OLMzMzBoxgEfeLL4OrFPJUkhaFPgT0KvAYqA2bDUzM7MZM6im6uN5GogXnLEwMzNrgBjwd+XXSboeuKi83h24trc7O7AwMzNr0EDubhoRX5O0M/BxMo4aHRGX93Z/BxZmZmaGpA8Ci0fE7RFxGXBZWb6xpOUj4h+9Oc4Az+aYmZk13yA1/9EbkraS9FdJEyQd1c36BSVdLukhSXdLWrW3+wI/AV7tZvkbZV2vOLAwMzPrByQNBk4HtgZWBoZLWrlms2OAsRGxGrAXcGoD+w6LiP/pLxwR9wLDeltOBxZmZmYNqDTebPajF9YFJkTE4xExGbgY2KFmm5WBGwEi4jFgWBnsqjf7ztHDuefsXREdWJiZmTWsRVUhi0i6t+oxoua0SwFPVb2eWJZVexDYGUDSusCywNK93PceSQfUvldJ+wH39fazceNNMzOzzjApItbuYX13LTFqu6ecCJwqaSzwMPAAMKWX+x4GXC5pT94LJNYGhgI79VjyKg4szMzMGqT2dDedCCxT9Xpp4OnqDSLiFWBfAEkCniiPuXqx7zPABpI+CVQaff4hIm5qpJAOLMzMzPqHe4AVJC0H/BvYA+gysY+kBYA3SjuK/YFbIuIVSdPdtyIibgZuntFCOrAwMzNrgNo0V0hETJE0ErgeGAycExHjJR1Y1o8CVgLOlzQVeATYr6d9W1FOBxZmZmYNalfPh4i4BrimZtmoqud3ACv0dt9W6Ne9QiSFpAuqXs8m6TlJV5fX29cZBGRGznVWN31+zczMrEp/z1i8Dqwqac6IeBPYnKw7AiAirgSubMaJImL/ZhzHzMz6NxEDeq6QmdWvMxbFtcCny/PhvDcbG5L2kXRaeb6dpLskPSDpT2XAECQdL+k8STdI+qeknSWdJOlhSddJGlK2GyOpp25AZmZms7yBEFhcDOwhaQ5gNeCuOtvdBqwXEWuUfY6oWrc8GZzsAPwKuDkiPgK8yXtBS7ckjagMZvLulDdn7p2YmVm/0K65QvqD/l4VQkQ8JGkYma3oqVHK0sAlkpYkB/t4omrdtRHxjqSHyday15XlDzOd8dEjYjQwGmDInEs4N2ZmZrO0gZCxgGxHcTJV1SDd+BlwWslEfJGuY6K/DRAR7wLvREQlQHiXARB8mZlZczljUd9AuWieA7wcEQ9L2qTONvPzXsPOvfuiUGZmNvCITG1b9wZExiIiJkbEqdPZ7HjgN5JuBSa1vlRmZmaznn6dsYiIebpZNgYYU56fC5xbnl8BXNHN9sfXO2b1uojYZOZLbGZmA4G7m9Y3IDIWZmZm1hn6dcbCzMysr7VrrpD+woGFmZlZgxxY1OeqEDMzM2saZyzMzMwaIGCwMxZ1OWNhZmZmTeOMhZmZWYPcxqI+BxZmZmYNEB7HoieuCjEzM7OmccbCzMysER7HokfOWJiZmVnTOGNhZmbWAM9u2jMHFk00eLH5mf/wbdpdjGnO+sLYdhehi6WO3bbdRZjm+wc91u4idPHafx5vdxG6uPfYzvkeA2x+9kHtLkIXf9zvjHYXYZptzuqsz2an/RdsdxGmufC21l3iXBVSn6tCzMzMrGmcsTAzM2uQu5vW54yFmZmZNY0zFmZmZg3wXCE9c8bCzMzMmsYZCzMzswa5V0h9DizMzMwaII+82SNXhZiZmVnTOGNhZmbWIGcs6nPGwszMzJrGGQszM7MGZHdTD5BVjwMLMzOzBjndX58/GzMzM2saZyzMzMwaINx4sye9ylhICkk/qnr9VUnHN6MAkuaQ9Jikj1QtO0LSqF7uf7ykr/Ziu70kjZM0XtIjlX0kfVvSZuX5YZLmmtH3YmZmNqvrbVXI28DOkhZpdgEi4i3gMOAMpaWALwJHT29fSb3KuEjaupxji4hYBVgTeLmc/9iI+FPZ9DDAgYWZmfVokJr/GCh6G1hMAUYDh9eukLSopN9Juqc8NizLH5a0QAkWnpe0V1l+QSVDUBER1wH/AfYCfgwcD8wn6UZJD5X/v7/sf66kUyTdDPygpiwHSLpW0pw1xTwa+GpEPF3O91ZEnFl1vF0kHQq8D7hZ0s2S9pP045pjn9LLz8vMzAYoKRjcgsdA0UjjzdOBPSXNX7P8VODHEbEO8BngrLL8dmBDYBXgcWCjsnw94M5ujn8Y8D1g0Yi4ADgNOD8iVgMuBH5ate2HgM0i4v8qCySNBLYDdoyIN2uOvSpwX09vLiJ+CjwNfDIiPglcDGwvaUjZZF/gl7X7SRoh6V5J90597eWeTmFmZjbg9brxZkS8Iul84FCg+sK9GbCyNC2PM5+keYFbgY2BfwE/B0aUao4XIuK1bo7/tKSbgKvLovWBncvzC4CTqjb/TURMrXr9eWAiGVS809v31JOIeL2UZ1tJjwJDIuLhbrYbTWZzmGPZFQdOyGlmZnUNpKqLZmu0u+lPgP2AuWuOsX5ErF4eS0XEq8AtZJZiI2AM8BywCxlw1PNueXSn+qL9es26ccAwYOk6+44H1urhvPWcBexDnWyFmZmZddVQYBERLwCXksFFxQ3AyMoLSauXbZ8CFgFWiIjHgduAr9JzYFHtL8Ae5fmeZf96HiAbfF4p6X3drD8BOEnSEqWMs5c2FbVeBeatvIiIu4BlgM8CF/Wy3GZmNoBVupu68Wb3ZmSArB+RAUPFocDapZHlI8CBVevuAv5Wnt8KLEXPAUK1Q4F9JT1EVnV8uaeNI6ISuPyhtvdKRFxDthH5k6TxZHuL7qqBRgPXloahFZcCt0fEi70st5mZ2SyrV20sImKequfPUNUlMyImAbvX2e/zVc//wnQCmYjYp+r5P4FP9bRNeX181fPrgevrHPuXdFOdUXPOnwE/q9nk42RPFTMzM6B9GQZJW5GdJgYDZ0XEiTXr5wd+BbyfvMafXK5/SDoc2J9sWvAwsG8Z8qGpPKR3HaWr7N+ANyPixnaXx8zMOkNOQtb8x3TPKw0ms+9bAysDwyWtXLPZwcAjEfFRYBPgR5KGls4ThwJrR8SqZGCyBy3gIb3riIiXyG6tZmZmnWBdYEJpt4iki4EdgEeqtglgXmVXzXmAF8ixqCCv+XNKeoeseXi6FYV0YGFmZtYIwaDWDGi1iKR7q16PLkMaVCwFPFX1eiLwsZpjnAZcSQYN8wK7R8S7wL8lnQw8SQ4ZcUNE3NDsNwAOLMzMzDrFpIhYu4f13VWY1EY4WwJjyTaKywN/lHQrWfWxA7Ac8BLwG0mfi4hfzWyha7mNhZmZWYMGteDRCxPJIRAqluZ/qzP2BS6LNAF4AvgwOZjlExHxXBlI8jJggwbecq85sDAzM2tAG8exuAdYQdJykoaSjS+vrNnmSWBTAEmLAyuS02o8Cawnaa7S/mJT4NGmfCA1XBViZmbWD0TElDIv1vVk1cY5ETFe0oFl/SjgO8C5kh4mY6Ajy7AQkyT9FrifbMz5AGU6imZzYGFmZtag3nQPbYUy4OM1NctGVT1/Gtiizr7HAce1tIC4KsTMzMyayBkLMzOzBmQbC09mXY8DCzMzswYNpEnDms2BRRMtt+C7/HLHV9tdjGmGv7N6u4vQxVXbd848brvMvlK7i9DFxRst2e4idLH5+r9udxG6uG/C4e0uQhfbnHVQu4swzc37n9HuInQx6eTO+Wxeneyrfzs4sDAzM2uABtg0583mxptmZmbWNM5YmJmZNch35fX5szEzM7OmccbCzMysQXIbi7ocWJiZmTXIcUV9rgoxMzOzpnHGwszMrAHCVSE9ccbCzMzMmsYZCzMzswb5rrw+BxZmZmYNkichq8tBl5mZmTWNMxZmZmYNctvN+pyxMDMzs6ZxxsLMzKwB7m7as+lmLCR9XdJ4SQ9JGivpYzN7UknDJL1Zjld5DJ3Z4/Zwvr+06thmZjbrUQseA0WPGQtJ6wPbAmtGxNuSFgGaFQD8IyJWr3PewRExtUnnISI2aNaxzMzMrL7pZSyWBCZFxNsAETEpIp4GkHSspHskjZM0WsrEkKQxkn4g6W5Jf5O0UW8KImkTSTdL+jXwcFn2e0n3lYzJiKptX5P0PUkPSrpT0uJl+eKSLi/LH5S0QWX78v8lJd1SMiTjKmWTtJWk+8s+N5ZlC5XzP1TOsVqvP1UzMxu4BINa8BgophdY3AAsUwKEMyR9omrdaRGxTkSsCsxJZjYqZouIdYHDgOPqHHv5qmqQ08uydYGvR8TK5fUXImItYG3gUEkLl+VzA3dGxEeBW4ADyvKfAn8uy9cExtec87PA9SVT8lFgrKRFgTOBz5T9di3bfgt4ICJWA44Bzu/uTUgaIeleSfe+9PzLdd6qmZnZrKHHwCIiXgPWAkYAzwGXSNqnrP6kpLskPQx8ClilatfLyv/vA4bVOfw/ImL18ji4LLs7Ip6o2uZQSQ8CdwLLACuU5ZOBq7s5x6eAn5eyT42I2iv9PcC+ko4HPhIRrwLrAbdUzhsRL5RtPw5cUJbdBCwsaf7aNxERoyNi7YhYe4GF/2e1mZkNQG5jUd90G2+WC/SYiDgOGAl8RtIcwBnALhHxEfKOf46q3d4u/59KYz1PXq88kbQJsBmwfskkPFB1jnciojLsWa/PERG3ABsD/wYukLQX+ffsbgi17v7OHmrNzMysBz0GFpJWlLRC1aLVgX/x3gV+kqR5gF1aULb5gRcj4g1JHyYzC9NzI/AlyAagkuarXilpWeDZiDgTOJusLrkD+ISk5co2C5XNbwH2LMs2IduavDKzb8rMzPq3SnfTZj8Giund6c8D/EzSAsAUYAIwIiJeknQm2cjyn2QVQ7NdBxwo6SHgr2R1yPR8GRgtaT8yk/ElMnCo2AT4mqR3gNeAvSLiudIw9DJJg4Bngc2B44FflvO/AezdlHdlZmb93gCKA5qux8AiIu4Duu2qGRHfAL7RzfJNqp5Pops2FhHxT2DVmmVjgDFVr98Gtq5z7nmqnv8W+G15/gywQ73tI+I84Lxu1l8LXFuz7IXujmVmZmb1eeRNMzOzBjljUZ/nCjEzM7OmccbCzMysQQNpQKtmc2BhZmbWgIE27kSzuSrEzMzMmsYZCzMzswZJHi+xHmcszMzMrGmcsTAzM2uQ21jU58DCzMysEQNsCO5mc1WImZmZNY0zFmZmZg0QvivviQOLJnpiwmQ+v9PEdhdjms1+sGK7i9DFxp9/qd1FmGaPY+ZqdxG6mHtIZ7Uwn/fg3dpdhC4+cMBD7S5CFzvtv2C7izDNpJMPancRunj4q2e0uwjTvP3fZ9tdhFmSAwszM7MGuY1Ffc7mmJmZWdM4Y2FmZtYgJyzqc8bCzMysQVLzH707r7aS9FdJEyQd1c36+SVdJelBSeMl7Vu1bgFJv5X0mKRHJa3fvE/kPQ4szMzM+gFJg4HTga2BlYHhklau2exg4JGI+CiwCfAjSUPLulOB6yLiw8BHgUdbUU4HFmZmZg1SCx69sC4wISIej4jJwMXADjXbBDCvJAHzAC8AUyTNB2wMnA0QEZMj4qWG33gvOLAwMzPrDItIurfqMaJm/VLAU1WvJ5Zl1U4DVgKeBh4GvhwR7wIfAJ4DfinpAUlnSZq7FW/CjTfNzMwaIGBQa1pvToqItadz6lq1g+BsCYwFPgUsD/xR0q3k9X5N4JCIuEvSqcBRwDdnutQ1nLEwMzNrUJuqQiYCy1S9XprMTFTbF7gs0gTgCeDDZd+JEXFX2e63ZKDRdA4szMzM+od7gBUkLVcaZO4BXFmzzZPApgCSFgdWBB6PiP8CT0mqDMm8KfBIKwrpqhAzM7OGBFLfD8MfEVMkjQSuBwYD50TEeEkHlvWjgO8A50p6mEyEHBkRk8ohDgEuLEHJ42R2o+kcWJiZmfUTEXENcE3NslFVz58Gtqiz71igpzYcTeHAwszMrEEeebM+BxZmZmYNaGSkzFlRv2m8KenrZXjShySNlfSxGTjGjtWjlEnaR9L7ql6PkdTyNJGZmdlA1S8yFmU8822BNSPibUmLAEOns1t3dgSu5r2WsPsA4/jf7jpmZmZ1OWFRX3/JWCxJDhzyNkBETIqIpyWtJenPku6TdL2kJQEkHSDpnjIJy+8kzSVpA2B74Icl43Ek2YjlwvJ6zuoTStpC0h2S7pf0G0nz9PF7NjMz63f6S2BxA7CMpL9JOkPSJyQNAX4G7BIRawHnAN8r218WEeuUSVgeBfaLiL+Q/X2/FhGrR8QPgHuBPcvrNysnKxmRbwCbRcSaZbuvdFcwSSMqw69Ofee11rx7MzPrKINa8Bgo+kVVSES8JmktYCPgk8AlwHeBVcnhSiH79P6n7LKqpO8CC5CTsFzf4CnXI2eOu70ceyhwR52yjQZGA8wxz7J937HZzMysg/SLwAIgIqYCY4AxZeCPg4HxEdHdfPLnAjtGxIOS9iGnjm2EgD9GxPAZLrCZmQ1Y7hVSX7/IvkhaUdIKVYtWJ6s4Fi0NO5E0RNIqZf28wH9KdcmeVfu9WtbVe11xJ7ChpA+WY88l6UNNeTNmZtbPtWKmkIETqfSLwIKszjhP0iOSHiKrKY4FdgF+IOlBcja3Dcr23wTuAv4IPFZ1nIuBr5UpY5cnMxujahtvRsRzZI+Ri8r57iQncTEzM7Me9IuqkIi4j/eChmqTgI272f7nwM+7WX47GZRU/AP4XdXrTaq2vQlYZ8ZKbGZmA1XmFwZOhqHZ+kvGwszMzPqBfpGxMDMz6ySS78vrcWBhZmbWMFeF1OOQy8zMzJrGGQszM7OGyI03e+CMhZmZmTWNMxZmZmYNc8aiHgcWZmZmDXKvkPr8yZiZmVnTOGNhZmbWMFeF1OOMhZmZmTWNMxZmZmYNkLub9kgR0e4yDBiSngP+1YRDLUJOsNYJOqks4PJMTyeVp5PKAi5PTzqpLNC88iwbEYs24ThdrLnWivHnO89o9mGZb+hm90XE2k0/cB9zxqKJmvUFlnRvp3y5Oqks4PJMTyeVp5PKAi5PTzqpLNB55emOMxb1ObAwMzNrmJso1uNPxszMzJrGGYvONLrdBajSSWUBl2d6Oqk8nVQWcHl60kllgc4rz/+QXBVSjxtvmpmZNWDNtVaMW+9qfuwzz5BN3HjTzMxs1iM8QFZ9DizMzMwa5F4h9bnxpg1ockWomVmfcmBhA90i7S6AdS5JS0oa0u5yNIOk93dAGf4nkB+4wf2gFjwGhoHzTmYBnfwPtBPLJmlJ4DxJu7Tp/Kp6Pm87ylCrE/9O9VTKKmlwK44taTHgW8DQ/vS5dEfSIsDRkj7YxjIoSm8ASctIeh9ANLGHQNV3ol//vQY6Bxb9RM0/2jUkzStprk4oV+VpWwvSvdeAXwF7Sdq6L08saVDV3+sLwHBJbW3TVPMdWlnSUElD21mmeipllfRp4GxJQ5p5MYn0LPBlYA3yOzJ7s47fBoOAJYA121WAqu/WIcBvgV9K+o2kQWX5TP39qr+/QPt/+1rw30DhwKIfqLkgfAm4DPglMELSUu0ul6RNgB9KOljSRu0qT62IeBV4C3gZOKovg4uIeBdA0seBtYDLI2JKX52/Vs136GDgKvI79AVJC7WrXPVUBRUnAL+OiHdoUvBafYGLiDeBJYEDgR37W3Ah6f2SFi5B0hnAwZKWb2N5NgH2AnYEtgeGAr+Bmc9cVH1/v0gGm8dK+tzMHHNGSWrJY6BwYNEPVP2D2hn4CLAucD55h7JvJeXYjnKVH5Jzgb+Xsg2XtFc7ylOrXECPAK4DxpI/utv30bkHSxoGXE1euF5uZ8ai6ju0I/l3+gTwB2B5OjC4KNUfmwBfBO6TtB1weSVwndG735oA62OSFoyI3wDHAF8Cdu7k4KK6bJI+DHwOuE7ShsDTwDXA/GV9y3/fu/k7vAY8APw3It6OiB2AJSR9vknn2xcYDnwP2JgM2q3DOLDoJ8oP/7HAShHxXERcCYwB5gFGKtsTtMPqwPciYhTwTeBmYB1J87epPMC0H7zlga9ExIXAd4EryM9q2xaeE4CImBoR/yTv2lYDtmlnxgJA0uLAD4HFImJiRPwa+AuwOPm5LNjm8nX5/IDXgR8BF5Hfs/8Ax0iae0bvfquCigOBXwMXSBoJ3EG2t9iPDI47roqofD67SfqMpI2BnwFnlsduwFeArwLfKFVx77a6PFWf5+ckrURmCD9E/r0qxpB/yxk5x2olgKqYF9gfWAd4F/ha2W7YjBx/5qgFj4HB41h0qOofhvL8hRKtXyjp2Ij4dkRcV34A1wbe6aNyVao/5omI18p595F0eUQ8J2kMcBDZG+PlvihTdbkqrytlBP4P+Esp213AZ4G9JY0p5W+aqh/Z/ch6+38Bl5J33WdKercEhH2i9uISEc+UNPI5kg6KiDMi4vLyHVqNNv6yVX2vtiQzKlPIC/2fgScj4h+SliHbzCxAgxeqmovgYuT7XZf8t7MF2dbiVOAk4FCyunFyE95aU5QbiynA9cA48m+1TUQ8B4wu6xcmL7aLkRmpm2v/XTRT1ed5KFn9sXdEjJN0aSnTr8kbn+2B82bwNCOApSQdFRF/BaYCtwEPRcQW5fxfBGaXdEa7g3dLzlh0qKqgYk/g+yWt/xLwGWAzSd8o210J/CAiJrW6TFU//uuSF8qPAheSdyRHlB+3+YE56MOLVM1FY3tJeyh7YXwdeEHST8umHwDGA19qdlBRVZaDgT3JC9NOwH4RcSNwCHl3/OlWnLc7Vd+h3SQdV75LjwK7klVoXyrbXQKcEBEv9FXZuilrKNvAfA+4DzgAOCUibi5BxW5ktdJPIuLfjRy75vtxMBlErBIRz0fE9cCfyKzN0cAtwG4R8UrT3txMKtUfhwOLlrYU5wCvksHrtBuPiPg7mbUYV1nXqqCiqmzLkN+nT0fE+HLOM8i/47vAosCuEfG3Bo87uBxrJPA34DuSViD/XV0DPKps0Ls3MBL4U18HFWJQ0x8DxcB5JwOQsjfB0cDDvFffvDBZF7ynpK8BRMQMpRkbVX78tyB/vNYCzgaWJRsCDgFuAC4ATo6ICX1Rpkq5AMqPzHfJVOnJZAv5HwPLSrqO/LEb1cwgrJs65iWB7YAVyB//70qaIyL+QAaFf23WuXtZvhFkFdok8gJwCHnXdwgZDO4H0KpAazplW0jSh6oWbQXsAcwHvAicUrVuEeDIkmFpKGit+n5sR9bP30XeBV9S1l9LBsdDgbkj4o0Ze0fNV4L1wRHxTWCypIPIKpANgMMlHRER70paW9IqkQ2WXwI2lTR7o59VL8pTe7zBZFbijbK+UoV0U0ScGhGHRsRjDZ5jEeCD5fkW5Pf3P8BxwILAKPL35g9kG5PhEfHIjL2jmeGqkHo8CVkHk3QG8PuIuEHS0sA+wOwR8U1JqwKvlXr8virP8sDlwOci4iFJPwaGAceV18sAk0vKvWUp2Dpl24a8WG4XEVMkHUtmTy6LiNuVbT4GRcSLLTr/ZmT7ku+SmYq/R8R2Zd0XgZdKZqBPSToHGB0Rd5Y7vs+T35uTJG1ANrJ7vA3lmgM4isxunR8Rj5TM0rzAMmRW6e/KMUjejYjLZvJ86wNHAldFxNnlAnk/8FhEDC/bzN1XQXpvSFoZ+DkZ9JxBBquHk+1ifga8n7y4Xg/sTFZF3CjpAOCuiHioyeWpzvx8BngiIu6XNAp4FjgpIl4rweqOZCA7udG2HpJWI78brwOfAlaNiDclnUZ+P74XEX+TNCdM69nTp9Zae6X4y13nN/24c8y27oCYhMwZiw4haYny44eknZXdSP8D7CFpoYiYSHbb2ljSIhExri+DiuIlYALl7iQiDifvWH4paVhEPEX+wLQ8BVtNOZ7HisBGwKZl8Y/JNh77S/pERLzcwqBibrKOeSuyaugpsm1AJYvyZbKlfEspR5H8SHm+fbnbfYHMbs1dUuXXAltJmi8i/tKOoAIgIt4Cbiwvd1E2LL0Y2B04rwQVG5CB2vONHr+bO2uR399PSfpo+X6uCawn6dxSpk4KKlYiG62eDXwrIp6JiNvIxrerk+1A/gl8kgyQdi1VbkTEmc0OKirFKmU7GDgeqFQXXUC217tF0jfJ4OeoiHirkaCiku0oZf8HmV06oRI4lGqRl4GfSFohIt5sR1BRSuvupj1wYNE5pgJnSbqavPOeQtYlPkc2jpyfvGN5mz5qVFb5cVZ2nRxE/qN+CfiY3uue+FOyAefPoW8CiuqLRinXmxHxY7KqY6SkDUtK+MfAY+XRSpPJthvrR8Q4shpmG0lXAQczA3XMM2h24HeSLgQOI9PFvycDwUoX4EXIO8GW9hjoSfmbERG3khmwBcgGv48Du5DVR2cCpwNfjYg/N3j86jvr9UuQ/hDZGPQZYAdJH4m0XFneMcrnsw+ZaTo/3msrMzgi7iSrAlYlMzBTI+LciLhDRQvKsyZkmx1Jq5M9ZzaPiAnK3imLk+0+fkBW9e1caW/RwDkWIG+a3qfssfM6GaB8ptxozVXKcCjZg6djqqvsf7lXSJtVfgQjey2cRt6RnFqqE54n2zBsRrZjEHBI9EHDskq5lI0N9yB/kC8kA4kTgNUkvQ5sSTa0+6ak90XE031RrvL8cLJr28KSvhwRJ0g6DPiapCERMUbSSa0KdpRjeLweEfdIOhu4SdL9EXGZpBvIi/g7EfFSK85fVY7Kd+ifks4ju/0eVb5Dr5PfoS0l7U5WPRwYbWhTUVXWd0tm5XXyzvQn5EXki+T3a0MySBoaEY9W/817o+r7cQhZB/9HYDmyh9Dp5GBYe0q6ICLGR8QTTXuDTVA+nwXIcSmq/75TyyZ3k+13jqJqBMoWBvVfkfR/EfEMGaT/Gfhx+X1aFfg3sGBEnD0T53iHbDdSaUexdUQ8JekNsnHm65LWItswHdqXGdH62pNhkLQV2YNpMHBWRJxYs35+svfU+8lr/MkR8cuq9YOBe4F/R0RLut47Y9FGNRfJVcl/tFuSI2oeFRFTSt3y14FPA9tHxNi+KFsJKrYGvkNmIxYBfgfMSTaO/BuwENmQdCHgw2Qf9paXC6Z1cduWbNj1AeA2Se+PiJ+QjfMOVKmDbZaaTMlc5AXwMmWDuiXIO8gVle0HiBxv5KVmlqG7MlV9Jh8ifzD2AL4lad+IeC1yHI9DybEOtu2r71B3qr5Xvybr4MeSF5WLyIvkEcB8EfGPiHi0sk9vjq2qgeKUY5XsSna7XIgMQM8D3iSrF6aSwXKnGs97N36VzGHl9TfIKskvtjIoqsosfQ74sKTrSxXWVWRAeEZEbFLKutwMnkPlHK+TVWNLkN1JZ5M0W/nunkV+dzcDftkZQUV7lKDgdGBrYGVyzJWVazY7GHgkIj5KNvr/kbqOy/JlsndYyziwaKOqC8JXyPTmPyLidrLB0leUQ2TvSLaOfzNa1EagO+UL/FGy6+TC5GBTPyTrU1eKiLMj4jAy4DgL2DNa2F1ROUriN8rzIWRf/d3JlPFfyW5od0laJiJOAA4qdbBN+RGquYCvQTai/R7ZA2Rx8oL4bfIHcJm++vGrKtP/AacB4yLi92Rjvp9I2lE52uh3gEnRB92SeyJpWfLCuAPZRuAFMqtzNznmx5zMQFVfqe7YX+9N9jaRrKPfi2x/sy05KuSlZNuA49v9WUzHPcBXJe1WqQqJbJS8DrA5sERkdV9LVDJL5fmQUh21lKTzIuKmiPhGZIPbz5GNlS+cwXNUvr9zkVUcm5BVrgfx3iBbfyD/fW0fEffP5FtrmjZ1N10XmBARj0fEZLJd0g412wQwbwna5iH/jU0BUHYC+DT5m90yrgppM2Wr9z2ATSPiVeXshI8BHyPTWW8Ch0cf9NGuqv5YNXKgm9PJu8ivAgdH9vzYlZwxdI3IPvXjga0i4h8tLt6b5KiDUyLiREnfJe9CdwA+ERFTlWMdXCFpnWYGOTU/gAeRd/+TSrXDpWRDtgXIKqJ16eOAXdJwsm3ClhHxSsnc3KjsqTKavJCOjBaPxNhLL5IXinUodegRMalkGP4EfKPRahplQ9R/SzqFzBh9JCLOLetWAY4o1UJ/J9sszRY590hHKt+3O5S9O86RtCjZtulZstromGhxo9uazOD8wHciYlVJ90r6TUTsWu6UtwG+UMkuzeA5DiQDivvJLuvfLY+dlY2f1wW2aFf1XX0tqQpZRNK9Va9HR8ToqtdLkY3DKyaS14pqpwFXklVp8wK7V/3b/wkZpLV0tmUHFn2sm/ri18juYnuVH5AdycDiCLKXgaJv21RsBZwi6fMRcV/JDvwDmKKcUOsBsp3Hs8qBeZ6hD1LKJajZkxyYa1BEfF/Sc2SDv4+UH7mzyK6LU3s8WOPnrvwA7gB8nMzkbE7eBc9OdmH8F1n9Mk8bfgCD7O2xY8kI7CRpPNmAcwv6oJ3H9JSA+f3ArWSWZ1WyXn6KpI+R7QX+Fo0PpLQlOYDckRHxp5JN2rgEoL8iL4ojJD1CVl3tGhH/beJbm2nl+/yupAUqf6fy7/HqcuOxKXnhfYlsO3NVN78jrSjXPmT35F0qyyJibUl3SLo6IraVdEDMRG+aElR8lmz/8kOy6uqn5Nwtw8l/awdERJ+N4ttmk6Ln7qbdRTO134MtySrGT5GZ5j9KupWcW+XZ8ru+ycwXtT4HFn2o5s53frKe93FgPfIidQqZ0t8PeH9EPNlXZSpBxQqlDAdExH0AkUOJTyYH6tqEHF+gMsJeX85FMCgiHlYO+DSqrPuepEnkj9KG5BDH/2pRWRYjq12Wioi3gaslvUsOVzyHpEsj4sm+DCrK3dwfycZ865M/yj8qy/Ykq2TG9lV5uilfJVhdj8xOzE7eYe1M3pn+UNI/yc/1+EaDiuJDwCrAkcpeE2dJepMcIOpFsuHf18lAZmQnBRWl2uaNkm1bhQyQdgWmlEBDEXELORookoZGxOS+CCqK9cgxI/6lrKN/N7Ld1/qSbpK0VDQ4Cmq1ciO1CBlo7kX2VLqKzAjOVv6WLZ/zZMa0bZrzieQ4LxVLUxr5VtkXOLF8RyZIeoJsA7chsL1yzJ85gPkk/SqyDU1TuY1FH6q6SP4f2ZDsFvIH74KI2Doi/kg2RNyI//2yNJ2k9wOfVxk+l/yyjYts54HKTIoRcSDZBfaT5S6q5f+iaoKKvchpz4eTgdgI8h/IgRHxFbKx0gbR4Ah/0zt/1fPZSrXP94GXJH0PICKuIbNNS5Ot9PvaOmRjzZcj4stkw8xryDYfHyfvcNumBBVbkKnZ24G5ybrzJcnxF14lu8R+NSKumMHv1UVk4+JryYzRdpEN/m4mA5htIuJoYEREPDjTb6pJyo3FUbzXDXg24IXIenOgy+9FpYHj5OrlTS5Pd9eCINtXQXZrnSJpM0mzR8SnGg0qav++kfOcfJ9ssPnpiPgU2f14YbIaZL7ODCra6h5gBUnLlWBvD7Lao9qTlPF8lOPDrAg8HhFHR8TSETGs7HdTK4IKcMaiz5Uf2t3JFs7bkKnqRSVNLK+PIUfQ64uBi2YjhwtfsNzlTQSGSdojIi6OiLeVLfg3iBxS+CXom7Eqqn5UDyDvaI8jZyc9KCLOk7Q/8FvlwE8/4r3Bepp9/i8CHyzVLr8le6GMlPTtiDg2cojpG2YmHdwoSQtHznMxUtkdb6ykj0XE05L2IHunfD76fgC16jKK/H5tR87v8SvlGC37kG12vhcRx1bv09vvlXJkxspASi+QjT0ro1QeImlqRFxQAuONJF0XHTT3R/E2Ocz6SuVv9gI5IB7UpLb76N9bpaHm5uRNzUQyaPu9pMeBO0o25etkNWDDmZ+af9PLkA0KzyU/iyXKhfJjZFXwUR34N5tG0JYBrUpwN5K8oRkMnBMR40uVEpGzTH8HOFfSw6WoR0YfN1R2YNFikhYmU4iVHh2LAX8t/2guLqn808n09X3kkNQtT9eWjMDjyq6R15DZkx+Vx+YlNXsL2SDx660uT025Kj9A85ANt3Yn73D/QjZopVSLfIZso9KqsuxDjoOwH3mn8CbZe+dUctyOb0TEd+nDwXpK3eg2ki6KiAci4oiScbpT2c//RuDWmUlRN0P5G75TArKtlHXyj0u6iOxqupuk0TNw17swWX88Udmb6l/k9/NU8kf0QjJzMaSk0ufrtAtUqbJ5S9JfyBuLlYD3kW2FPgMsVG403oqIm1tclup/b/uQjSbHkF3HjyXbP5xEXuw/QM7L0dDvk6S5osy/omwMuj3Zg+pH5FflO5LuI8fHmA/Yo2QzOlx7Ev4lK3lNzbJRVc+fJr9XPR1jDPl3bglXhbRQqcu6FviFpO+XxY8AoWywRkT8iUwTLxFZR98XQcVsJU2tyH7ph5IX8C+QF9AzyR+7bYFvRsQf+qL6A7rc1axIjm8woZRnT7Jl+FRJR0j6ZLRwWHNl97ePkKn79cixMUZF9iZ4mMyg/LK6zC0qR+3n/i9yXIadlLPLAnyN/KyuBJ5vV1BRKaukVZQ9UiCDiP+SQ9PPRt6dPkW2B1m30XNExPNktm9pcurzrYDzyeBu0Yi4mEynf7ZkszoqqAAo3+ENyOzkVeQAU0uSf8OPktWjm5KTorW6LJV/b3uSDf1WJwO1cbwXUGxMtpHZKXJk2V4rv4Hfl7RMCYCXIRsXrk320DmpBFr7kZP0bRwRDzfjvVn7OGPRIsreFceQw0z/C/g/ZQ+LB8j++7tI+iT5o/sJ8kLV6jItRrY6nlKqZHZUzvpZaTB1BpleOzUidqnar68nFFuBHB54P/KzW4TsiRLKVvJ7kkNVN/ucC5Pda8dGNlr9F3knPDkitijbfZ2sr7yomeevU6bqu8ntyNTxC2SDxFOAXZWDgC1Fttm5oJ110uXvsyWZ1XlSORHcHmSmaXOyR8i8ZPXIznRthNbIeW4qKftzyPk+diHvrN8n6VKyyup3fVk91QjlYHi7khMMjpX0V/Im7wPkjcelffV3rPqOfZnstfPtyO6/V5dNfkLO13HXDBx7W/L377jIUTRFBoRjyKBih4h4R9KBkv4bOf5Kv9Gmxpv9gjMWLaCcR+Ma4EcRcQV557EZ2Y3qB+Q/1jvJ9OdG5MAvT3V/tKaVaT7yTuQnysnOvkO2mTiI7FXxLDnU8c6UFvaVfVsdVNTelUdOlvUqWQ9/MVlNdFAJgr5Czq7atLk3lMOWX0K2TTgaeKj8+D9KNjg8VdLQEtRURovsM8qxM75NNsg8lwwCDyNT/18m09eXRpuHplaO/Lkf+X3+BPB38jt/J/k9O4hM0S5HDt99/YyeK3LCrS+RF6kLy/m+ERGTI+LVTsxUVFmLzIKtKWnRyIm0ziPbWHycbMzYMjX/3ioTf60LPEGOrktETCCzrdfTddyE3p5jCfJ3Zf+I+L2kOcrvyLlkduZXJajYh/wOO0sxgHja9BYpF6vvko3VTibv2s4m/+E+HBFfKNvNHtl9sZVl+RB50fwHmWZdBvhBZA+PTci7ykqVwyLAwpEjIfYpSR8mu9pNKMHZiWS3qceVPVjmBF6M7KHRrHNuRQ5wdWSUya4kHQfsTd5lr0UOn7sk+SP85VanapVjPjwXES+XLNMlZKPVRyUtSPYE+VZEnF8yFvO0u05a2XXyGHJUv2Mrd5+SfkF2Cd0zsnHpsuSU30dHgxNV1TnvNmRd/YZRBkXr6wzb9FTKU77Dz5NtdTYmg6vfka3zXyh/y0Wjhd3Ma7JgI8gg79nISfyQdBuZ1dyxvB4SMzCYWPmeXkIGF38ne8B8grxhWILMzlxOVr3sHRGPzNw761trr71q3H3PpU0/7uBBqwyIadNdFdIipV3CVLLq45goE8WU6o8ryp3Kc7R4plLlwFGXki3mf08GDieS6fSrIyfqmkpOJHYQcFK0fhTNStmqf+SWIBuKPl8arp1I3pFvA5zWih/bqszS9hHx53JX9VZEfKtkbP5A1uNfR3bFnRItHLa8lGlBsvvsZEknRA5E9jzlexIRLyonX9ugvH6TvFD1qRL8bEy2b5gaOWpsZVjndSU9ExF3RMQXlRO0LQU8HTkmwp7RpOGoI+KaUsX4J0lr56LOCCqUwycvFRF3lQD2BPLOfBiZGTyPrMIZquy58gLZVbBlqv69HUwOQHUIMEbSMLI91ccljVc2Dh4+I0FF8RKZ7TiZHGfkT2TD2kfIQQBHk4HFoHYHxTNKA2ia82ZzVUgLRcR1ZEOlfZWzFUKm0uekTNjV4oZ/85F3hz+OiNMj4t+RffmPIFvVn1ou7reS2ZSrosmjVvZQttrJs94g7+BOIkeMO5ps73GccibMpis/5NsBJyi7cL6l98buOJYcUfQjEfFKRDzbyqCiKj39Ejl41GTgsLL878Alem8SqmWBSmO4Plcu5F8hRzo9Eji+3NmOI79HAJ+WtBFAROwXOQNsZVKrpo75UaobN46IdzsoqBhMZr1WLtmcH5JVWPuTVXt3knNjXEdmeVraULO6+kPZ22oTco6PDcihtJcDzlCOHLsK+e9vhpW/wy/IbOBXyAnTzoqIv5A9496K7DLdL4MK65kzFi0WEX9UTuV9m6QzyGqHEc3+ca3jTbLF+W/hvbRmZFfNH5H/6H9Gjkj45z4ozzRVQcXXyCqHQWTbhaPJ9ihbkyPxvUumj1tVjj8oR9C8W9LaJSNQSf++RPZi6AuDycaZiohrS1B4BDkt+9Hl4nSLpIfIvv579lUQWKvUjV9LXpj+S7bwv1bSueSd6YlkY+QtJY0DXorUsgaJ0WHzSET2/HiTzLhdD9wXEbcqR5L8jnLgoi9ExI8l3Rp9NCKosovu3eTAXB8FdomIT5YqqkeBcZJOiib0tip/kzvKo3L+XcneVt+Z2eO3n+/L6/En0wci4lqyjvEn5JDYDXXZmglzA2uQDcIqF4TKXe7zwIPksK610+72CUmbkqN5bkG2//hAFjMmR8QVEfEtcibVlo5CWv4+I4F7JS1YPqe9yLrgprXnqEfSIuTQu4tFDuX8PvLu9i5y8LSjI2JkKeMlwM7trpOOiKvIdPaQiKg0ovwhcBM5w+tdwHkR8WKnZBH6QgkIKy4jA683gdWUI8VWgqu/kzNPEi1suK3SJbm08fg0Oazzk6UKbSowSDkK6Epk1cSFrQgAJS1ZbrCOJ9tU9El1q7WHMxZ9JLKh5AJRBorpo3O+JOlnwGck/Tu6zhuxNln3+bVWX7grlGNT/IgcBCzIO/QbJH2LTO9vH9kVdu2IqMzw1ydTxZcswUgyK3AGOfnSftHEhqI9nHuSpEOAm5SjMJ4K/DoiTlc2rt1B0g/IXjKd1NvhCeBj5cK0M5mluJ/sfXREZO+eWYZy7JObJP0DeJ3sXrsT2TV4b3IyqKXJdhT7kuOPtLI8WwJnK8cUebOc7/mq9kpPkgHg78mu1ru2MMh5iQymdojscdLvubtpfe4VMsApJ/o5jPzhuJScQ2EDsn788NIOpC/KsQY5SuZJ5EBAuwMrkGMeTCbvwt8ojcp2IYOMPp9/Q9n3/jJgjWhCr4UGz70V2Zi0urHvYLJqaCNyfJGOqpOWdBc5Z8lXI+KUsmzu6NAxJFpN0gfIi/h+5f8HkoHi6eQAVJ8jGwLfHBEz3N22F+XYjmz/8vXIhslLkmN+fBc4PSLOKtstTI5f8UK0aAK/gUjZ9X2RFhx6UkRs1YLj9ikHFrOAUp+7G9nr437yB+7E6KMBaUoK9iQyDXpv+f+cEbFbSY+uSY70B5kp2KOvL+rVVDUEcRvOvTnZ7uVjUTVVdDvLVK3S6FY5WuLUklHZH9irVOMMJoewn+V+WKobJFct25DscfUQcG51A+Dutm9SOeYv57sxIr4gaRkya3ISOUHdAcCVEXF2D4cxm2EOLGYhJcB4F5g9Iia26oet5pyfIHsK7Bll9L7SKv0XABGxZwk81iBHvTw/mjhLaX+knPjtJ8D60eLurb0oSyWQWAd4Jmq6/UpaiqybPzkimt+xvx+q9MCoaqC8ITkk9u3ksPAt7x4s6eNkI9obyW7Bv4uI05RjZWxCNgw+JyIuaHVZbNbjwMJaqrRCnxoRp1b1tkDS3GTjvykRsXdZNrhdPR06jaQdyDYLbR+bQdL2pSxfifcGERtUKZek3YBXSyPYWVLpVTE5Iv5TZ/1GwCvRh1O3S1qPMnZERGxXtXwuskH3IxExsa/KY7MOBxbWElV3uj8DXo6Ib9RmSEpjzpOANyNij9IVr21zXXSaMqZAW7tRljYDl5MTUFVGQJ0rIh6rDi7Kth014mVfKRfqM4HrIqdr75jPoQQXPyUzgae1uzw2a3B3U2uJqh/Wy4H1JK1VAo1B5YIEOYPjl8sDBxVdtTuoKOYnG91+UNJJZBXWg5I2ipoBqTrlYtqXJC1T2r78FPiGpA3b/TlUqmIAIuJOsuvy5yQd2b5S2azEgYW12l3AbcDuJbh4tzTy251sRDYlIp5pbxGtonJRkrRUqbp6gBza/HDg3ojYmuxO2vCU5wOJpMElmzNO0gVkD5CRwPDSE6uvylE9ouZsJesX6jqJ4J3AV4GtJC1YvY9ZK7gqxFquNPDbj8xQ3EMOZ74LOepfXw0WZr1Uur0eR05MJ7Ir6X/LukpX5S9FH4/W2onKGCyrktOB/4mc4O8XEXF7H5y7elj8w8mRNN8gpyl/rrbNkspcOK0ul5kDC+sTpTX6WuSYDP8h+/E3bepzaw5JKwBXkdmkZ8gJoz5DdleegxxM6WsRcXWbith2ytEsvwUcS44PswD5nd6KDKBfiZxvo6/Kswk5PsV3Shk2AraJnMButoiY0ldlMQMHFmazvJo73w+Qs1zuW2lMK+lUshrkAkkfjJzWvmMaKPaFbhoeH0EGFPOQ08L/MiIuUc76ukRE3NZH5dqOHEfk8og4tyw7iZyifIfoozlIzKq5jYXZLKoMpFSZR6JS7/4qsLGkg6sa075MzpsCOafLLNVQs6qH06cl/UDSD8kRY88hZyldERglaZeImBARt7WqHUM3x32CnBNoPZUZlCPiCOA+4OLSWNptKqxPObAwmwUpp4e/v9TNV4KLIZFDhu8KHCrpu5J2BLYn28bMUgFFRflsNidHjD2fnLH0Z8A/IuLXZMbgJvIiP22fZpejJrO0nqRhpY3SfuS051+sCi4OAnar7blj1hdcFWI2i5K0PnAFcGxEjCrLhkTO7roMWWf/b+DOyNlMZxnKGWffFxEPldffJtueLAYcA3w2Iv5V9XnNF300QZyk/wN2AP4JPE0GObMBZ5BD5p8SVcPBm/U1ZyzMZlERcQd5932CpAPL4kr1xxDgj8A3IuKqWSmdLmkomQUYIWmtsvht4P/ICf32KUHF7sDh5bNp2YR5peFz5fkOwJYRsTE5O/Cm5PDc75DjVayKZ622NnNgYTYLi5yefnMyuDgo3ptY7G5ybpAo280yqc2ImAyMAZ4jx1/5IDnQ26bknBt/LyNaHgfcF0UryiKpEvgtUxa9DBygnAV4aXL21NWAHwFTgd0j4vlWlMWstxzZms3iIuLe0obgmtKV8hPAiIj4U5uL1qfKxXuliLghIu6S9AzZ7faL5KRwOwBnKCcV+yBwRETc2MLybAt8jwxgJgJExBhJs5FjVhxUeuiMI7MXb7hrqXUCt7EwMwCUM5jeBHwhIn5Tqf6YFbIVpfrj7+QAV2cCzwKXkWN3bEQObf5j8gI+GzBvRDzRqm63kpYALiKDl3tK+Ybw3pgZJ5GZplHAXmSm4sk6hzPrU85YmBkA5QK2ZES8NquNUxERk5WzuF4JLE4OYz6KrBJaGXge+CFwQhnYbVLZr1Wf0dtku4m3JM0BHEXOSDo7MB74GvAKsCZwgIMK6yRuY2Fm1V5vdwHaJXJK8+3JqiBFxMfIKpAJwILA3sDQPirOS8D1wMnl/MOAi8k5P+YGNoyIbwMHe1h86zSuCjEzqyJpXeAG4OiI+HnVCKTLRcQT09u/ieWYB/gIWT1zRUS8XZafDdwSEef1VVnMGuHAwsyshqS1gWuA70fET8qyygicbasmkrQrcCTZpuIf7SiD2fQ4sDAz64akj5Ezlq4CPNXONieSlgR2J3up7O7qD+tkDizMzOroyxE1p1OOOYFPAX+NiAntLo9ZTxxYmJnV0QnVH2b9jQMLMzMzaxp3NzUzM7OmcWBhZmZmTePAwszMzJrGgYWZmZk1jQMLMzMzaxoHFmZmZtY0/w9XqYskHywRBQAAAABJRU5ErkJggg==\n",
          "text/plain": "<Figure size 576x576 with 2 Axes>"
         },
         "metadata": {
          "needs_background": "light"
         },
         "output_type": "display_data"
        }
       ]
      }
     },
     "1508c60a85c847f1b8337dc7289b79c5": {
      "model_module": "@jupyter-widgets/output",
      "model_module_version": "1.0.0",
      "model_name": "OutputModel",
      "state": {
       "layout": "IPY_MODEL_5bd0d05e695042f4ad6b935a7f241ddd",
       "outputs": [
        {
         "data": {
          "image/png": "iVBORw0KGgoAAAANSUhEUgAAAgwAAAH/CAYAAAA7aIUlAAAAOXRFWHRTb2Z0d2FyZQBNYXRwbG90bGliIHZlcnNpb24zLjMuMywgaHR0cHM6Ly9tYXRwbG90bGliLm9yZy/Il7ecAAAACXBIWXMAAAsTAAALEwEAmpwYAABIOUlEQVR4nO3dd5hcZfnG8e9NElpCkSogGKpKDRCkIyKCSJEmRZQiEkAQEamKiFhQQJAi8AugFGmiIALSJQRQSoAQiijSFFB6J0BInt8fzztmXHdzdsPunpnN/bmuvTJz5szMM5OZOfd53/e8RxGBmZmZ2bTMVHcBZmZm1vocGMzMzKySA4OZmZlVcmAwMzOzSg4MZmZmVmlw3QUMJPPNN08MH75o3WV0y1NvPFt3CT2yyLB56y6h25587YW6S+iRQTOp7hK6beJ779VdQo8sPfcCdZfQbS+9/VrdJfTIMy+3T73LfXDBukvokXvv+fsLETF/x+UODL1o+PBFGTfu6rrL6JYDbz2x7hJ65Mdr7Vx3Cd225x9H111Cj8w5yyx1l9BtDz7/XN0l9MhVW3697hK67YK/XV93CT1y1G+urbuEbrv5kG/WXUKPzDnzpk92ttxdEmZmZlbJgcHMzMwqOTCYmZlZJQcGMzMzq+TAYGZmZpUcGMzMzKySA4OZmZlVcmAwMzOzSg4MZmZmVsmBwczMzCo5MJiZmVklBwYzMzOr5MBgZmZmlRwYzMzMrJIDg5mZmVVyYDAzM7NKDgxmZmZWqW0Cg6TJksZLuk/SPZLWms7H+VZv12ZmZjbQtU1gACZGxIiIWAk4DDh6Oh/HgcHMzKyH2ikwNJsTeBlA6VhJD0i6X9L2ZflCksaWVokHJK0r6cfAbGXZ+WW9A8rtD0javywbLukvks6Q9KCk6yTNVtNrNTMzq93gugvogdkkjQdmBRYCNijLtwZGACsB8wF3SRoLfAG4NiJ+KGkQMHtE3CJp34gYASBpVWA3YHVAwB2SbibDyNLAjhGxh6RfA9sAv+pYlKRRwCiAxRZbpC9et5mZWe3aqYWh0SXxUeAzwLmSBKwDXBgRkyPiWeBmYDXgLmA3SUcCK0TE65085jrAZRHxZkS8AVwKrFtuezwixpfLdwPDOysqIkZHxMiIGDn//PP2ygs1MzNrNe0UGP4jIv5MtibMT7YMdLbOWGA94GngPEk7d7Jap/ct3mm6PJn2ao0xMzPrVW0ZGCR9FBgEvAiMBbaXNEjS/GRIuFPSh4HnIuIM4CxglXL3SZKGlMtjgS0lzS5pKLAVcEt/vhYzM7N20E57zY0xDJAtA7tExGRJlwFrAvcBARwcEf+WtAtwkKRJwBtAo4VhNDBB0j0RsZOks4E7y21nRsS9kob3z0syMzNrD20TGCJiUBfLAzio/DUvPwc4p5P1DwEOabp+PHB8h3WeAJZvun7c+yjdzMys7bVll4SZmZn1LwcGMzMzq+TAYGZmZpUcGMzMzKySA4OZmZlVcmAwMzOzSg4MZmZmVsmBwczMzCo5MJiZmVklBwYzMzOr5MBgZmZmlRwYzMzMrJIDg5mZmVVyYDAzM7NKDgxmZmZWaXDdBQwkT73xLAfeemLdZXTLcet8ve4SeuSIO06tu4RuO2G9jeouoUcmTZlcdwndNu75f9RdQo986uLj6i6h267bbre6S+iRWbZvn/3dUTdcUXcJvaJ93nEzMzOrjQODmZmZVXJgMDMzs0oODGZmZlbJgcHMzMwqOTCYmZlZJQcGMzMzq+TAYGZmZpUcGMzMzKySA4OZmZlVcmAwMzOzSg4MZmZmVsmBwczMzCo5MJiZmVklBwYzMzOr5MBgZmZmlRwYzMzMrJIDg5mZmVVqycAg6YOSLpL0qKSHJP1B0ihJV3ax/pmSlu3vOs3MzGYUg+suoCNJAi4DzomIHcqyEcDmXd0nIr7SP9WZmZnNmFqxheGTwKSIOL2xICLGA7cAwyT9RtLDks4v4QJJYySNLJc/I+keSfdJurEs+7ikP0m6t/z7kbJ8dkm/ljRB0sWS7mh6nB0l3S/pAUk/6d+3wMzMrLW0XAsDsDxwdxe3rQwsBzwD3AasDdzauFHS/MAZwHoR8bikecpND5dl70naEPgRsA3wVeDliFhR0vLA+PI4CwM/AVYFXgauk7RlRPyuN1+omZlZu2jFFoZpuTMinoqIKeTGfXiH29cAxkbE4wAR8VJZPhdwiaQHgBPI0AGwDnBRWfcBYEJZvhowJiKej4j3gPOB9TorqIytGCdp3FuvTOyFl2hmZtZ6WjEwPEju2XfmnabLk/nfFhIB0cn9vg/cFBHLk2MhZm1avzNdLf8fETE6IkZGxMjZ556tu3czMzNrK60YGP4IzCJpj8YCSasBn+jGff8MfELS4uV+jS6JuYCny+Vdm9a/FdiurLsssEJZfkd5nPkkDQJ2BG6erldjZmY2ALRcYIiIALYCPl0Oq3wQOJIct1B13+eBUcClku4DLi43HQMcLek2YFDTXU4F5pc0ATiE7JJ4NSL+BRwG3ATcB9wTEZf3xuszMzNrR6046JGIeIay59/BGU3r7Nt0ef2my1cDV3d4vD8DyzQt+k75923gixHxtqQlgRuBJ8t9LgAueF8vxMzMbIBoycDQj2YHbpI0hBy3sHdEvFtzTWZmZi1nhg4MEfE6MLLuOszMzFpdy41hMDMzs9bjwGBmZmaVHBjMzMyskgODmZmZVXJgMDMzs0oODGZmZlbJgcHMzMwqOTCYmZlZJQcGMzMzq+TAYGZmZpUcGMzMzKySA4OZmZlVcmAwMzOzSg4MZmZmVmmGPr11b1tk2Lz8eK2d6y6jW46449S6S+iRo1b/at0ldNseN/6k7hJ6ZIGhQ+suoduuvOv+ukvokXH7HFV3Cd12yoQr6i6hRw775TV1l9Btj/xw/7pL6JGLOL3T5W5hMDMzs0oODGZmZlbJgcHMzMwqOTCYmZlZJQcGMzMzq+TAYGZmZpUcGMzMzKySA4OZmZlVcmAwMzOzSg4MZmZmVsmBwczMzCo5MJiZmVklBwYzMzOr5MBgZmZmlRwYzMzMrJIDg5mZmVVyYDAzM7NKDgxmZmZWqd8Dg6QPSrpI0qOSHpL0B0nLSHqgl59neG89pqT1JV3ZG49lZmbWjgb355NJEnAZcE5E7FCWjQAW7M86zMzMrGf6u4Xhk8CkiDi9sSAixgP/bFyXNEjSsZLukjRB0p5l+cWSPtu03tmStulq/WalteEWSfeUv7XK8vUljZH0G0kPSzq/hBokfaYsuxXYuq/eEDMzs3bQry0MwPLA3RXr7A68GhGrSZoFuE3SdcBFwPbAHyTNDHwK2Hsa60fTYz4HfDoi3pa0NHAhMLLctjKwHPAMcBuwtqRxwBnABsDfgYu7KlbSKGAUwGKLLdTNt8HMzKy9tOKgx42AnSWNB+4A5gWWBq4GNiihYBNgbERMnMb6zYYAZ0i6H7gEWLbptjsj4qmImAKMB4YDHwUej4hHIiKAX3VVbESMjoiRETFyvvk/8L5euJmZWavq7xaGB4FtK9YR8LWIuPZ/bpDGABuTLQ0XTmt9ScObrn4DeBZYiQxJbzfd9k7T5clMfU+aWyjMzMxmaP3dwvBHYBZJezQWSFoN+HDTOtcCe0saUm5fRtLQcttFwG7AumW9qvUb5gL+VVoRvgQMqqjzYWBxSUuW6zv24DWamZkNOP0aGErz/lbAp8thlQ8CR5LjBxrOBB4C7imHRf4fU/f6rwPWA26IiHe7sX7DqcAukm4HlgHerKjzbXJcwlVl0OOT0/FyzczMBoz+7pIgIp4BtuvkpuXL7VOAb5W/jvedRI5RaF7W1fqvNj3mI8CKTbcdVpaPAcY0Pda+TZevIccymJmZzfBacdCjmZmZtRgHBjMzM6vkwGBmZmaVHBjMzMyskgODmZmZVXJgMDMzs0oODGZmZlbJgcHMzMwqOTCYmZlZJQcGMzMzq+TAYGZmZpUcGMzMzKySA4OZmZlVcmAwMzOzSg4MZmZmVmlw3QUMJE++9gJ7/nF03WV0ywnrbVR3CT2yx40/qbuEbjvjU4fUXUKPPPXmbXWX0G2LDB1adwk9stZZ36+7hG675ku71l1Cj7z1pffqLqHbdr/uD3WX0CvcwmBmZmaVHBjMzMyskgODmZmZVXJgMDMzs0oODGZmZlbJgcHMzMwqOTCYmZlZJQcGMzMzq+TAYGZmZpUcGMzMzKySA4OZmZlVcmAwMzOzSg4MZmZmVsmBwczMzCo5MJiZmVklBwYzMzOr5MBgZmZmlRwYzMzMrNLguguoImkycD8wBHgPOAf4WURMqbUwMzOzGUjLBwZgYkSMAJC0AHABMBfw3f4uRNKgiJjc389rZmZWt7bqkoiI54BRwL5KgyQdK+kuSRMk7QkgaX1JYyT9RtLDks4v628i6deNxyvrXVEubyTpz5LukXSJpGFl+ROSjpB0K/D5Gl62mZlZ7doqMABExGNk3QsAuwOvRsRqwGrAHpIWL6uuDOwPLAssAawNXA+sIWloWWd74GJJ8wGHAxtGxCrAOOCApqd9OyLWiYiL+vTFmZmZtai2CwyFyr8bATtLGg/cAcwLLF1uuzMinipjHcYDwyPiPeAaYHNJg4FNgcuBNchgcVt5rF2ADzc938VdFiKNkjRO0ri3X53YSy/PzMystbTDGIb/ImkJYDLwHBkcvhYR13ZYZ33gnaZFk5n6Wi8G9gFeAu6KiNclCbg+Inbs4mnf7KqeiBgNjAaYb5kFo6evx8zMrB20VQuDpPmB04FTIiKAa4G9JQ0pty/T1N3QlTHAKsAeTG05uB1YW9JS5XFml7RMH7wEMzOzttQOLQyzlW6CxmGV5wHHl9vOBIYD95RWgueBLaf1YBExWdKVwK5k1wMR8bykXYELJc1SVj0c+Fsvvg4zM7O21fKBISIGTeO2KcC3yl+zMeWvsd6+He63L9Bx2R/JgZMdn2N4D0s2MzMbcNqqS8LMzMzq4cBgZmZmlRwYzMzMrJIDg5mZmVVyYDAzM7NKDgxmZmZWyYHBzMzMKjkwmJmZWSUHBjMzM6vkwGBmZmaVHBjMzMyskgODmZmZVXJgMDMzs0oODGZmZlbJgcHMzMwqOTCYmZlZpcF1FzCQDJpJzDnLLHWX0S2Tpkyuu4QeWWDo0LpL6Lan3ryt7hJ65END1667hG47+46L6i6hR5ZYZIG6S+i2OWf+UN0l9Mjoq35WdwndNvHt9vq97YpbGMzMzKySA4OZmZlVcmAwMzOzSg4MZmZmVsmBwczMzCo5MJiZmVklBwYzMzOr5MBgZmZmlRwYzMzMrJIDg5mZmVVyYDAzM7NKDgxmZmZWyYHBzMzMKjkwmJmZWSUHBjMzM6vkwGBmZmaVHBjMzMyskgODmZmZVWqpwCDpjQ7Xd5V0Si8/x7d68/HMzMxmBC0VGPqJA4OZmVkPtU1gkPRhSTdKmlD+XawsP1vStk3rvVH+XUjSWEnjJT0gaV1JPwZmK8vOL+sdUG5/QNL+ZdlwSX+RdIakByVdJ2m2/n/VZmZmraHVAkNjYz5e0njgqKbbTgHOjYgVgfOBkyoe6wvAtRExAlgJGB8RhwITI2JEROwkaVVgN2B1YA1gD0krl/svDfw8IpYDXgG26exJJI2SNE7SuImvTJyOl2xmZtb6Wi0wNDbmI8qG/oim29YELiiXzwPWqXisu4DdJB0JrBARr3eyzjrAZRHxZkS8AVwKrFtuezwixpfLdwPDO3uSiBgdESMjYuRsc7sRwszMBqZWCww9EeXf9yivQ5KAmQEiYiywHvA0cJ6knTt5DE3j8d9pujwZGPx+CzYzM2tX7RQY/gTsUC7vBNxaLj8BrFoufw4YAjnmAXguIs4AzgJWKetMkjSkXB4LbClpdklDga2AW/ryRZiZmbWjdtpr3g/4haSDgOfJsQcAZwCXS7oTuBF4syxfHzhI0iTgDaDRwjAamCDpnjKO4WzgznLbmRFxr6Thff1izMzM2klLBYaIGNbh+tnA2eXyE8AGndznWXLAYsNhZfk5wDmdrH8IcEjT9eOB4zus8wSwfNP143r2SszMzAaWduqSMDMzs5o4MJiZmVklBwYzMzOr5MBgZmZmlRwYzMzMrJIDg5mZmVVyYDAzM7NKDgxmZmZWyYHBzMzMKjkwmJmZWSUHBjMzM6vkwGBmZmaVHBjMzMyskgODmZmZVXJgMDMzs0qD6y5gIJn43ns8+PxzdZfRLeOe/0fdJfTIlXfdX3cJ3bbI0KF1l9AjZ99xUd0ldNudXzm57hJ6ZK4Dt6u7hG47aeEr6y6hRx474rS6S+i2Kx6/uu4SemSrH4/tdLlbGMzMzKySA4OZmZlVcmAwMzOzSg4MZmZmVsmBwczMzCo5MJiZmVklBwYzMzOr5MBgZmZmlRwYzMzMrJIDg5mZmVVyYDAzM7NKDgxmZmZWyYHBzMzMKjkwmJmZWSUHBjMzM6vkwGBmZmaVHBjMzMyskgODmZmZVeqVwCDpjd54nA6PeaKkpyX1SaiRdKSkA/visc3MzAaalmxhKCFhK+CfwHo1l2NmZjbD67PAIGmEpNslTZB0maQPlOX7SXqoLL+oi7t/EngAOA3Ysekxj5T0C0ljJD0mab+m274j6WFJ10u6sNF6IGlJSddIulvSLZI+2kmtna4j6fOSHpB0n6SxvffumJmZtZfBffjY5wJfi4ibJR0FfBfYHzgUWDwi3pE0dxf33RG4ELgc+JGkIRExqdz2UTJQzAH8VdJpwErANsDK5Gu6B7i7rD8a2CsiHpG0OnAqsEGH5+tqnSOAjSPi6WnUamZmNuD1SWCQNBcwd0TcXBadA1xSLk8Azpf0O+B3ndx3ZuCzwDci4nVJdwAbAVeVVa6KiHeAdyQ9BywIrANcHhETy2NcUf4dBqwFXCKp8RSzdHi+aa1zG3C2pF8Dl3bxWkcBowBmnW/oNN8XMzOzdtWXLQxd2ZQcl7AF8B1Jy0XEe023fwaYC7i/bMBnB95iamB4p2ndyeRrEJ2bCXglIkZMo54u14mIvUqLw6bAeEkjIuLFDuuMJlsomHOp+WIaz2NmZta2+mQMQ0S8Crwsad2y6EvAzWUw46IRcRNwMDA3MKzD3XcEvhIRwyNiOLA4sJGk2afxlLcCm0uatbQYbFrqeA14XNLnAZRW6lBrl+tIWjIi7oiII4AXgEWn5/0wMzNrd73VwjC7pKearh8P7AKcXjb0jwG7AYOAX5UuCwEnRMQrjTuVdTcG9mwsi4g3Jd0KbN7Vk0fEXZJ+D9wHPAmMA14tN+8EnCbpcGAIcFFZr1lX6xwraelS642d3M/MzGyG0CuBISK6aqlYo5Nl60zjcd4C5ulk+dZdrL9809XjIuLIEjrGAj8t6zxOdnN0vO+RTZe7WqfT5zUzM5vR1DGGoa+MlrQsMCtwTkTcU3dBZmZmA8WACQwR8YW6azAzMxuoWnKmRzMzM2stDgxmZmZWyYHBzMzMKjkwmJmZWSUHBjMzM6vkwGBmZmaVHBjMzMyskgODmZmZVXJgMDMzs0oODGZmZlbJgcHMzMwqOTCYmZlZJQcGMzMzq+TAYGZmZpUGzOmtW8HScy/AVVt+ve4yuuVTFx9Xdwk9Mm6fo+ouodvWOuv7dZfQI0ssskDdJXTbXAduV3cJPfLqcb+uu4Ru+9rNx9ddQo8M3nirukvotvsvOqTuEnqFWxjMzMyskgODmZmZVXJgMDMzs0oODGZmZlbJgcHMzMwqOTCYmZlZJQcGMzMzq+TAYGZmZpUcGMzMzKySA4OZmZlVcmAwMzOzSg4MZmZmVsmBwczMzCo5MJiZmVklBwYzMzOr5MBgZmZmlRwYzMzMrJIDg5mZmVVq68AgKSSd13R9sKTnJV1Zrm8h6dBeeq4zJS3bG49lZmbWbgbXXcD79CawvKTZImIi8Gng6caNEfF74Pe98UQR8ZXeeBwzM7N21NYtDMXVwKbl8o7AhY0bJO0q6ZRyeXNJd0i6V9INkhYsy4+UdI6k6yQ9IWlrScdIul/SNZKGlPXGSBrZz6/NzMysJQyEwHARsIOkWYEVgTu6WO9WYI2IWLnc5+Cm25YkQ8fngF8BN0XECsBEpoaRTkkaJWmcpHEvPP/y+3slZmZmLarduySIiAmShpOtC3+YxqofAi6WtBAwM/B4021XR8QkSfcDg4BryvL7geEVzz8aGA2w6shlY3peg5mZWasbCC0MkOMUjqOpO6ITJwOnlJaDPYFZm257ByAipgCTIqKx4Z/CAAhVZmZm79dA2Rj+Ang1Iu6XtH4X68zF1AGRu/RHUWZmZgPFgGhhiIinIuLEitWOBC6RdAvwQt9XZWZmNnC0dQtDRAzrZNkYYEy5fDZwdrl8OXB5J+sf2dVjNt8WEeu//4rNzMza04BoYTAzM7O+5cBgZmZmlRwYzMzMrJIDg5mZmVVyYDAzM7NKDgxmZmZWyYHBzMzMKjkwmJmZWSUHBjMzM6vkwGBmZmaVHBjMzMyskgODmZmZVXJgMDMzs0oODGZmZlbJgcHMzMwqDa67gIHkpbdf44K/XV93Gd1y3Xa71V1Cj5wy4Yq6S+i2a760a90l9MicM3+o7hK67aSFr6y7hB752s3H111Ct538iQPqLqFHBs/UPvu7h90ytu4SekX7vONmZmZWGwcGMzMzq+TAYGZmZpUcGMzMzKySA4OZmZlVcmAwMzOzSg4MZmZmVsmBwczMzCo5MJiZmVklBwYzMzOr5MBgZmZmlRwYzMzMrJIDg5mZmVVyYDAzM7NKDgxmZmZWyYHBzMzMKjkwmJmZWSUHBjMzM6vUrcAgKST9tOn6gZKO7I0CJM0q6WFJKzQtO1jS6d28/5GSDuzGejtLekDSg5IeatxH0lGSNiyX95c0+/S+FjMzs4Gquy0M7wBbS5qvtwuIiLeB/YFTlRYB9gQOq7qvpMHdeQ5Jm5Tn2CgilgNWAV4tz39ERNxQVt0fcGAwMzProLuB4T1gNPCNjjdIml/SbyXdVf7WLsvvlzR3CQEvStq5LD+vsUffEBHXAP8CdgZOAI4E5pR0o6QJ5d/Fyv3PlnS8pJuAn3SoZQ9JV0uarUOZhwEHRsQz5fnejogzmh5vW0n7AQsDN0m6SdLukk7o8NjHd/P9MjMzG1B6Mobh58BOkubqsPxE4ISIWA3YBjizLL8NWBtYDngMWLcsXwO4vZPH3x/4ITB/RJwHnAKcGxErAucDJzWtuwywYUR8s7FA0r7A5sCWETGxw2MvD9w9rRcXEScBzwCfjIhPAhcBW0gaUlbZDfhlx/tJGiVpnKRxr7/85rSewszMrG11q0kfICJek3QusB/QvEHeEFhWUuP6nJLmAG4B1gOeBE4DRpXuhpci4o1OHv8ZSX8EriyL1gS2LpfPA45pWv2SiJjcdP1LwFNkWJjU3dc0LRHxZqlnM0l/AYZExP2drDeabH1h8eU/FL3x3GZmZq2mp0dJ/AzYHRja4THWjIgR5W+RiHgdGEu2KqwLjAGeB7Ylg0RXppS/zjRvjDvuyj8ADAc+1MV9HwRWncbzduVMYFe6aF0wMzObUfQoMETES8CvydDQcB2wb+OKpBFl3X8C8wFLR8RjwK3AgUw7MDT7E7BDubxTuX9X7iUHSv5e0sKd3H40cIykD5YaZyljFjp6HZijcSUi7gAWBb4AXNjNus3MzAac6ZmH4adkEGjYDxhZBic+BOzVdNsdwN/K5VuARZj2hr/ZfsBukiaQXQ5fn9bKEdEIJFd1PJojIv5AjsG4QdKD5HiGzrpjRgNXlwGVDb8GbouIl7tZt5mZ2YDTrTEMETGs6fKzNB16GBEvANt3cb8vNV3+ExUBJSJ2bbr8BLDBtNYp149sunwtcG0Xj/1LOulW6PCcJwMnd1hlHfLIDTMzsxmWZ3rsQjkk9G/AxIi4se56zMzM6tTtoyRmNBHxCnn4ppmZ2QzPLQxmZmZWyYHBzMzMKjkwmJmZWSUHBjMzM6vkwGBmZmaVHBjMzMyskgODmZmZVXJgMDMzs0oODGZmZlbJgcHMzMwqOTCYmZlZJQcGMzMzq+TAYGZmZpUcGMzMzKyST2/di555+TWO+s21dZfRLbNs315Z8bBfXlN3Cd321pfeq7uEHhl91c/qLqHbHjvitLpL6JHBG29VdwndNnim9vpNOGHd/esuoduOuWd03SX0yJVdLG+vT4iZmZnVwoHBzMzMKjkwmJmZWSUHBjMzM6vkwGBmZmaVHBjMzMyskgODmZmZVXJgMDMzs0oODGZmZlbJgcHMzMwqOTCYmZlZJQcGMzMzq+TAYGZmZpUcGMzMzKySA4OZmZlVcmAwMzOzSg4MZmZmVsmBwczMzCpVBgZJ35b0oKQJksZLWv39Pqmk4ZImlsdr/M38fh93Gs/3p756bDMzsxnB4GndKGlNYDNglYh4R9J8QG9t2B+NiBFdPO+giJjcS89DRKzVW49lZmY2I6pqYVgIeCEi3gGIiBci4hkASUdIukvSA5JGS1JZPkbSTyTdKelvktbtTiGS1pd0k6QLgPvLst9Juru0cIxqWvcNST+UdJ+k2yUtWJYvKOmysvw+SWs11i//LiRpbGnReKBRm6TPSLqn3OfGsmye8vwTynOs2O131czMbICpCgzXAYuWDf+pkj7RdNspEbFaRCwPzEa2RDQMjoiPA/sD3+3isZds6o74eVn2ceDbEbFsuf7liFgVGAnsJ2nesnwocHtErASMBfYoy08Cbi7LVwEe7PCcXwCuLS0bKwHjJc0PnAFsU+73+bLu94B7I2JF4FvAuZ29CEmjJI2TNG7Km+928VLNzMza2zQDQ0S8AawKjAKeBy6WtGu5+ZOS7pB0P7ABsFzTXS8t/94NDO/i4R+NiBHlb5+y7M6IeLxpnf0k3QfcDiwKLF2Wvwtc2clzbACcVmqfHBGvdnjOu4DdJB0JrBARrwNrAGMbzxsRL5V11wHOK8v+CMwraa6OLyIiRkfEyIgYOdPQPhuGYWZmVqvKQY9lwzsmIr4L7AtsI2lW4FRg24hYgdxDn7Xpbu+UfydTMU6igzcbFyStD2wIrFn2/O9teo5JERE9fY6IGAusBzwNnCdpZ0BAdLK6OnuI7jyPmZnZQDPNwCDpI5KWblo0AniSqRvuFyQNA7btg9rmAl6OiLckfZRsCahyI7A35MBJSXM23yjpw8BzEXEGcBbZbfFn4BOSFi/rzFNWHwvsVJatT47leO39vigzM7N2VLVnPgw4WdLcwHvA34FREfGKpDPIwYlPkE39ve0aYC9JE4C/kt0SVb4OjJa0O9nysDcZCBrWBw6SNAl4A9g5Ip4vAyovlTQT8BzwaeBI4Jfl+d8CdumVV2VmZtaGphkYIuJuoNNDEiPicODwTpav33T5BToZwxARTwDLd1g2BhjTdP0dYJMunntY0+XfAL8pl58FPtfV+hFxDnBOJ7dfDVzdYdlLnT2WmZnZjMgzPZqZmVklBwYzMzOr5MBgZmZmlRwYzMzMrJIDg5mZmVVyYDAzM7NKDgxmZmZWyYHBzMzMKjkwmJmZWSUHBjMzM6vkwGBmZmaVHBjMzMyskgODmZmZVXJgMDMzs0oODGZmZlZJEVF3DQPGKqsuHTfffmLdZXTLqBuuqLuEHjlm3U/WXUK37X7dH+ouoUfG3/V43SV02+g9tqq7hB5Zau4P1F1Ctx12y9i6S+iRdRddtO4Suu3gVUbVXUKPSIvcHREjOy53C4OZmZlVcmAwMzOzSg4MZmZmVsmBwczMzCo5MJiZmVklBwYzMzOr5MBgZmZmlRwYzMzMrJIDg5mZmVVyYDAzM7NKDgxmZmZWyYHBzMzMKjkwmJmZWSUHBjMzM6vkwGBmZmaVHBjMzMyskgODmZmZVXJgMDMzs0ptExgkfVvSg5ImSBovafXpeIwtJS3bdH1XSQs3XR8jaWRv1WxmZjZQtEVgkLQmsBmwSkSsCGwI/HM6HmpLYNmm67sCC3e6ppmZmf1HWwQGYCHghYh4ByAiXoiIZyStKulmSXdLulbSQgCS9pB0l6T7JP1W0uyS1gK2AI4tLRSHACOB88v12ZqfUNJGkv4s6R5Jl0ga1s+v2czMrGW0S2C4DlhU0t8knSrpE5KGACcD20bEqsAvgB+W9S+NiNUiYiXgL8DuEfEn4PfAQRExIiJ+AowDdirXJzaeTNJ8wOHAhhGxSlnvgM4KkzRK0jhJ41544dW+efVmZmY1G1x3Ad0REW9IWhVYF/gkcDHwA2B54HpJAIOAf5W7LC/pB8DcwDDg2h4+5Rpk18Vt5bFnBv7cRW2jgdEAq6y6dPTweczMzNpCWwQGgIiYDIwBxki6H9gHeDAi1uxk9bOBLSPiPkm7Auv38OkEXB8RO053wWZmZgNIW3RJSPqIpKWbFo0guxrmLwMikTRE0nLl9jmAf5Vui52a7vd6ua2r6w23A2tLWqo89uySlumVF2NmZtaG2iIwkN0K50h6SNIEsrvgCGBb4CeS7gPGA2uV9b8D3AFcDzzc9DgXAQdJulfSkmRLxOkdBz1GxPPkERQXlue7Hfho3708MzOz1tYWXRIRcTdTw0CzF4D1Oln/NOC0Tpbfxn8fVvko8Num6+s3rftHYLXpq9jMzGxgaZcWBjMzM6uRA4OZmZlVcmAwMzOzSg4MZmZmVsmBwczMzCo5MJiZmVklBwYzMzOr5MBgZmZmlRwYzMzMrJIDg5mZmVVyYDAzM7NKDgxmZmZWyYHBzMzMKjkwmJmZWSUHBjMzM6vkwGBmZmaVFBF11zBgSHoeeLIPHno+4IU+eNy+0E61QnvV2061QnvV61r7TjvV2061Qt/V++GImL/jQgeGNiBpXESMrLuO7minWqG96m2nWqG96nWtfaed6m2nWqH/63WXhJmZmVVyYDAzM7NKDgztYXTdBfRAO9UK7VVvO9UK7VWva+077VRvO9UK/VyvxzCYmZlZJbcwmJmZWSUHBjMzM6vkwGDWA5JUdw1mZnVwYDDrmfnqLqAzzUFG0hx11jKjabz3kgbVXMdCkobUWUN/kLRY3TVU6WzHYiDsbDgwtLF2/gC2Y+2SFgLOkbRt3bU0kzRTlNHLkr4M7ChpcM1lVWrHz0BHkhQRIWlT4CxJQ/r7dSktAHwPmHkgvK9dkTQfcJikpequpSuNz0S5vKikhQGiH48waAqxvfpZcGBoUx0+lCtLmkPS7HXXVaXpA9yOP2pvAL8Cdpa0Sd3FNETEFABJ6wCrApdFxHv1VjVtHT6/y0qaWdLMddfVU01h4WjggoiYRD9/tiM9B3wdWJn8fM7SnzX0o5mADwKr1F1IV5o+118DfgP8UtIlkmYqy/v089H83QJ6dZvgwNCGOvzY7g1cCvwSGCVpkVqLm4amvbH1gWMl7SNp3ZrL6raIeB14G3gVOLRVQoOkQZKGA1cCCwGvtnILQ4fP7z7AFeTn98uS5qm1uB4q3RDrA3sCd0vaHLis8bnuj41D43JETCT///cCthxIoUHSYpLmLcHoVGAfSUvWXVdXym/czsCWwBbAzMAl0PctDU3frT3JVq8jJH2xNx7bgaENNX0gtgZWAD4OnEsm790aTWCtpiksnA08Qta+o6Sdayyr28rG7WDgGmA8+aO1RU21NG8oJkfEE+QP04rAZ1u5haHp87sl+Rn4BHAVsCRtEBo6vvfAm8BPgQuBEcC/gG9JGtqXG4cOwWt1SR+IiEuAbwF7A1u3a2horlvSR4EvAtdIWht4BvgDMFe5vfbtWCfB8A3gXuDfEfFORHwO+KCkL/VTPbsBOwI/BNYjWx7ft5bdC7FpKz+qRwAvR8TzwO8lvUvu7ewr6eSI+FedNXZhBPDDiDhD0vxkvetJujwiXq21smkoPwhLAgdExJ8kXUfuPewraUpEXNmf9TRtKHYnm6GfBH5N7umeUWr6fX/W1BOSFgSOBe6PiKeACyRNBNZi6uf35VqL7ERTK9nGZNh5jxw7cDPwj4h4VNKiZNfV3GSY6BNNn4G9gIOAv0i6Bjiz1PRtYBZJF0TEu31VR28r37XtJL0FPA98B/gCeVbG7YBhZDheXdK2jS65unQIbl8E7iZbIpchf+/uLauOoY8+D5JWBN6NiIfLojmAr5BhYQr5+UDS8LJzMV1qT2bWPc0pWjnI7SVgN2BBSUcARMQ1wJ/IH7FJtRTaQdPgm2Fl0SRgV0nzlaAzBlieFjv6oOMeQ/lBGAZ8s1x/HrgDGALs0vT6+rPGfYCdyC6prYDdI+JG4GvAeaVvvSV03AuMiGfJcLOKpK+WZZcB44BZaNExLiUsbELuud0N7AEcHxE3lbCwHdk19LOIeLovamj+bCoHO65ItjKeDCxOjmX4M3AMsC0wa1/U0RfKjtAcwLXAacBvgW9FxPMRMZoMQj8GfgcMIlunah1A2xQW9gP2B2aKiAfIAD9a0jckfYcMOQ/0URmjgKMlfaRcnwzcCuwQERtFxHuli2KL99Nd6cDQJpoGtu0E/KhsLF4BtgE2lHR4We/3wE8iovZzujftjX2c3OtdCTifDAkHlx+HucgftJbZQHTYY9hC0g7KQxW/Dbwk6aSy6hLAg8DeEfFGf9TVYdFCwObA0sDrwA8kzRoRV5Gfi7/2dU3d1fT53U7Sd8vn+C/A58lutL3LehcDR5dA3BIkzSNpmaZFnwF2AOYEXgaOb7ptPuCQiLisLzZiHT6b+5DhYLmIeDEirgVuABYEDgPGAttFxGu9XUdfKN0Q3wDmL2MVfkF+rlcut88UES9FxCPAAeTGd2Xo3yMQOlNalT4PbBoRD5aaTiWD5RRgfuDzEfG3Xn7eQeW59gX+Bnxf0tLkTsQfyFanIZJ2AfYFbng/3ZU+l0QbUR4ydwA5IntL4FFyb+ZlcjTuLyLi2NoK7ISkjYAvk6OaXwN2B2YDtgfWJVscjouI39ZWZBfKl+ybwHPke30p8E/y/Z8FWBTYvuxN9GddGwI3AT8gWxYeiYjNy217Aq+UDW9LkTQK2I/cc/w08BD5uZ2Z7P//QUScVV+F/0vSrMChZKg9NyIeKoFxDvL/f++IeER5qO2UiLi0n+raHDiEbEU4Hrg7IrYvt20BrEl+r17sj3rer7Lz8HZEvFU2vpsDl5N7yjcBv4yIYySNBCZGxIOSDiK7NLcmm+P79bDF5udTDjq+DFgvIl6XNHNEvCtpzr4KbMpDTOeNiL+W39mbyc/DvMCPyBbRXYGlyB2yb7zv36qI8F+b/JGjgzcqlz8EHA58v1xfHhhed40d6l0SmACsWK6fQH6pGtcXBRYsl1V3vR1q/yxwNTC4XD+CHNi2drk+F/CBGuoaSg5w3bT8n18PHFhu24XcCC9T9/vXRe2/ANYol5cGjgIOLtfXApaou8Yu6l6XbAY/gtx7Xwt4C/hSU+0PA5/op3rWJJvkdy/XRfaTX9j8Oan7fevB61mW3Nh9r7y/65BdEd8kw+RSZGvZScBTwKfK/fZo/Jb0c71qurwNsEq5fHr5TA8r13cnjwCaleym6O06VgQuAM4gd2hmK8tPAc5p/A6QO2iz9cpz1v1h8V+XH4YPAmuWy1sDi5CDf34BzFOWf6R80earu94uXsO85F75Uk3Lfk/2/Q4v11sqKJSaZiebRt8ANi7L5igbjF/214ahi9qGkHuWPyjXNwb+WH6Y7iSbp1vhPVwIWKFc3gKYBziO7GcfWpavWWqfs+56u3gNMzVdXp3ck/9e+W5+lhxoekbZWG/Wh3Wow/W1yCONzgdWaqwDPA6cXff71sPX9jHgPvIQxOb3ew3gPOBAcnD+wuTe8potUPNM5d99gPsbv2/A2uSe/T3lt/qBvvg+AjM3Xf5++Z36Sod1TiK7JJbuzed2l0SLKkcQjCF/BIaSfaYfIkcJPwucRe757AdsGy3QT9k0ZmEQEOQYmdHAjcDVEfFSaU7/AXl0R6vMY9DcLzwTZS4cSYeRP84/jojbyjiGr5I/ys/2c43rA29GxF2lKfKPwJERcWnpK58PmBQRr/RnXV0pTbTXAXeR4WFHslVhc+CJiDitNKuPAnaMfhgD0hNNn+UVyJHtrzE1SL5C/iAPJbumZo6Iv3Rspu7NOsrlNYF/kPOAzE8Obn2FnKjr/rLO4hHxeG/W0FfKd+1o8uiSnzctHxQRk5WHUO5BHoJ9ZuM71xgb0tvvdTfqXSUi7imXR5A7b5+NiH9LWo/8Dk4gD2EMYHz0/piFuYGRZEviFuSROC+SO5VnANdExFtl3e+Q3dS9NvjWh1W2mMYPREQ8L+kU8tCzEyPiWUkvAh8GNiT3KAV8rcXCwqZkuHmW3AM6ifxRWFHSm+Qe8R7AdyQtHBHP1FY0//OD/A3yUKh5JX09Io6WtD9wkKQhETFG0jH98UPVoa7Zyb2XvSQdTQ5mOwQYUfrY34k8aqN2TZ/fJySdQ+5pHVo+v2+Sn9+NJW1PNtXu1WphAf7raIhjyEMkvwasRo612Iacj+O8iHio+T59UQf8Z9bAL5JdUIuTzfU/Jydp2knSeRHxYLuEBciBsGUD+Az812dnclnlTnLQ46E0zVjY30GhyQGSvlmCy8Nk6+4J5Xd5eeBpspuyL8fhTCJ3Yr4LfADYJCL+qTwEdV/gTUmrkiF9v95+r3yURAvpsJFYnvxQbkzO4HhoRLwXOajq22Qf9hYRMb62gps0/cB+nxzUNh/ZDzkbeTzw38hm6b3Lvx8lj1WuVdP7vR+wGdntsARwq6TFIuJn5OGTe0marT9q6vA5WBmYJSJ+SO6dL0hurI4iW5sWrfEH9L90qHsZ8hDJHYDvSdotIt6IiPPJVrHtyGb88bUVPA2SPkyOEfoc8ATwEtmCcyd5uNxsQJ/NbaCmydckbUaOwP8E+d1Zhuyjnki2NE4mA3o7epCpO66NQ7Ab1w8H/g7sWWcQKi0hRMQXgY9KujYi3iZ32h4FTo2I9cnXsngf1dBoVXmTbLH9IHnY5GBJg8v36kzye7UhOUi0938Xutt34b/++yOPhLgVWKxcX4Ecqb8PeXTELymD8Vrljzwm+lCyT3Jz4BYyHPwd2LBpvQ0oszzWXO/qwOHl8hCym2Q+coKT88mWnX+RG2Qo40b6oa7mAVVfJUPjrWSrzFzkj+oHyAFW9wAfqfv/vpPX8E2yO2KRcv1TZDP6lmQz6sn0wSCwXn4Nc5IzJm4P3E7pCyZD5ayUgW199NyLkMF1jnJ9RFk2itxYLEiG8VvJvv0hdb9f7+O1rlm+Z9t1WL4aOadMrQNhO3wfh5R/HwDO6bDeF8nut4/1cQ2zkzv6iwA/Kb9TI8ttc5Hjxvrus1n3B8Z///Ph2JZsimv8WCxVNmiLA7eRx1nXurFtqrUxBmb58u8c5cfsZqYeCfFHsqlugXJ9QWDJFqh9RbK/8dByfday7FZgUFn2ZNkoD6qhvs+RI6BnKRup08kmxw83rdNnPwzvo+4dyUmD5izXG6F3NXJw4M2t8vntov6lyFA7pLyO15l6pMzq5fPRZ0ehNL1vw8i+8F2bbjsRWLVc/nH5TCxW93v2Pl5r4/djM6buEO1EHnL7IPC5umtsqnU/4DtN18cBl5TLy5bvap9+rsnup4vIFsYR5ff2RHKg5clkS+hcfVmDBz3WrJPjeT9D9lf/mxzYtCW5l3kwOd+CorXGLHyGHD3+pYi4uxxPfVz5m4ecJ+AXkcdNzxQ1T+ParAxoOwP4fUT8SHn66p+Qr2dZ8rDQcyPiyX6uawHg/8g99I+XZZ8l987/Dvw6Iv7RnzV1l6QdyCbzJ8jxCluRP/77k3tGLTMws6Hps7wGOahxFvL79jrZUnID+Xp2JQeaXt5HdWxM/vgfEhE3SGpM7XtdRPxK0tnAO+SAt23JiYD+3Re19IXG91/S3BHxSvPgxTJo8FPk9+4V8jt5RV8MJO0pSbuSYWbb5t8CSX8GXoyIzZTnDemzacCV039/gWy9O5YciHsSGWB3BFYCzoiICX1VA3gMQ6069PnOpZxe+DGyT3IzskVhZ7J/crGIeL3usNDhS740uXHdIyLuLstfIvt2DyMHiN0UU2c+q33O96bLM0WOLB8FbCbp25Hn3niB/FL+gNyD6POw0KGuwZGz3P0IeEXSDwEi4g/kdLkfIjdkLUXSLqXf/U6yWXQX8vDZr5IbgEUjp/d9pbYiu1A+yxuRx6/fRh798FVy4Ngnyfd7CDnfxeXN/1+9bBlgOeAQSRtHxJnk//kGZTDxvuRYiuWBfdslLEiaoxz5MEXScsA5ylOZN4KaImJsRHw3Ij4P7NMqYaFYgzz/zZPK07APBoiINYHZJS3Sx2FhfrK7dPNSyxRy/MR+wPrlc/L1vg4LgLskWuGP3ED9jmz+3pqmJnuyheEeWmBSG2AxMsA0muxXIPd2G7fP0nR5bqYen1z7XAv8dz/gzmT/9I5k0+/ylIGN5fY5gQ/WUOOe5N7DweTAyzXIEfpHNa3TkhPykBvbZ8iZ52DqJDKfI7sihtddY1efCzIMnAx8sSxbghxUegH9OK8FuVE4gRzDdBmweVn+JXJw43aNmut+33rwmuYip0ferVxfiRyQBx3GsbTC6+pYU1l2GlMnyWr89m3Y/HvXyzX8z/tA7tx/hDxsErJr9/byuei3eUzcwlCzsmezPbkROwbYiDw3xCyStiKPiNglIh6rscyGweREJR+QNJScdW14aYYmIt6RtImk70fEKxHx97K89r2ERg2S9iA3zHeSo4q3iZwu9SvAN8phU69FP++9lWbPL5JdJI2jYO4m+yhHqJwrhJxhsGVImhf+M5f9r4DxysNlJ5bPxZFkd9UT9VXZtUiTyLMifqY0lz9Gto59jDxr4iJ99fySVlSeaRCy9eBdsln+NPLoqM9GxHnkeIp1lVMN1/596oF3yFa7j5XPw4LkIEfIuQr+oxVeV0w958mnJS0naS7ys3CspE8CQ8rrOIEcfNwXNfznt0rSUcqTC36IfC8/WFpnVie7qg+Nfmx19jwM/az8wE6JqafuXQD4a/lPv0jSC+Tx1deTG4zN+3vj1ZnSPPiY8rj/P5BzAfy0/H26NDWOJedc+HZ9lf63Dt0+w8iz+m1PNjX/idzIERH3S9qGnDWtv2ucnWyt+SrZqnAHcHpETJJ0P3nM9XOlztp/VBuUk0l9VtKFEXFvRBysnLTrduWx4DcCt0QfnbVxejWNWVgOWCgibiBbE/YCdpB0Jvnj/E/yUMbx5B5/b9cxb3nspyQdQA6y/TYZEkUerbOXcg6QM9WH5yXoC6Ub4m1JfyJ3hD5GHtWxQvmuzSPpKfIcEjfVXGvz78SuZJfkGPLQ7yPI8QPHkBvpJcjJxnr1d1nS7DF10qX9yDFLR5G/sRER35d0NzlweE7yTJT9Ov+KA0M/KgPXjgSekPT3iPgWOYBpI0mrR8QdkYOdbiObxP9UZ70NpV/9vfKlert8mI8hTyp1BTkg7CDyQ/ydiLiqVfofm34EPkLW+XdyL17keTlC0sHAXf31o1XGfsxLHiI1PnIGzCfJDcW7EbFRWe/bwGMRcWF/1FWlk//TJykDWyVNiYj7yM/BluQU4GtHCw1ybSj/5xuTRxn8o+zB7UAGyE+ThwTPQfYZb02e86Qv6nhROfPpDeQROh8jB10+TZ6x8VfKuT++IOmGdgoLAJGzNa5FTjL2XTKsr0pOPrQS2V3xEXLnqFZNvxM7kYOdR5BjWbYif+sOJwegDiW7LZ7rzecv24aNJP2U7NpblJyD5+tk69cxJYDtXsYKvRN1nFisv/o+ZvQ/8pS4t5J9uiPIedKHkBuuo8i+60PJkdiPUo7/r7nmBZg6b/pG5Mmvtig1L0WOID+ADocd0gJ9kR3qWZocIzIvuWG4i6knQdqWnMu+X07YRHY13EPusV5PdussT26o7gA2IU+4sy2599nrx3VPZ93NY0A2L3WuTh6Oeiq5R7YGOQviEcDiddc8jdeyDDn5UuNcF2eRZ81cuHy2Vy6XNyAnHOvTuS7IowOeLJ/PPck9yPPL52AOWvRcG914XcuTTfeN8Quzka04x5TvYcvMxdH4fJNdlf9m6pwLS5FH+PwOWL2Pnnuz8hu0ZaMWshvkFvJcPI1a9mqsU9v7VPd/1IzwR+6FTQG2Ktc/TvbjnVa+PPOUH9qTyo9X7ScQIlsLTiw1rVk2Zj8CriFPCDMnZUZEcgBhv89VMI3aOxs0dB7ZzE95HeeW1/In+mleADI03k7TyavIPa/HyL2a7chJua4h569omfkKmn5Qv0oOYvwh8BdygObM5fqFZdlH6653Gq9jDrLbbELzjy95GOtNwMLl+ofJVpJ++S6SJ7O6n6lnOmzZwNWD17QLOfbiZLLFpBEavkEOkl245vqaQ3DzgO0/k4d1Nq5/hJyErtfrJWdsvAlYrVyftfy7MdkaunW5vmv5btU6h03tH6oZ5Y/cs7yXbIq7njzr3WLk3u4vmtbrk5G3Pax1mRJcvkX27d5CORsfef7500tomKts6D5ed81dvI6PMvVIjXnIE2EtUa4vVn4IFuinWhqhsfE+ztp021Fk3+jMZBBbgH6aWbIbdS9FmQym1HUTpdWDHPT1KLBzuT5bY8PQKn+l/i+T3a//mWishIYf0XT2w/KZX63p+hz9XOtny0ZhnqZlLdVaV1F/4/1djNJ0X34vLiRbzBpn2Z2Nmiec6hAWRpXPwzealt0K/K7pep/Mplm+Q9eRY5hmJbusbyLD6p3kgNEzynZi2dr/j+suYEb6I/cwp1BmFyzLhpGDwxoJvNYfCHKE9gPkRCWLkAHnasrhPGWddck99MNo0ZYFMrlfRh4JcWT5Mp5BHr9eV32bknuRjUMPm/dqbqbM4tcqf+XH7ARyMqu5y7Lf8N+H/W5Bns2z9no7qX8I2V0yhRxM+D3+u6n5R2RXyrod7ldbUznZZXlP2di2RVggR/CvXi5/htwxOpccBD1fWXYuOXCwJYJwU+37lHCwMjl9+YlMnW3zQeDCPn5+kYfVX0t2T55NHrG1Ftn6/BWyq6olgrgPq+xHEXEN2dS0m/IsbZAnlZmNciKmKJ+iOkiak2w+PCEifh4RT0cOZDuYHMl9Yhn4dgu5N3ZFTD2zXK06jHJehjz8cE/yS7cBJdwA31XO8NjvIuIq8r28U9IHIg9DHVJufoUcmV+7pomJXiH3ft4F9i/LHwEu1tQTBH0YWLQcHdFSIg+XvJqc+OzfZAvJ1ZK+SB4N82Pyu7expA80XnfUOFAzchbJ9SJiSp2/Bd1V/t93AZZVnv79WHJCoa+QLam3k03815CBeeaaSgX+Z5K0YWQLyFbkBvoecgr+UyUNi4jlyN+NPlP+j/+P3Kk5gDzR1pmRA94XII8geTFa5Gy0tSeWGfGPHDD2ANkfPJZyLoa6/8g9snOZ2gQ9pOm2jwEXA6fUXWfFaziIqdP5Hlde08zkntt3yY1H3X2nm5BN+R8o13cmx4j0S/dIN+prnDuhMeB1e/IQ34PK9VPIsR+nk3uTtTeVVrye7zF1Uq7DyfFDD5Ebte0oJ5by33S/vwcAl5ADRc/u8Nk5hdLUT2sM5G50mxwArEMGxjXIGWkhA/Bb5AD0OluaPl++c7Wfd6f5zy0MNYiIq8kP5M+AvSMnDmoFQ8mmuXUg99Ca9hxfJEfyzilp2ZrqmyZJnwI+GXlY4qPkoMyIiHcj4vKI+B7Z//5MnXWW//99gbGS9iZHP+8evXyo1vSQNB/wd0kLRE7luzC5x3gHML+kwyInadqXDJBbR8RDNZbcHY8DK5VJeLYmg+POlHFFEfFIncW1o9Ia2XAp2YIzEVhR0l4xtZXmEbLblYj4Z/9WOZWklUoNoZxme23gHxExkZyKf6by+fgY2ZV5ftTQ0iRpIUn7ky0Ou0TEo/1dw7T45FM1ap6oo1VIGkUm7pMiYnw59ndyOU54J3Ivs9YNbkOZW+Gn5ORWIekTZOD5AHnI3xYR8a6kkRExrtynJeaHAJC0Gflju3KU8220Akmbk4PAdiD7dC+NiJ+XiZo+R3ZR/DDaaF4ASXeQZ8w8MCKOL8v69IRBA1WZaGwsGcrfJAdFf58c2zSM7Io4E/gH2Yp6UETUNtdCmXPjLHI654nAOeRJo7Ypty9IjiNYjRwv8PmI+GtNtc5GdqH+NcpMua3ELQw1arWwUFxGNtnuJWkDYIqktckN83ktFBZWJgezTSL71EXWvQUZFrYuYWEfclrXOaC1ZkqMiCvJwYQtExYAIuIK8iiYCcD1EfHzctMtZF/0JPKMji2r0Vfd1EJ2CHnEz8+alrfi96/lld+t7cj5CR4jjwCaSLbYPEC2UL5HtvAdUnNY2Bz4DrBTRDxMht1jgSWUZwMlIp4lB/YeQO581BIWSi0TI+KqVgwL4BYG60RJ3NuRewf3kIdO/jgifldnXQ2lSfEYstluXPl3tojYrjTnrUL+cEGeuGeHVtsotwNJnyYHwa4eEa82LW/FlrHGdM+rAc9Gh9N/K88HcRlwXET8upYiB4jOWunKTsUeZMg8O/KstV2u3x9KF8ME4MaI+LKkRcmz6x5DntNiD3K+hbP6u7Z25cBgXSrBYQp5+N9TrdCcX7odziL3GO4oy4aRI42JiJ1KoFiZnHr53LJnYdNB0ibkXvmazRuBViRpC3J8wgERcXNZNhPlHFOStgNeL2NI7H1qOqqkcXTS2uSkTLeRk6RNrLE8ACStQx4NcyM5tfNvI+KU0vS/PnnU0i8iT/BlFRwYrK0oT9IzOSJOVJ6UZ1JZPpScmOm9iNilLBsULXLYZzuT1DjCZCRl41tzSf9D0hJkC8JWkSdJWwyYPSIebg4NZd3ag2+7kvRh8nwn/+ri9nWB1yIPx24JktYgp9p+KCI2b1o+O9l98lBEPFVXfe3EYxisLTQdP704MH+5/F7j9jJ47ShgbkkXNRb3X4UDV7TH3ABzkXMrLCXpGLLF6T5J63asu4VfQ0srG9gfkYMH/2tOg4aIuKWVwgJARNxODtheUNK+TcvfiojrHBa6z4HB2kLTj/xlwBqSVi3NzDOVPUjIk/h8vfxRx2FRA1VE9Ptpv6elaVDjIqWl6V7gKrJJfFxEbELO7vjxGsscMCQtWsatnAQcLmntVg9ezYGmhIb9gC9KOqS+qtqbA4O1mzvIqVy3L6FhSuR8AduTg5jeK6OebQArYfEz5FTVv5D0K7IvepOI+LXytMpfJgfF2nSSNKh09zwg6TzyaIh9gR0lzT/te/efDjM4DpY0U/mM/GcG0hIaDgQ+o6aZPa37PIbB2k4Z8b472aJwFzmt9rbAttE6k2BZH5K0NHAFGRKfBbYkz/i6HXnekN+Rx/9fWVOJA4qk75En7foQOYvqosD/RcRttRbG/0wL/w3y/DdvAd+NiOc7jmWSNGtEvF1TuW3NLQzWdiLiafJY6m+T/db/JCdpclgYwDrsEU4G/hx5XpO/R8Qx5HkL1ivH0W8eEVd6L3L6SVpJ0u8krQiMAX5FdvdNAj5JDjKuXVNYWJ8MjReS52W5Wjlj6WRNPfcJDgvTzy0MZtbSJM3VmAeiab6F+cmAcHxjYilJR5GHTR7rIyGmT8f3TdLBwNzkDI7LAL+MiIslLQV8MCJurafS/1YmaPoKcFlEnF2WHQN8AvhcRPy7xvIGjMHVq5iZ1UPSLMA9kk6JiBNKWBhSmpo/D1woaSFyrMIW5OyDPhJiOjSFsU3JOQtmIqd8XoAcPLo5cLqkyRHxG/KcI3VNytTxeR8nz4WzhqTfRcQrEXGwpFOBi5Sz1rbkIcHtxC0MZtbSJK0JXA4cERGnl2VDIk+Otii5UXsauD1yWmubTsrZPX8E7Ar8mgxiu5Yg8Sly9tcfRcTdNdbYPGZhDeDfEfFEmSNiNPBHcnzFK2WdBaIFTuw2ELiFwcxaWkT8WXnys+slUUJD45DZIeTJji4oGzV3RfSA8uykC0fEhLJoXTIUDAdeIUNao1XnRkl3Rc0nHWsKC98kT4b2hKRnyGnMRwGnArNLOj4iXnVY6D0e9GhmLS/ybKOfBo6W9NUykG194E7y3BFR1nNY6CZJM5NHG42StGpZ/A555sb9yZaFJ8shy98oA0hfr6VY/nMmx8blzwEbR8R65ARunyKneZ5EzrewPN4h7nUODGbWFppCw5GS/g84HRgVETfUW1l7ioh3yaMfnifnNVmKnBjtU+Q5Fx4pTf7fBe6Ooo5aSwvT0aULCuBVYA/l2Wg/BOwFrEieVXcysH1EvFhHrQOZA4OZtY0SGjYFvgB8JyIuVVFzaW1D0qKSNgKIPIHbOeSe+Z7khvhz5OntzwNOAA6OiBtrrHcz4Ggy3DwFEBFjyHErKwFfLWMqHgD+DbwVEe91+mD2vnjQo5m1HUnDIuINj1nomdIN8Qg58dIZwHPApeRkV+uS5+Q4gWzmHwzMERGP13g0xAfJeRUOjoi7Sv1DyEM9/0WeqvrTZGvTzmTLwj+6eDh7n9zHY2bt6M26C2hHEfGu8jTgvwcWJM+/cTo5FmRZ4EVyUrSjI+JvwAvlfnWFsnfI1o+3Jc0KHEqeYXIW4EHgIOA1YBVgD4eFvuUWBjOzGYyklcgm/l0j4nJJS5KDBpcgxzCs2Aozp5aupgOAjYDlyGmpbwXuJ89pcX5EXCNp5jImw/qQA4OZ2QxI0seB64DDIuK0csKmKZIWj4jH666vQdIwYAWyG+XyiHinLD8LGBsR59RZ34zEgcHMbAYlaSTwB3Iypp+VZY0ZH1t2fEiZ5fMQcszCo3XXM6NwYDAzm4FJWp1s6l8O+GerhgSAMg1441T227dCt8mMxIHBzGwGJ2nOumdw7I4yedMGwF8j4u911zOjcWAwM5vBtUM3hNXPgcHMzMwqeaZHMzMzq+TAYGZmZpUcGMzMzKySA4OZmZlVcmAwMzOzSg4MZmZmVun/ASlNlBE+z0g/AAAAAElFTkSuQmCC\n",
          "text/plain": "<Figure size 576x576 with 1 Axes>"
         },
         "metadata": {
          "needs_background": "light"
         },
         "output_type": "display_data"
        }
       ]
      }
     },
     "1653bc8555ca416a9f89ac33f32f5831": {
      "model_module": "@jupyter-widgets/controls",
      "model_module_version": "1.5.0",
      "model_name": "SelectMultipleModel",
      "state": {
       "_options_labels": [
        "Boston",
        "Chicago",
        "Cleveland",
        "Denver",
        "Houston",
        "Los Angeles",
        "Miami",
        "New York City",
        "San Francisco",
        "Seattle"
       ],
       "description": "cities",
       "index": [
        0,
        1
       ],
       "layout": "IPY_MODEL_d3d8a73b47b1425e90fe68bec81a03ff",
       "rows": 5,
       "style": "IPY_MODEL_f80ca22860fe4435a46ce901b9917b9e"
      }
     },
     "1994703434694ee0b4da10a3c602037e": {
      "model_module": "@jupyter-widgets/base",
      "model_module_version": "1.2.0",
      "model_name": "LayoutModel",
      "state": {}
     },
     "218af10bd1324a2dae69bfa40f4b7e94": {
      "model_module": "@jupyter-widgets/output",
      "model_module_version": "1.0.0",
      "model_name": "OutputModel",
      "state": {
       "layout": "IPY_MODEL_c52aea30be13465185f3b345bb9e6c42",
       "outputs": [
        {
         "data": {
          "image/png": "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\n",
          "text/plain": "<Figure size 1296x720 with 2 Axes>"
         },
         "metadata": {
          "needs_background": "light"
         },
         "output_type": "display_data"
        }
       ]
      }
     },
     "2897545df31c48a394e6dd2e39b16800": {
      "model_module": "@jupyter-widgets/base",
      "model_module_version": "1.2.0",
      "model_name": "LayoutModel",
      "state": {}
     },
     "2d2f709f7ba64a18871bb9a27a57e6b9": {
      "model_module": "@jupyter-widgets/base",
      "model_module_version": "1.2.0",
      "model_name": "LayoutModel",
      "state": {}
     },
     "3bfd40cc03fe496e9217f4f16205b30c": {
      "model_module": "@jupyter-widgets/output",
      "model_module_version": "1.0.0",
      "model_name": "OutputModel",
      "state": {
       "layout": "IPY_MODEL_624e866c3d294766ae3df93cfcbeae86",
       "outputs": [
        {
         "data": {
          "image/png": "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\n",
          "text/plain": "<Figure size 1296x720 with 2 Axes>"
         },
         "metadata": {
          "needs_background": "light"
         },
         "output_type": "display_data"
        }
       ]
      }
     },
     "3c009f7f9f30494084ac32ceb3899010": {
      "model_module": "@jupyter-widgets/controls",
      "model_module_version": "1.5.0",
      "model_name": "SelectMultipleModel",
      "state": {
       "_options_labels": [
        "Boston",
        "Chicago",
        "Cleveland",
        "Denver",
        "Houston",
        "Los Angeles",
        "Miami",
        "New York City",
        "San Francisco",
        "Seattle"
       ],
       "description": "cities",
       "index": [
        1,
        8
       ],
       "layout": "IPY_MODEL_c3ede32cfb44478bb422657c9d6e6aa3",
       "rows": 5,
       "style": "IPY_MODEL_5f3121c204b24f588ea913a9fa9c5715"
      }
     },
     "3eb02e5005c24c66a2f77f46273cde90": {
      "model_module": "@jupyter-widgets/controls",
      "model_module_version": "1.5.0",
      "model_name": "DropdownModel",
      "state": {
       "_options_labels": [
        "Accent",
        "Accent_r",
        "Blues",
        "Blues_r",
        "BrBG",
        "BrBG_r",
        "BuGn",
        "BuGn_r",
        "BuPu",
        "BuPu_r",
        "CMRmap",
        "CMRmap_r",
        "Dark2",
        "Dark2_r",
        "GnBu",
        "GnBu_r",
        "Greens",
        "Greens_r",
        "Greys",
        "Greys_r",
        "OrRd",
        "OrRd_r",
        "Oranges",
        "Oranges_r",
        "PRGn",
        "PRGn_r",
        "Paired",
        "Paired_r",
        "Pastel1",
        "Pastel1_r",
        "Pastel2",
        "Pastel2_r",
        "PiYG",
        "PiYG_r",
        "PuBu",
        "PuBuGn",
        "PuBuGn_r",
        "PuBu_r",
        "PuOr",
        "PuOr_r",
        "PuRd",
        "PuRd_r",
        "Purples",
        "Purples_r",
        "RdBu",
        "RdBu_r",
        "RdGy",
        "RdGy_r",
        "RdPu",
        "RdPu_r",
        "RdYlBu",
        "RdYlBu_r",
        "RdYlGn",
        "RdYlGn_r",
        "Reds",
        "Reds_r",
        "Set1",
        "Set1_r",
        "Set2",
        "Set2_r",
        "Set3",
        "Set3_r",
        "Spectral",
        "Spectral_r",
        "Wistia",
        "Wistia_r",
        "YlGn",
        "YlGnBu",
        "YlGnBu_r",
        "YlGn_r",
        "YlOrBr",
        "YlOrBr_r",
        "YlOrRd",
        "YlOrRd_r",
        "afmhot",
        "afmhot_r",
        "autumn",
        "autumn_r",
        "binary",
        "binary_r",
        "bone",
        "bone_r",
        "brg",
        "brg_r",
        "bwr",
        "bwr_r",
        "cividis",
        "cividis_r",
        "cool",
        "cool_r",
        "coolwarm",
        "coolwarm_r",
        "copper",
        "copper_r",
        "crest",
        "crest_r",
        "cubehelix",
        "cubehelix_r",
        "flag",
        "flag_r",
        "flare",
        "flare_r",
        "gist_earth",
        "gist_earth_r",
        "gist_gray",
        "gist_gray_r",
        "gist_heat",
        "gist_heat_r",
        "gist_ncar",
        "gist_ncar_r",
        "gist_rainbow",
        "gist_rainbow_r",
        "gist_stern",
        "gist_stern_r",
        "gist_yarg",
        "gist_yarg_r",
        "gnuplot",
        "gnuplot2",
        "gnuplot2_r",
        "gnuplot_r",
        "gray",
        "gray_r",
        "hot",
        "hot_r",
        "hsv",
        "hsv_r",
        "icefire",
        "icefire_r",
        "inferno",
        "inferno_r",
        "jet",
        "jet_r",
        "magma",
        "magma_r",
        "mako",
        "mako_r",
        "nipy_spectral",
        "nipy_spectral_r",
        "ocean",
        "ocean_r",
        "pink",
        "pink_r",
        "plasma",
        "plasma_r",
        "prism",
        "prism_r",
        "rainbow",
        "rainbow_r",
        "rocket",
        "rocket_r",
        "seismic",
        "seismic_r",
        "spring",
        "spring_r",
        "summer",
        "summer_r",
        "tab10",
        "tab10_r",
        "tab20",
        "tab20_r",
        "tab20b",
        "tab20b_r",
        "tab20c",
        "tab20c_r",
        "terrain",
        "terrain_r",
        "turbo",
        "turbo_r",
        "twilight",
        "twilight_r",
        "twilight_shifted",
        "twilight_shifted_r",
        "viridis",
        "viridis_r",
        "vlag",
        "vlag_r",
        "winter",
        "winter_r"
       ],
       "description": "colors",
       "index": 67,
       "layout": "IPY_MODEL_0a638be1f22c4adb9aabf20e82659420",
       "style": "IPY_MODEL_9bab9bed59e44974b410c2e83f4bbff0"
      }
     },
     "4473e8473eac4de0ae77badf4f5e25bd": {
      "model_module": "@jupyter-widgets/controls",
      "model_module_version": "1.5.0",
      "model_name": "VBoxModel",
      "state": {
       "_dom_classes": [
        "widget-interact"
       ],
       "children": [
        "IPY_MODEL_3eb02e5005c24c66a2f77f46273cde90",
        "IPY_MODEL_6c5deefaa7e3471d8d5c1eec91c0f6ca"
       ],
       "layout": "IPY_MODEL_2897545df31c48a394e6dd2e39b16800"
      }
     },
     "44bdb41ff87243b2b4e7a44abdc2b756": {
      "model_module": "@jupyter-widgets/output",
      "model_module_version": "1.0.0",
      "model_name": "OutputModel",
      "state": {
       "layout": "IPY_MODEL_570e886c6c7a4d329b8571645ea0bb7d",
       "outputs": [
        {
         "ename": "TypeError",
         "evalue": "__init__() got an unexpected keyword argument 'rotation'",
         "output_type": "error",
         "traceback": [
          "\u001b[0;31m---------------------------------------------------------------------------\u001b[0m",
          "\u001b[0;31mTypeError\u001b[0m                                 Traceback (most recent call last)",
          "\u001b[0;32m/opt/conda/lib/python3.8/site-packages/ipywidgets/widgets/interaction.py\u001b[0m in \u001b[0;36mupdate\u001b[0;34m(self, *args)\u001b[0m\n\u001b[1;32m    254\u001b[0m                     \u001b[0mvalue\u001b[0m \u001b[0;34m=\u001b[0m \u001b[0mwidget\u001b[0m\u001b[0;34m.\u001b[0m\u001b[0mget_interact_value\u001b[0m\u001b[0;34m(\u001b[0m\u001b[0;34m)\u001b[0m\u001b[0;34m\u001b[0m\u001b[0;34m\u001b[0m\u001b[0m\n\u001b[1;32m    255\u001b[0m                     \u001b[0mself\u001b[0m\u001b[0;34m.\u001b[0m\u001b[0mkwargs\u001b[0m\u001b[0;34m[\u001b[0m\u001b[0mwidget\u001b[0m\u001b[0;34m.\u001b[0m\u001b[0m_kwarg\u001b[0m\u001b[0;34m]\u001b[0m \u001b[0;34m=\u001b[0m \u001b[0mvalue\u001b[0m\u001b[0;34m\u001b[0m\u001b[0;34m\u001b[0m\u001b[0m\n\u001b[0;32m--> 256\u001b[0;31m                 \u001b[0mself\u001b[0m\u001b[0;34m.\u001b[0m\u001b[0mresult\u001b[0m \u001b[0;34m=\u001b[0m \u001b[0mself\u001b[0m\u001b[0;34m.\u001b[0m\u001b[0mf\u001b[0m\u001b[0;34m(\u001b[0m\u001b[0;34m**\u001b[0m\u001b[0mself\u001b[0m\u001b[0;34m.\u001b[0m\u001b[0mkwargs\u001b[0m\u001b[0;34m)\u001b[0m\u001b[0;34m\u001b[0m\u001b[0;34m\u001b[0m\u001b[0m\n\u001b[0m\u001b[1;32m    257\u001b[0m                 \u001b[0mshow_inline_matplotlib_plots\u001b[0m\u001b[0;34m(\u001b[0m\u001b[0;34m)\u001b[0m\u001b[0;34m\u001b[0m\u001b[0;34m\u001b[0m\u001b[0m\n\u001b[1;32m    258\u001b[0m                 \u001b[0;32mif\u001b[0m \u001b[0mself\u001b[0m\u001b[0;34m.\u001b[0m\u001b[0mauto_display\u001b[0m \u001b[0;32mand\u001b[0m \u001b[0mself\u001b[0m\u001b[0;34m.\u001b[0m\u001b[0mresult\u001b[0m \u001b[0;32mis\u001b[0m \u001b[0;32mnot\u001b[0m \u001b[0;32mNone\u001b[0m\u001b[0;34m:\u001b[0m\u001b[0;34m\u001b[0m\u001b[0;34m\u001b[0m\u001b[0m\n",
          "\u001b[0;32m<ipython-input-28-13d5e433b4a7>\u001b[0m in \u001b[0;36mmake_corr_matrix\u001b[0;34m(colors)\u001b[0m\n\u001b[1;32m      3\u001b[0m     \u001b[0mplt\u001b[0m\u001b[0;34m.\u001b[0m\u001b[0mfigure\u001b[0m\u001b[0;34m(\u001b[0m\u001b[0mfigsize\u001b[0m\u001b[0;34m=\u001b[0m\u001b[0;34m(\u001b[0m\u001b[0;36m8\u001b[0m\u001b[0;34m,\u001b[0m\u001b[0;36m8\u001b[0m\u001b[0;34m)\u001b[0m\u001b[0;34m)\u001b[0m\u001b[0;34m\u001b[0m\u001b[0;34m\u001b[0m\u001b[0m\n\u001b[1;32m      4\u001b[0m     \u001b[0mmatrix\u001b[0m \u001b[0;34m=\u001b[0m \u001b[0mplt\u001b[0m\u001b[0;34m.\u001b[0m\u001b[0mimshow\u001b[0m\u001b[0;34m(\u001b[0m\u001b[0mcorrelation_matrix\u001b[0m\u001b[0;34m,\u001b[0m \u001b[0mcmap\u001b[0m\u001b[0;34m=\u001b[0m\u001b[0mcolors\u001b[0m\u001b[0;34m,\u001b[0m \u001b[0minterpolation\u001b[0m\u001b[0;34m=\u001b[0m\u001b[0;34m'nearest'\u001b[0m\u001b[0;34m)\u001b[0m\u001b[0;34m\u001b[0m\u001b[0;34m\u001b[0m\u001b[0m\n\u001b[0;32m----> 5\u001b[0;31m     \u001b[0mplt\u001b[0m\u001b[0;34m.\u001b[0m\u001b[0mcolorbar\u001b[0m\u001b[0;34m(\u001b[0m\u001b[0mmatrix\u001b[0m\u001b[0;34m,\u001b[0m \u001b[0mlabel\u001b[0m\u001b[0;34m=\u001b[0m\u001b[0;34m'Correlation Values'\u001b[0m\u001b[0;34m,\u001b[0m \u001b[0mrotation\u001b[0m\u001b[0;34m=\u001b[0m\u001b[0;36m45\u001b[0m\u001b[0;34m)\u001b[0m\u001b[0;34m\u001b[0m\u001b[0;34m\u001b[0m\u001b[0m\n\u001b[0m\u001b[1;32m      6\u001b[0m     \u001b[0mplt\u001b[0m\u001b[0;34m.\u001b[0m\u001b[0mxticks\u001b[0m\u001b[0;34m(\u001b[0m\u001b[0mticks\u001b[0m\u001b[0;34m=\u001b[0m\u001b[0mnp\u001b[0m\u001b[0;34m.\u001b[0m\u001b[0marange\u001b[0m\u001b[0;34m(\u001b[0m\u001b[0mlen\u001b[0m\u001b[0;34m(\u001b[0m\u001b[0mcorrelation_matrix\u001b[0m\u001b[0;34m.\u001b[0m\u001b[0mcolumns\u001b[0m\u001b[0;34m)\u001b[0m\u001b[0;34m)\u001b[0m\u001b[0;34m,\u001b[0m \u001b[0mlabels\u001b[0m\u001b[0;34m=\u001b[0m\u001b[0mcorrelation_matrix\u001b[0m\u001b[0;34m.\u001b[0m\u001b[0mcolumns\u001b[0m\u001b[0;34m,\u001b[0m \u001b[0mrotation\u001b[0m\u001b[0;34m=\u001b[0m\u001b[0;36m45\u001b[0m\u001b[0;34m)\u001b[0m\u001b[0;34m\u001b[0m\u001b[0;34m\u001b[0m\u001b[0m\n\u001b[1;32m      7\u001b[0m     \u001b[0mplt\u001b[0m\u001b[0;34m.\u001b[0m\u001b[0myticks\u001b[0m\u001b[0;34m(\u001b[0m\u001b[0mticks\u001b[0m\u001b[0;34m=\u001b[0m\u001b[0mnp\u001b[0m\u001b[0;34m.\u001b[0m\u001b[0marange\u001b[0m\u001b[0;34m(\u001b[0m\u001b[0mlen\u001b[0m\u001b[0;34m(\u001b[0m\u001b[0mcorrelation_matrix\u001b[0m\u001b[0;34m.\u001b[0m\u001b[0mindex\u001b[0m\u001b[0;34m)\u001b[0m\u001b[0;34m)\u001b[0m\u001b[0;34m,\u001b[0m \u001b[0mlabels\u001b[0m\u001b[0;34m=\u001b[0m\u001b[0mcorrelation_matrix\u001b[0m\u001b[0;34m.\u001b[0m\u001b[0mindex\u001b[0m\u001b[0;34m)\u001b[0m\u001b[0;34m\u001b[0m\u001b[0;34m\u001b[0m\u001b[0m\n",
          "\u001b[0;32m/opt/conda/lib/python3.8/site-packages/matplotlib/pyplot.py\u001b[0m in \u001b[0;36mcolorbar\u001b[0;34m(mappable, cax, ax, **kw)\u001b[0m\n\u001b[1;32m   2192\u001b[0m     \u001b[0;32mif\u001b[0m \u001b[0max\u001b[0m \u001b[0;32mis\u001b[0m \u001b[0;32mNone\u001b[0m\u001b[0;34m:\u001b[0m\u001b[0;34m\u001b[0m\u001b[0;34m\u001b[0m\u001b[0m\n\u001b[1;32m   2193\u001b[0m         \u001b[0max\u001b[0m \u001b[0;34m=\u001b[0m \u001b[0mgca\u001b[0m\u001b[0;34m(\u001b[0m\u001b[0;34m)\u001b[0m\u001b[0;34m\u001b[0m\u001b[0;34m\u001b[0m\u001b[0m\n\u001b[0;32m-> 2194\u001b[0;31m     \u001b[0mret\u001b[0m \u001b[0;34m=\u001b[0m \u001b[0mgcf\u001b[0m\u001b[0;34m(\u001b[0m\u001b[0;34m)\u001b[0m\u001b[0;34m.\u001b[0m\u001b[0mcolorbar\u001b[0m\u001b[0;34m(\u001b[0m\u001b[0mmappable\u001b[0m\u001b[0;34m,\u001b[0m \u001b[0mcax\u001b[0m\u001b[0;34m=\u001b[0m\u001b[0mcax\u001b[0m\u001b[0;34m,\u001b[0m \u001b[0max\u001b[0m\u001b[0;34m=\u001b[0m\u001b[0max\u001b[0m\u001b[0;34m,\u001b[0m \u001b[0;34m**\u001b[0m\u001b[0mkw\u001b[0m\u001b[0;34m)\u001b[0m\u001b[0;34m\u001b[0m\u001b[0;34m\u001b[0m\u001b[0m\n\u001b[0m\u001b[1;32m   2195\u001b[0m     \u001b[0;32mreturn\u001b[0m \u001b[0mret\u001b[0m\u001b[0;34m\u001b[0m\u001b[0;34m\u001b[0m\u001b[0m\n\u001b[1;32m   2196\u001b[0m \u001b[0mcolorbar\u001b[0m\u001b[0;34m.\u001b[0m\u001b[0m__doc__\u001b[0m \u001b[0;34m=\u001b[0m \u001b[0mmatplotlib\u001b[0m\u001b[0;34m.\u001b[0m\u001b[0mcolorbar\u001b[0m\u001b[0;34m.\u001b[0m\u001b[0mcolorbar_doc\u001b[0m\u001b[0;34m\u001b[0m\u001b[0;34m\u001b[0m\u001b[0m\n",
          "\u001b[0;32m/opt/conda/lib/python3.8/site-packages/matplotlib/figure.py\u001b[0m in \u001b[0;36mcolorbar\u001b[0;34m(self, mappable, cax, ax, use_gridspec, **kw)\u001b[0m\n\u001b[1;32m   2341\u001b[0m                              'panchor']\n\u001b[1;32m   2342\u001b[0m         \u001b[0mcb_kw\u001b[0m \u001b[0;34m=\u001b[0m \u001b[0;34m{\u001b[0m\u001b[0mk\u001b[0m\u001b[0;34m:\u001b[0m \u001b[0mv\u001b[0m \u001b[0;32mfor\u001b[0m \u001b[0mk\u001b[0m\u001b[0;34m,\u001b[0m \u001b[0mv\u001b[0m \u001b[0;32min\u001b[0m \u001b[0mkw\u001b[0m\u001b[0;34m.\u001b[0m\u001b[0mitems\u001b[0m\u001b[0;34m(\u001b[0m\u001b[0;34m)\u001b[0m \u001b[0;32mif\u001b[0m \u001b[0mk\u001b[0m \u001b[0;32mnot\u001b[0m \u001b[0;32min\u001b[0m \u001b[0mNON_COLORBAR_KEYS\u001b[0m\u001b[0;34m}\u001b[0m\u001b[0;34m\u001b[0m\u001b[0;34m\u001b[0m\u001b[0m\n\u001b[0;32m-> 2343\u001b[0;31m         \u001b[0mcb\u001b[0m \u001b[0;34m=\u001b[0m \u001b[0mcbar\u001b[0m\u001b[0;34m.\u001b[0m\u001b[0mcolorbar_factory\u001b[0m\u001b[0;34m(\u001b[0m\u001b[0mcax\u001b[0m\u001b[0;34m,\u001b[0m \u001b[0mmappable\u001b[0m\u001b[0;34m,\u001b[0m \u001b[0;34m**\u001b[0m\u001b[0mcb_kw\u001b[0m\u001b[0;34m)\u001b[0m\u001b[0;34m\u001b[0m\u001b[0;34m\u001b[0m\u001b[0m\n\u001b[0m\u001b[1;32m   2344\u001b[0m \u001b[0;34m\u001b[0m\u001b[0m\n\u001b[1;32m   2345\u001b[0m         \u001b[0mself\u001b[0m\u001b[0;34m.\u001b[0m\u001b[0msca\u001b[0m\u001b[0;34m(\u001b[0m\u001b[0mcurrent_ax\u001b[0m\u001b[0;34m)\u001b[0m\u001b[0;34m\u001b[0m\u001b[0;34m\u001b[0m\u001b[0m\n",
          "\u001b[0;32m/opt/conda/lib/python3.8/site-packages/matplotlib/colorbar.py\u001b[0m in \u001b[0;36mcolorbar_factory\u001b[0;34m(cax, mappable, **kwargs)\u001b[0m\n\u001b[1;32m   1732\u001b[0m         \u001b[0mcb\u001b[0m \u001b[0;34m=\u001b[0m \u001b[0mColorbarPatch\u001b[0m\u001b[0;34m(\u001b[0m\u001b[0mcax\u001b[0m\u001b[0;34m,\u001b[0m \u001b[0mmappable\u001b[0m\u001b[0;34m,\u001b[0m \u001b[0;34m**\u001b[0m\u001b[0mkwargs\u001b[0m\u001b[0;34m)\u001b[0m\u001b[0;34m\u001b[0m\u001b[0;34m\u001b[0m\u001b[0m\n\u001b[1;32m   1733\u001b[0m     \u001b[0;32melse\u001b[0m\u001b[0;34m:\u001b[0m\u001b[0;34m\u001b[0m\u001b[0;34m\u001b[0m\u001b[0m\n\u001b[0;32m-> 1734\u001b[0;31m         \u001b[0mcb\u001b[0m \u001b[0;34m=\u001b[0m \u001b[0mColorbar\u001b[0m\u001b[0;34m(\u001b[0m\u001b[0mcax\u001b[0m\u001b[0;34m,\u001b[0m \u001b[0mmappable\u001b[0m\u001b[0;34m,\u001b[0m \u001b[0;34m**\u001b[0m\u001b[0mkwargs\u001b[0m\u001b[0;34m)\u001b[0m\u001b[0;34m\u001b[0m\u001b[0;34m\u001b[0m\u001b[0m\n\u001b[0m\u001b[1;32m   1735\u001b[0m \u001b[0;34m\u001b[0m\u001b[0m\n\u001b[1;32m   1736\u001b[0m     \u001b[0mcid\u001b[0m \u001b[0;34m=\u001b[0m \u001b[0mmappable\u001b[0m\u001b[0;34m.\u001b[0m\u001b[0mcallbacksSM\u001b[0m\u001b[0;34m.\u001b[0m\u001b[0mconnect\u001b[0m\u001b[0;34m(\u001b[0m\u001b[0;34m'changed'\u001b[0m\u001b[0;34m,\u001b[0m \u001b[0mcb\u001b[0m\u001b[0;34m.\u001b[0m\u001b[0mupdate_normal\u001b[0m\u001b[0;34m)\u001b[0m\u001b[0;34m\u001b[0m\u001b[0;34m\u001b[0m\u001b[0m\n",
          "\u001b[0;32m/opt/conda/lib/python3.8/site-packages/matplotlib/colorbar.py\u001b[0m in \u001b[0;36m__init__\u001b[0;34m(self, ax, mappable, **kwargs)\u001b[0m\n\u001b[1;32m   1226\u001b[0m             \u001b[0;32mif\u001b[0m \u001b[0misinstance\u001b[0m\u001b[0;34m(\u001b[0m\u001b[0mmappable\u001b[0m\u001b[0;34m,\u001b[0m \u001b[0mmartist\u001b[0m\u001b[0;34m.\u001b[0m\u001b[0mArtist\u001b[0m\u001b[0;34m)\u001b[0m\u001b[0;34m:\u001b[0m\u001b[0;34m\u001b[0m\u001b[0;34m\u001b[0m\u001b[0m\n\u001b[1;32m   1227\u001b[0m                 \u001b[0m_add_disjoint_kwargs\u001b[0m\u001b[0;34m(\u001b[0m\u001b[0mkwargs\u001b[0m\u001b[0;34m,\u001b[0m \u001b[0malpha\u001b[0m\u001b[0;34m=\u001b[0m\u001b[0mmappable\u001b[0m\u001b[0;34m.\u001b[0m\u001b[0mget_alpha\u001b[0m\u001b[0;34m(\u001b[0m\u001b[0;34m)\u001b[0m\u001b[0;34m)\u001b[0m\u001b[0;34m\u001b[0m\u001b[0;34m\u001b[0m\u001b[0m\n\u001b[0;32m-> 1228\u001b[0;31m             \u001b[0mColorbarBase\u001b[0m\u001b[0;34m.\u001b[0m\u001b[0m__init__\u001b[0m\u001b[0;34m(\u001b[0m\u001b[0mself\u001b[0m\u001b[0;34m,\u001b[0m \u001b[0max\u001b[0m\u001b[0;34m,\u001b[0m \u001b[0;34m**\u001b[0m\u001b[0mkwargs\u001b[0m\u001b[0;34m)\u001b[0m\u001b[0;34m\u001b[0m\u001b[0;34m\u001b[0m\u001b[0m\n\u001b[0m\u001b[1;32m   1229\u001b[0m \u001b[0;34m\u001b[0m\u001b[0m\n\u001b[1;32m   1230\u001b[0m     \u001b[0;34m@\u001b[0m\u001b[0mcbook\u001b[0m\u001b[0;34m.\u001b[0m\u001b[0mdeprecated\u001b[0m\u001b[0;34m(\u001b[0m\u001b[0;34m\"3.3\"\u001b[0m\u001b[0;34m,\u001b[0m \u001b[0malternative\u001b[0m\u001b[0;34m=\u001b[0m\u001b[0;34m\"update_normal\"\u001b[0m\u001b[0;34m)\u001b[0m\u001b[0;34m\u001b[0m\u001b[0;34m\u001b[0m\u001b[0m\n",
          "\u001b[0;32m/opt/conda/lib/python3.8/site-packages/matplotlib/cbook/deprecation.py\u001b[0m in \u001b[0;36mwrapper\u001b[0;34m(*args, **kwargs)\u001b[0m\n\u001b[1;32m    449\u001b[0m                 \u001b[0;34m\"parameter will become keyword-only %(removal)s.\"\u001b[0m\u001b[0;34m,\u001b[0m\u001b[0;34m\u001b[0m\u001b[0;34m\u001b[0m\u001b[0m\n\u001b[1;32m    450\u001b[0m                 name=name, obj_type=f\"parameter of {func.__name__}()\")\n\u001b[0;32m--> 451\u001b[0;31m         \u001b[0;32mreturn\u001b[0m \u001b[0mfunc\u001b[0m\u001b[0;34m(\u001b[0m\u001b[0;34m*\u001b[0m\u001b[0margs\u001b[0m\u001b[0;34m,\u001b[0m \u001b[0;34m**\u001b[0m\u001b[0mkwargs\u001b[0m\u001b[0;34m)\u001b[0m\u001b[0;34m\u001b[0m\u001b[0;34m\u001b[0m\u001b[0m\n\u001b[0m\u001b[1;32m    452\u001b[0m \u001b[0;34m\u001b[0m\u001b[0m\n\u001b[1;32m    453\u001b[0m     \u001b[0;32mreturn\u001b[0m \u001b[0mwrapper\u001b[0m\u001b[0;34m\u001b[0m\u001b[0;34m\u001b[0m\u001b[0m\n",
          "\u001b[0;31mTypeError\u001b[0m: __init__() got an unexpected keyword argument 'rotation'"
         ]
        }
       ]
      }
     },
     "468d516d0e19409293f8c54caaf1f2eb": {
      "model_module": "@jupyter-widgets/base",
      "model_module_version": "1.2.0",
      "model_name": "LayoutModel",
      "state": {}
     },
     "47d51241ebec425988f14a7a21c58b7a": {
      "model_module": "@jupyter-widgets/controls",
      "model_module_version": "1.5.0",
      "model_name": "VBoxModel",
      "state": {
       "_dom_classes": [
        "widget-interact"
       ],
       "children": [
        "IPY_MODEL_67fc16e8275047be97455e0737647867",
        "IPY_MODEL_a732a0711a1a4ced998005b221f37d2b"
       ],
       "layout": "IPY_MODEL_d47b6a6e43f74ddda1b3c9a725da323a"
      }
     },
     "4a25bbd2ce8143538e747fa79bbc1863": {
      "model_module": "@jupyter-widgets/controls",
      "model_module_version": "1.5.0",
      "model_name": "DescriptionStyleModel",
      "state": {
       "description_width": ""
      }
     },
     "5019de28ba9446ea84e60161efd60840": {
      "model_module": "@jupyter-widgets/base",
      "model_module_version": "1.2.0",
      "model_name": "LayoutModel",
      "state": {}
     },
     "514e4ac6c7e04daa8b72f1e643b1e7ef": {
      "model_module": "@jupyter-widgets/base",
      "model_module_version": "1.2.0",
      "model_name": "LayoutModel",
      "state": {}
     },
     "520c9f5561ac47aaa54918e053459bc8": {
      "model_module": "@jupyter-widgets/controls",
      "model_module_version": "1.5.0",
      "model_name": "VBoxModel",
      "state": {
       "_dom_classes": [
        "widget-interact"
       ],
       "children": [
        "IPY_MODEL_dda00ad573df4dbc98fc321abba719cc",
        "IPY_MODEL_44bdb41ff87243b2b4e7a44abdc2b756"
       ],
       "layout": "IPY_MODEL_5019de28ba9446ea84e60161efd60840"
      }
     },
     "540e883f35a34037924c70293f26a4f5": {
      "model_module": "@jupyter-widgets/controls",
      "model_module_version": "1.5.0",
      "model_name": "VBoxModel",
      "state": {
       "_dom_classes": [
        "widget-interact"
       ],
       "children": [
        "IPY_MODEL_e4b31c8a66fb4b7f8f747865e7226118",
        "IPY_MODEL_1508c60a85c847f1b8337dc7289b79c5"
       ],
       "layout": "IPY_MODEL_468d516d0e19409293f8c54caaf1f2eb"
      }
     },
     "570e886c6c7a4d329b8571645ea0bb7d": {
      "model_module": "@jupyter-widgets/base",
      "model_module_version": "1.2.0",
      "model_name": "LayoutModel",
      "state": {}
     },
     "58132b79f4644671ac99e8dd8bee921a": {
      "model_module": "@jupyter-widgets/base",
      "model_module_version": "1.2.0",
      "model_name": "LayoutModel",
      "state": {}
     },
     "5bc4ea0d7b674dc98d6fb95c1dea3fda": {
      "model_module": "@jupyter-widgets/controls",
      "model_module_version": "1.5.0",
      "model_name": "DescriptionStyleModel",
      "state": {
       "description_width": ""
      }
     },
     "5bd0d05e695042f4ad6b935a7f241ddd": {
      "model_module": "@jupyter-widgets/base",
      "model_module_version": "1.2.0",
      "model_name": "LayoutModel",
      "state": {}
     },
     "5db0bcf9dbad498884ea7a0c838c455d": {
      "model_module": "@jupyter-widgets/base",
      "model_module_version": "1.2.0",
      "model_name": "LayoutModel",
      "state": {}
     },
     "5f3121c204b24f588ea913a9fa9c5715": {
      "model_module": "@jupyter-widgets/controls",
      "model_module_version": "1.5.0",
      "model_name": "DescriptionStyleModel",
      "state": {
       "description_width": ""
      }
     },
     "624e866c3d294766ae3df93cfcbeae86": {
      "model_module": "@jupyter-widgets/base",
      "model_module_version": "1.2.0",
      "model_name": "LayoutModel",
      "state": {}
     },
     "67fc16e8275047be97455e0737647867": {
      "model_module": "@jupyter-widgets/controls",
      "model_module_version": "1.5.0",
      "model_name": "SelectMultipleModel",
      "state": {
       "_options_labels": [
        "Boston",
        "Chicago",
        "Cleveland",
        "Denver",
        "Houston",
        "Los Angeles",
        "Miami",
        "New York City",
        "San Francisco",
        "Seattle"
       ],
       "description": "cities",
       "index": [
        0,
        4
       ],
       "layout": "IPY_MODEL_00da4ad8e3c442c2a32aed8ca6f4f48e",
       "rows": 5,
       "style": "IPY_MODEL_4a25bbd2ce8143538e747fa79bbc1863"
      }
     },
     "6c5deefaa7e3471d8d5c1eec91c0f6ca": {
      "model_module": "@jupyter-widgets/output",
      "model_module_version": "1.0.0",
      "model_name": "OutputModel",
      "state": {
       "layout": "IPY_MODEL_95e38911c84e40d596b47299c8df067e",
       "outputs": [
        {
         "data": {
          "image/png": "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\n",
          "text/plain": "<Figure size 576x576 with 2 Axes>"
         },
         "metadata": {
          "needs_background": "light"
         },
         "output_type": "display_data"
        }
       ]
      }
     },
     "70a758158c844fc290dcdb660ad2e7fe": {
      "model_module": "@jupyter-widgets/output",
      "model_module_version": "1.0.0",
      "model_name": "OutputModel",
      "state": {
       "layout": "IPY_MODEL_514e4ac6c7e04daa8b72f1e643b1e7ef",
       "outputs": [
        {
         "data": {
          "image/png": "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\n",
          "text/plain": "<Figure size 576x576 with 2 Axes>"
         },
         "metadata": {
          "needs_background": "light"
         },
         "output_type": "display_data"
        }
       ]
      }
     },
     "735e38e264ed404b8fedbdc3b489247d": {
      "model_module": "@jupyter-widgets/base",
      "model_module_version": "1.2.0",
      "model_name": "LayoutModel",
      "state": {}
     },
     "76f949a4783d4002b55f4871013d38c0": {
      "model_module": "@jupyter-widgets/controls",
      "model_module_version": "1.5.0",
      "model_name": "VBoxModel",
      "state": {
       "_dom_classes": [
        "widget-interact"
       ],
       "children": [
        "IPY_MODEL_3c009f7f9f30494084ac32ceb3899010",
        "IPY_MODEL_218af10bd1324a2dae69bfa40f4b7e94"
       ],
       "layout": "IPY_MODEL_7f2cdca6cc9a429fb04d818186592e14"
      }
     },
     "7f2cdca6cc9a429fb04d818186592e14": {
      "model_module": "@jupyter-widgets/base",
      "model_module_version": "1.2.0",
      "model_name": "LayoutModel",
      "state": {}
     },
     "8729d6f354c746269a49afb36cfb67dc": {
      "model_module": "@jupyter-widgets/base",
      "model_module_version": "1.2.0",
      "model_name": "LayoutModel",
      "state": {}
     },
     "8ce5c64f9b4c40b08979f072db160827": {
      "model_module": "@jupyter-widgets/controls",
      "model_module_version": "1.5.0",
      "model_name": "VBoxModel",
      "state": {
       "_dom_classes": [
        "widget-interact"
       ],
       "children": [
        "IPY_MODEL_3c009f7f9f30494084ac32ceb3899010",
        "IPY_MODEL_3bfd40cc03fe496e9217f4f16205b30c"
       ],
       "layout": "IPY_MODEL_fda8289c4c8b46358f8ec173dba0dbc5"
      }
     },
     "9163fc6280384830a2c996b34d900dc4": {
      "model_module": "@jupyter-widgets/base",
      "model_module_version": "1.2.0",
      "model_name": "LayoutModel",
      "state": {}
     },
     "94ec9b89c42c4e0e983d3e57ca13bc18": {
      "model_module": "@jupyter-widgets/base",
      "model_module_version": "1.2.0",
      "model_name": "LayoutModel",
      "state": {}
     },
     "95e38911c84e40d596b47299c8df067e": {
      "model_module": "@jupyter-widgets/base",
      "model_module_version": "1.2.0",
      "model_name": "LayoutModel",
      "state": {}
     },
     "9bab9bed59e44974b410c2e83f4bbff0": {
      "model_module": "@jupyter-widgets/controls",
      "model_module_version": "1.5.0",
      "model_name": "DescriptionStyleModel",
      "state": {
       "description_width": ""
      }
     },
     "a17216f70ffa44718976a8d82b697f8e": {
      "model_module": "@jupyter-widgets/base",
      "model_module_version": "1.2.0",
      "model_name": "LayoutModel",
      "state": {}
     },
     "a38fb22eccc94d539f17d03f12048010": {
      "model_module": "@jupyter-widgets/controls",
      "model_module_version": "1.5.0",
      "model_name": "DescriptionStyleModel",
      "state": {
       "description_width": ""
      }
     },
     "a607562470e6411896915f93efea4784": {
      "model_module": "@jupyter-widgets/base",
      "model_module_version": "1.2.0",
      "model_name": "LayoutModel",
      "state": {}
     },
     "a6b3b22a10f14026b15462620093bcc9": {
      "model_module": "@jupyter-widgets/controls",
      "model_module_version": "1.5.0",
      "model_name": "VBoxModel",
      "state": {
       "_dom_classes": [
        "widget-interact"
       ],
       "children": [
        "IPY_MODEL_b503708497034fc7a4c0036cf03b2385",
        "IPY_MODEL_ed2b66cf5e3d4ae0a54ac6711d866d1f"
       ],
       "layout": "IPY_MODEL_e2ea7124ebd844f59e4f86b8a5bfcd79"
      }
     },
     "a732a0711a1a4ced998005b221f37d2b": {
      "model_module": "@jupyter-widgets/output",
      "model_module_version": "1.0.0",
      "model_name": "OutputModel",
      "state": {
       "layout": "IPY_MODEL_a17216f70ffa44718976a8d82b697f8e",
       "outputs": [
        {
         "data": {
          "image/png": "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\n",
          "text/plain": "<Figure size 432x288 with 1 Axes>"
         },
         "metadata": {
          "needs_background": "light"
         },
         "output_type": "display_data"
        }
       ]
      }
     },
     "aa834156ad1b424db660e313bf2e78c5": {
      "model_module": "@jupyter-widgets/output",
      "model_module_version": "1.0.0",
      "model_name": "OutputModel",
      "state": {
       "layout": "IPY_MODEL_00d70c5fae5342958ab0844af3c4abb8",
       "outputs": [
        {
         "data": {
          "image/png": "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\n",
          "text/plain": "<Figure size 432x288 with 1 Axes>"
         },
         "metadata": {
          "needs_background": "light"
         },
         "output_type": "display_data"
        }
       ]
      }
     },
     "b34c7f78c85f45d694469fdf089ba6ef": {
      "model_module": "@jupyter-widgets/controls",
      "model_module_version": "1.5.0",
      "model_name": "DescriptionStyleModel",
      "state": {
       "description_width": ""
      }
     },
     "b503708497034fc7a4c0036cf03b2385": {
      "model_module": "@jupyter-widgets/controls",
      "model_module_version": "1.5.0",
      "model_name": "DropdownModel",
      "state": {
       "_options_labels": [
        "Accent",
        "Accent_r",
        "Blues",
        "Blues_r",
        "BrBG",
        "BrBG_r",
        "BuGn",
        "BuGn_r",
        "BuPu",
        "BuPu_r",
        "CMRmap",
        "CMRmap_r",
        "Dark2",
        "Dark2_r",
        "GnBu",
        "GnBu_r",
        "Greens",
        "Greens_r",
        "Greys",
        "Greys_r",
        "OrRd",
        "OrRd_r",
        "Oranges",
        "Oranges_r",
        "PRGn",
        "PRGn_r",
        "Paired",
        "Paired_r",
        "Pastel1",
        "Pastel1_r",
        "Pastel2",
        "Pastel2_r",
        "PiYG",
        "PiYG_r",
        "PuBu",
        "PuBuGn",
        "PuBuGn_r",
        "PuBu_r",
        "PuOr",
        "PuOr_r",
        "PuRd",
        "PuRd_r",
        "Purples",
        "Purples_r",
        "RdBu",
        "RdBu_r",
        "RdGy",
        "RdGy_r",
        "RdPu",
        "RdPu_r",
        "RdYlBu",
        "RdYlBu_r",
        "RdYlGn",
        "RdYlGn_r",
        "Reds",
        "Reds_r",
        "Set1",
        "Set1_r",
        "Set2",
        "Set2_r",
        "Set3",
        "Set3_r",
        "Spectral",
        "Spectral_r",
        "Wistia",
        "Wistia_r",
        "YlGn",
        "YlGnBu",
        "YlGnBu_r",
        "YlGn_r",
        "YlOrBr",
        "YlOrBr_r",
        "YlOrRd",
        "YlOrRd_r",
        "afmhot",
        "afmhot_r",
        "autumn",
        "autumn_r",
        "binary",
        "binary_r",
        "bone",
        "bone_r",
        "brg",
        "brg_r",
        "bwr",
        "bwr_r",
        "cividis",
        "cividis_r",
        "cool",
        "cool_r",
        "coolwarm",
        "coolwarm_r",
        "copper",
        "copper_r",
        "crest",
        "crest_r",
        "cubehelix",
        "cubehelix_r",
        "flag",
        "flag_r",
        "flare",
        "flare_r",
        "gist_earth",
        "gist_earth_r",
        "gist_gray",
        "gist_gray_r",
        "gist_heat",
        "gist_heat_r",
        "gist_ncar",
        "gist_ncar_r",
        "gist_rainbow",
        "gist_rainbow_r",
        "gist_stern",
        "gist_stern_r",
        "gist_yarg",
        "gist_yarg_r",
        "gnuplot",
        "gnuplot2",
        "gnuplot2_r",
        "gnuplot_r",
        "gray",
        "gray_r",
        "hot",
        "hot_r",
        "hsv",
        "hsv_r",
        "icefire",
        "icefire_r",
        "inferno",
        "inferno_r",
        "jet",
        "jet_r",
        "magma",
        "magma_r",
        "mako",
        "mako_r",
        "nipy_spectral",
        "nipy_spectral_r",
        "ocean",
        "ocean_r",
        "pink",
        "pink_r",
        "plasma",
        "plasma_r",
        "prism",
        "prism_r",
        "rainbow",
        "rainbow_r",
        "rocket",
        "rocket_r",
        "seismic",
        "seismic_r",
        "spring",
        "spring_r",
        "summer",
        "summer_r",
        "tab10",
        "tab10_r",
        "tab20",
        "tab20_r",
        "tab20b",
        "tab20b_r",
        "tab20c",
        "tab20c_r",
        "terrain",
        "terrain_r",
        "turbo",
        "turbo_r",
        "twilight",
        "twilight_r",
        "twilight_shifted",
        "twilight_shifted_r",
        "viridis",
        "viridis_r",
        "vlag",
        "vlag_r",
        "winter",
        "winter_r"
       ],
       "description": "colors",
       "index": 8,
       "layout": "IPY_MODEL_8729d6f354c746269a49afb36cfb67dc",
       "style": "IPY_MODEL_b34c7f78c85f45d694469fdf089ba6ef"
      }
     },
     "bbde6a8d58d74ac0b96977164bfc49a9": {
      "model_module": "@jupyter-widgets/controls",
      "model_module_version": "1.5.0",
      "model_name": "VBoxModel",
      "state": {
       "_dom_classes": [
        "widget-interact"
       ],
       "children": [
        "IPY_MODEL_ce929c0eabe84bd2b5b918ec540ba038",
        "IPY_MODEL_0f4e632efdfd4f09a3cb0c86bbd0418e"
       ],
       "layout": "IPY_MODEL_5db0bcf9dbad498884ea7a0c838c455d"
      }
     },
     "c3ede32cfb44478bb422657c9d6e6aa3": {
      "model_module": "@jupyter-widgets/base",
      "model_module_version": "1.2.0",
      "model_name": "LayoutModel",
      "state": {}
     },
     "c52aea30be13465185f3b345bb9e6c42": {
      "model_module": "@jupyter-widgets/base",
      "model_module_version": "1.2.0",
      "model_name": "LayoutModel",
      "state": {}
     },
     "ce929c0eabe84bd2b5b918ec540ba038": {
      "model_module": "@jupyter-widgets/controls",
      "model_module_version": "1.5.0",
      "model_name": "DropdownModel",
      "state": {
       "_options_labels": [
        "Accent",
        "Accent_r",
        "Blues",
        "Blues_r",
        "BrBG",
        "BrBG_r",
        "BuGn",
        "BuGn_r",
        "BuPu",
        "BuPu_r",
        "CMRmap",
        "CMRmap_r",
        "Dark2",
        "Dark2_r",
        "GnBu",
        "GnBu_r",
        "Greens",
        "Greens_r",
        "Greys",
        "Greys_r",
        "OrRd",
        "OrRd_r",
        "Oranges",
        "Oranges_r",
        "PRGn",
        "PRGn_r",
        "Paired",
        "Paired_r",
        "Pastel1",
        "Pastel1_r",
        "Pastel2",
        "Pastel2_r",
        "PiYG",
        "PiYG_r",
        "PuBu",
        "PuBuGn",
        "PuBuGn_r",
        "PuBu_r",
        "PuOr",
        "PuOr_r",
        "PuRd",
        "PuRd_r",
        "Purples",
        "Purples_r",
        "RdBu",
        "RdBu_r",
        "RdGy",
        "RdGy_r",
        "RdPu",
        "RdPu_r",
        "RdYlBu",
        "RdYlBu_r",
        "RdYlGn",
        "RdYlGn_r",
        "Reds",
        "Reds_r",
        "Set1",
        "Set1_r",
        "Set2",
        "Set2_r",
        "Set3",
        "Set3_r",
        "Spectral",
        "Spectral_r",
        "Wistia",
        "Wistia_r",
        "YlGn",
        "YlGnBu",
        "YlGnBu_r",
        "YlGn_r",
        "YlOrBr",
        "YlOrBr_r",
        "YlOrRd",
        "YlOrRd_r",
        "afmhot",
        "afmhot_r",
        "autumn",
        "autumn_r",
        "binary",
        "binary_r",
        "bone",
        "bone_r",
        "brg",
        "brg_r",
        "bwr",
        "bwr_r",
        "cividis",
        "cividis_r",
        "cool",
        "cool_r",
        "coolwarm",
        "coolwarm_r",
        "copper",
        "copper_r",
        "crest",
        "crest_r",
        "cubehelix",
        "cubehelix_r",
        "flag",
        "flag_r",
        "flare",
        "flare_r",
        "gist_earth",
        "gist_earth_r",
        "gist_gray",
        "gist_gray_r",
        "gist_heat",
        "gist_heat_r",
        "gist_ncar",
        "gist_ncar_r",
        "gist_rainbow",
        "gist_rainbow_r",
        "gist_stern",
        "gist_stern_r",
        "gist_yarg",
        "gist_yarg_r",
        "gnuplot",
        "gnuplot2",
        "gnuplot2_r",
        "gnuplot_r",
        "gray",
        "gray_r",
        "hot",
        "hot_r",
        "hsv",
        "hsv_r",
        "icefire",
        "icefire_r",
        "inferno",
        "inferno_r",
        "jet",
        "jet_r",
        "magma",
        "magma_r",
        "mako",
        "mako_r",
        "nipy_spectral",
        "nipy_spectral_r",
        "ocean",
        "ocean_r",
        "pink",
        "pink_r",
        "plasma",
        "plasma_r",
        "prism",
        "prism_r",
        "rainbow",
        "rainbow_r",
        "rocket",
        "rocket_r",
        "seismic",
        "seismic_r",
        "spring",
        "spring_r",
        "summer",
        "summer_r",
        "tab10",
        "tab10_r",
        "tab20",
        "tab20_r",
        "tab20b",
        "tab20b_r",
        "tab20c",
        "tab20c_r",
        "terrain",
        "terrain_r",
        "turbo",
        "turbo_r",
        "twilight",
        "twilight_r",
        "twilight_shifted",
        "twilight_shifted_r",
        "viridis",
        "viridis_r",
        "vlag",
        "vlag_r",
        "winter",
        "winter_r"
       ],
       "description": "colors",
       "index": 67,
       "layout": "IPY_MODEL_06fa8ac2fef64762b9409af503d1c03d",
       "style": "IPY_MODEL_f08f4844e9204428bb8e6cf81efbadd3"
      }
     },
     "d3d8a73b47b1425e90fe68bec81a03ff": {
      "model_module": "@jupyter-widgets/base",
      "model_module_version": "1.2.0",
      "model_name": "LayoutModel",
      "state": {}
     },
     "d47b6a6e43f74ddda1b3c9a725da323a": {
      "model_module": "@jupyter-widgets/base",
      "model_module_version": "1.2.0",
      "model_name": "LayoutModel",
      "state": {}
     },
     "d81335313eea43328c4610031fca2167": {
      "model_module": "@jupyter-widgets/base",
      "model_module_version": "1.2.0",
      "model_name": "LayoutModel",
      "state": {}
     },
     "dda00ad573df4dbc98fc321abba719cc": {
      "model_module": "@jupyter-widgets/controls",
      "model_module_version": "1.5.0",
      "model_name": "DropdownModel",
      "state": {
       "_options_labels": [
        "Accent",
        "Accent_r",
        "Blues",
        "Blues_r",
        "BrBG",
        "BrBG_r",
        "BuGn",
        "BuGn_r",
        "BuPu",
        "BuPu_r",
        "CMRmap",
        "CMRmap_r",
        "Dark2",
        "Dark2_r",
        "GnBu",
        "GnBu_r",
        "Greens",
        "Greens_r",
        "Greys",
        "Greys_r",
        "OrRd",
        "OrRd_r",
        "Oranges",
        "Oranges_r",
        "PRGn",
        "PRGn_r",
        "Paired",
        "Paired_r",
        "Pastel1",
        "Pastel1_r",
        "Pastel2",
        "Pastel2_r",
        "PiYG",
        "PiYG_r",
        "PuBu",
        "PuBuGn",
        "PuBuGn_r",
        "PuBu_r",
        "PuOr",
        "PuOr_r",
        "PuRd",
        "PuRd_r",
        "Purples",
        "Purples_r",
        "RdBu",
        "RdBu_r",
        "RdGy",
        "RdGy_r",
        "RdPu",
        "RdPu_r",
        "RdYlBu",
        "RdYlBu_r",
        "RdYlGn",
        "RdYlGn_r",
        "Reds",
        "Reds_r",
        "Set1",
        "Set1_r",
        "Set2",
        "Set2_r",
        "Set3",
        "Set3_r",
        "Spectral",
        "Spectral_r",
        "Wistia",
        "Wistia_r",
        "YlGn",
        "YlGnBu",
        "YlGnBu_r",
        "YlGn_r",
        "YlOrBr",
        "YlOrBr_r",
        "YlOrRd",
        "YlOrRd_r",
        "afmhot",
        "afmhot_r",
        "autumn",
        "autumn_r",
        "binary",
        "binary_r",
        "bone",
        "bone_r",
        "brg",
        "brg_r",
        "bwr",
        "bwr_r",
        "cividis",
        "cividis_r",
        "cool",
        "cool_r",
        "coolwarm",
        "coolwarm_r",
        "copper",
        "copper_r",
        "crest",
        "crest_r",
        "cubehelix",
        "cubehelix_r",
        "flag",
        "flag_r",
        "flare",
        "flare_r",
        "gist_earth",
        "gist_earth_r",
        "gist_gray",
        "gist_gray_r",
        "gist_heat",
        "gist_heat_r",
        "gist_ncar",
        "gist_ncar_r",
        "gist_rainbow",
        "gist_rainbow_r",
        "gist_stern",
        "gist_stern_r",
        "gist_yarg",
        "gist_yarg_r",
        "gnuplot",
        "gnuplot2",
        "gnuplot2_r",
        "gnuplot_r",
        "gray",
        "gray_r",
        "hot",
        "hot_r",
        "hsv",
        "hsv_r",
        "icefire",
        "icefire_r",
        "inferno",
        "inferno_r",
        "jet",
        "jet_r",
        "magma",
        "magma_r",
        "mako",
        "mako_r",
        "nipy_spectral",
        "nipy_spectral_r",
        "ocean",
        "ocean_r",
        "pink",
        "pink_r",
        "plasma",
        "plasma_r",
        "prism",
        "prism_r",
        "rainbow",
        "rainbow_r",
        "rocket",
        "rocket_r",
        "seismic",
        "seismic_r",
        "spring",
        "spring_r",
        "summer",
        "summer_r",
        "tab10",
        "tab10_r",
        "tab20",
        "tab20_r",
        "tab20b",
        "tab20b_r",
        "tab20c",
        "tab20c_r",
        "terrain",
        "terrain_r",
        "turbo",
        "turbo_r",
        "twilight",
        "twilight_r",
        "twilight_shifted",
        "twilight_shifted_r",
        "viridis",
        "viridis_r",
        "vlag",
        "vlag_r",
        "winter",
        "winter_r"
       ],
       "description": "colors",
       "index": 67,
       "layout": "IPY_MODEL_d81335313eea43328c4610031fca2167",
       "style": "IPY_MODEL_e1c49bdec4d042d3b8e8cf84721d492c"
      }
     },
     "e1c49bdec4d042d3b8e8cf84721d492c": {
      "model_module": "@jupyter-widgets/controls",
      "model_module_version": "1.5.0",
      "model_name": "DescriptionStyleModel",
      "state": {
       "description_width": ""
      }
     },
     "e261f3f06be24d7b9c20dc4b2f4b6afa": {
      "model_module": "@jupyter-widgets/controls",
      "model_module_version": "1.5.0",
      "model_name": "VBoxModel",
      "state": {
       "_dom_classes": [
        "widget-interact"
       ],
       "children": [
        "IPY_MODEL_1653bc8555ca416a9f89ac33f32f5831",
        "IPY_MODEL_aa834156ad1b424db660e313bf2e78c5"
       ],
       "layout": "IPY_MODEL_e4e40053e58944b3b1f6438fb03665a8"
      }
     },
     "e2ea7124ebd844f59e4f86b8a5bfcd79": {
      "model_module": "@jupyter-widgets/base",
      "model_module_version": "1.2.0",
      "model_name": "LayoutModel",
      "state": {}
     },
     "e4b31c8a66fb4b7f8f747865e7226118": {
      "model_module": "@jupyter-widgets/controls",
      "model_module_version": "1.5.0",
      "model_name": "DropdownModel",
      "state": {
       "_options_labels": [
        "Accent",
        "Accent_r",
        "Blues",
        "Blues_r",
        "BrBG",
        "BrBG_r",
        "BuGn",
        "BuGn_r",
        "BuPu",
        "BuPu_r",
        "CMRmap",
        "CMRmap_r",
        "Dark2",
        "Dark2_r",
        "GnBu",
        "GnBu_r",
        "Greens",
        "Greens_r",
        "Greys",
        "Greys_r",
        "OrRd",
        "OrRd_r",
        "Oranges",
        "Oranges_r",
        "PRGn",
        "PRGn_r",
        "Paired",
        "Paired_r",
        "Pastel1",
        "Pastel1_r",
        "Pastel2",
        "Pastel2_r",
        "PiYG",
        "PiYG_r",
        "PuBu",
        "PuBuGn",
        "PuBuGn_r",
        "PuBu_r",
        "PuOr",
        "PuOr_r",
        "PuRd",
        "PuRd_r",
        "Purples",
        "Purples_r",
        "RdBu",
        "RdBu_r",
        "RdGy",
        "RdGy_r",
        "RdPu",
        "RdPu_r",
        "RdYlBu",
        "RdYlBu_r",
        "RdYlGn",
        "RdYlGn_r",
        "Reds",
        "Reds_r",
        "Set1",
        "Set1_r",
        "Set2",
        "Set2_r",
        "Set3",
        "Set3_r",
        "Spectral",
        "Spectral_r",
        "Wistia",
        "Wistia_r",
        "YlGn",
        "YlGnBu",
        "YlGnBu_r",
        "YlGn_r",
        "YlOrBr",
        "YlOrBr_r",
        "YlOrRd",
        "YlOrRd_r",
        "afmhot",
        "afmhot_r",
        "autumn",
        "autumn_r",
        "binary",
        "binary_r",
        "bone",
        "bone_r",
        "brg",
        "brg_r",
        "bwr",
        "bwr_r",
        "cividis",
        "cividis_r",
        "cool",
        "cool_r",
        "coolwarm",
        "coolwarm_r",
        "copper",
        "copper_r",
        "crest",
        "crest_r",
        "cubehelix",
        "cubehelix_r",
        "flag",
        "flag_r",
        "flare",
        "flare_r",
        "gist_earth",
        "gist_earth_r",
        "gist_gray",
        "gist_gray_r",
        "gist_heat",
        "gist_heat_r",
        "gist_ncar",
        "gist_ncar_r",
        "gist_rainbow",
        "gist_rainbow_r",
        "gist_stern",
        "gist_stern_r",
        "gist_yarg",
        "gist_yarg_r",
        "gnuplot",
        "gnuplot2",
        "gnuplot2_r",
        "gnuplot_r",
        "gray",
        "gray_r",
        "hot",
        "hot_r",
        "hsv",
        "hsv_r",
        "icefire",
        "icefire_r",
        "inferno",
        "inferno_r",
        "jet",
        "jet_r",
        "magma",
        "magma_r",
        "mako",
        "mako_r",
        "nipy_spectral",
        "nipy_spectral_r",
        "ocean",
        "ocean_r",
        "pink",
        "pink_r",
        "plasma",
        "plasma_r",
        "prism",
        "prism_r",
        "rainbow",
        "rainbow_r",
        "rocket",
        "rocket_r",
        "seismic",
        "seismic_r",
        "spring",
        "spring_r",
        "summer",
        "summer_r",
        "tab10",
        "tab10_r",
        "tab20",
        "tab20_r",
        "tab20b",
        "tab20b_r",
        "tab20c",
        "tab20c_r",
        "terrain",
        "terrain_r",
        "turbo",
        "turbo_r",
        "twilight",
        "twilight_r",
        "twilight_shifted",
        "twilight_shifted_r",
        "viridis",
        "viridis_r",
        "vlag",
        "vlag_r",
        "winter",
        "winter_r"
       ],
       "description": "colors",
       "index": 69,
       "layout": "IPY_MODEL_2d2f709f7ba64a18871bb9a27a57e6b9",
       "style": "IPY_MODEL_5bc4ea0d7b674dc98d6fb95c1dea3fda"
      }
     },
     "e4e40053e58944b3b1f6438fb03665a8": {
      "model_module": "@jupyter-widgets/base",
      "model_module_version": "1.2.0",
      "model_name": "LayoutModel",
      "state": {}
     },
     "e93e1dba5f1543eda5747d02eb28dbb7": {
      "model_module": "@jupyter-widgets/base",
      "model_module_version": "1.2.0",
      "model_name": "LayoutModel",
      "state": {}
     },
     "ed2b66cf5e3d4ae0a54ac6711d866d1f": {
      "model_module": "@jupyter-widgets/output",
      "model_module_version": "1.0.0",
      "model_name": "OutputModel",
      "state": {
       "layout": "IPY_MODEL_58132b79f4644671ac99e8dd8bee921a",
       "outputs": [
        {
         "data": {
          "image/png": "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\n",
          "text/plain": "<Figure size 576x576 with 1 Axes>"
         },
         "metadata": {
          "needs_background": "light"
         },
         "output_type": "display_data"
        }
       ]
      }
     },
     "ef3f2a8f2a6e4e6d80cd5c0d85f91160": {
      "model_module": "@jupyter-widgets/controls",
      "model_module_version": "1.5.0",
      "model_name": "DropdownModel",
      "state": {
       "_options_labels": [
        "Accent",
        "Accent_r",
        "Blues",
        "Blues_r",
        "BrBG",
        "BrBG_r",
        "BuGn",
        "BuGn_r",
        "BuPu",
        "BuPu_r",
        "CMRmap",
        "CMRmap_r",
        "Dark2",
        "Dark2_r",
        "GnBu",
        "GnBu_r",
        "Greens",
        "Greens_r",
        "Greys",
        "Greys_r",
        "OrRd",
        "OrRd_r",
        "Oranges",
        "Oranges_r",
        "PRGn",
        "PRGn_r",
        "Paired",
        "Paired_r",
        "Pastel1",
        "Pastel1_r",
        "Pastel2",
        "Pastel2_r",
        "PiYG",
        "PiYG_r",
        "PuBu",
        "PuBuGn",
        "PuBuGn_r",
        "PuBu_r",
        "PuOr",
        "PuOr_r",
        "PuRd",
        "PuRd_r",
        "Purples",
        "Purples_r",
        "RdBu",
        "RdBu_r",
        "RdGy",
        "RdGy_r",
        "RdPu",
        "RdPu_r",
        "RdYlBu",
        "RdYlBu_r",
        "RdYlGn",
        "RdYlGn_r",
        "Reds",
        "Reds_r",
        "Set1",
        "Set1_r",
        "Set2",
        "Set2_r",
        "Set3",
        "Set3_r",
        "Spectral",
        "Spectral_r",
        "Wistia",
        "Wistia_r",
        "YlGn",
        "YlGnBu",
        "YlGnBu_r",
        "YlGn_r",
        "YlOrBr",
        "YlOrBr_r",
        "YlOrRd",
        "YlOrRd_r",
        "afmhot",
        "afmhot_r",
        "autumn",
        "autumn_r",
        "binary",
        "binary_r",
        "bone",
        "bone_r",
        "brg",
        "brg_r",
        "bwr",
        "bwr_r",
        "cividis",
        "cividis_r",
        "cool",
        "cool_r",
        "coolwarm",
        "coolwarm_r",
        "copper",
        "copper_r",
        "crest",
        "crest_r",
        "cubehelix",
        "cubehelix_r",
        "flag",
        "flag_r",
        "flare",
        "flare_r",
        "gist_earth",
        "gist_earth_r",
        "gist_gray",
        "gist_gray_r",
        "gist_heat",
        "gist_heat_r",
        "gist_ncar",
        "gist_ncar_r",
        "gist_rainbow",
        "gist_rainbow_r",
        "gist_stern",
        "gist_stern_r",
        "gist_yarg",
        "gist_yarg_r",
        "gnuplot",
        "gnuplot2",
        "gnuplot2_r",
        "gnuplot_r",
        "gray",
        "gray_r",
        "hot",
        "hot_r",
        "hsv",
        "hsv_r",
        "icefire",
        "icefire_r",
        "inferno",
        "inferno_r",
        "jet",
        "jet_r",
        "magma",
        "magma_r",
        "mako",
        "mako_r",
        "nipy_spectral",
        "nipy_spectral_r",
        "ocean",
        "ocean_r",
        "pink",
        "pink_r",
        "plasma",
        "plasma_r",
        "prism",
        "prism_r",
        "rainbow",
        "rainbow_r",
        "rocket",
        "rocket_r",
        "seismic",
        "seismic_r",
        "spring",
        "spring_r",
        "summer",
        "summer_r",
        "tab10",
        "tab10_r",
        "tab20",
        "tab20_r",
        "tab20b",
        "tab20b_r",
        "tab20c",
        "tab20c_r",
        "terrain",
        "terrain_r",
        "turbo",
        "turbo_r",
        "twilight",
        "twilight_r",
        "twilight_shifted",
        "twilight_shifted_r",
        "viridis",
        "viridis_r",
        "vlag",
        "vlag_r",
        "winter",
        "winter_r"
       ],
       "description": "colors",
       "index": 67,
       "layout": "IPY_MODEL_1994703434694ee0b4da10a3c602037e",
       "style": "IPY_MODEL_0dff87b44bd54e35b13f417c0b99e5ed"
      }
     },
     "f08f4844e9204428bb8e6cf81efbadd3": {
      "model_module": "@jupyter-widgets/controls",
      "model_module_version": "1.5.0",
      "model_name": "DescriptionStyleModel",
      "state": {
       "description_width": ""
      }
     },
     "f75ccf3e8caa45808736b0bc42831bb4": {
      "model_module": "@jupyter-widgets/controls",
      "model_module_version": "1.5.0",
      "model_name": "DropdownModel",
      "state": {
       "_options_labels": [
        "Boston",
        "Chicago",
        "Cleveland",
        "Denver",
        "Houston",
        "Los Angeles",
        "Miami",
        "New York City",
        "San Francisco",
        "Seattle"
       ],
       "description": "city",
       "index": 0,
       "layout": "IPY_MODEL_e93e1dba5f1543eda5747d02eb28dbb7",
       "style": "IPY_MODEL_a38fb22eccc94d539f17d03f12048010"
      }
     },
     "f80ca22860fe4435a46ce901b9917b9e": {
      "model_module": "@jupyter-widgets/controls",
      "model_module_version": "1.5.0",
      "model_name": "DescriptionStyleModel",
      "state": {
       "description_width": ""
      }
     },
     "f97e7072511c4a1c9fe230d11c0283c9": {
      "model_module": "@jupyter-widgets/controls",
      "model_module_version": "1.5.0",
      "model_name": "VBoxModel",
      "state": {
       "_dom_classes": [
        "widget-interact"
       ],
       "children": [
        "IPY_MODEL_ef3f2a8f2a6e4e6d80cd5c0d85f91160",
        "IPY_MODEL_70a758158c844fc290dcdb660ad2e7fe"
       ],
       "layout": "IPY_MODEL_735e38e264ed404b8fedbdc3b489247d"
      }
     },
     "fa502e8bf21e44a9a3bede24e6e18f32": {
      "model_module": "@jupyter-widgets/controls",
      "model_module_version": "1.5.0",
      "model_name": "VBoxModel",
      "state": {
       "_dom_classes": [
        "widget-interact"
       ],
       "children": [
        "IPY_MODEL_f75ccf3e8caa45808736b0bc42831bb4",
        "IPY_MODEL_085b5aa4cc89409db69914d94f2ab4f8"
       ],
       "layout": "IPY_MODEL_94ec9b89c42c4e0e983d3e57ca13bc18"
      }
     },
     "fda8289c4c8b46358f8ec173dba0dbc5": {
      "model_module": "@jupyter-widgets/base",
      "model_module_version": "1.2.0",
      "model_name": "LayoutModel",
      "state": {}
     }
    },
    "version_major": 2,
    "version_minor": 0
   }
  }
 },
 "nbformat": 4,
 "nbformat_minor": 4
}
